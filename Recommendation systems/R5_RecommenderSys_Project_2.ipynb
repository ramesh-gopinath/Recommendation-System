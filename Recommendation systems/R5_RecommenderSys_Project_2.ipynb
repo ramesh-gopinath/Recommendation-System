{
 "cells": [
  {
   "cell_type": "markdown",
   "metadata": {},
   "source": [
    "## Project - Recommendation system ( Due: 9-Feb-2020) "
   ]
  },
  {
   "cell_type": "markdown",
   "metadata": {},
   "source": [
    "### Problem Statement\n",
    "* Build your **own recommendation system** for products on an e-commerce website like Amazon.com.\n",
    "* **Dataset Link** - https://drive.google.com/file/d/1ClBptsK3V5KgKXtK2GSRzFNAW7GnTPDW/view?usp=sharing\n",
    "* **Dataset columns** - first three columns are **userId, productId, and ratings** and the fourth column is **timestamp**. You can discard the timestamp column as in this case you may not need to use it.\n",
    "* **Source** - Amazon Reviews data (http://jmcauley.ucsd.edu/data/amazon/) The repository has several datasets. For this case study, we are using the Electronics dataset."
   ]
  },
  {
   "cell_type": "markdown",
   "metadata": {},
   "source": [
    "### 1. Read and explore the given dataset. \n",
    "(Rename column/add headers, plot histograms, find data characteristics)"
   ]
  },
  {
   "cell_type": "code",
   "execution_count": 1,
   "metadata": {},
   "outputs": [],
   "source": [
    "from IPython.core.interactiveshell import InteractiveShell\n",
    "InteractiveShell.ast_node_interactivity = \"all\"\n",
    "import pandas as pd\n",
    "import numpy as np\n",
    "\n",
    "import matplotlib.pyplot as plt\n",
    "import seaborn as sns\n",
    "%matplotlib inline"
   ]
  },
  {
   "cell_type": "code",
   "execution_count": 2,
   "metadata": {},
   "outputs": [],
   "source": [
    "# Ensure that we do not lose the first row, hence make header none\n",
    "ratings_elec = pd.read_csv('ratings_Electronics.csv', header=None)"
   ]
  },
  {
   "cell_type": "code",
   "execution_count": 3,
   "metadata": {},
   "outputs": [
    {
     "data": {
      "text/html": [
       "<div>\n",
       "<style scoped>\n",
       "    .dataframe tbody tr th:only-of-type {\n",
       "        vertical-align: middle;\n",
       "    }\n",
       "\n",
       "    .dataframe tbody tr th {\n",
       "        vertical-align: top;\n",
       "    }\n",
       "\n",
       "    .dataframe thead th {\n",
       "        text-align: right;\n",
       "    }\n",
       "</style>\n",
       "<table border=\"1\" class=\"dataframe\">\n",
       "  <thead>\n",
       "    <tr style=\"text-align: right;\">\n",
       "      <th></th>\n",
       "      <th>0</th>\n",
       "      <th>1</th>\n",
       "      <th>2</th>\n",
       "      <th>3</th>\n",
       "    </tr>\n",
       "  </thead>\n",
       "  <tbody>\n",
       "    <tr>\n",
       "      <td>0</td>\n",
       "      <td>AKM1MP6P0OYPR</td>\n",
       "      <td>0132793040</td>\n",
       "      <td>5.0</td>\n",
       "      <td>1365811200</td>\n",
       "    </tr>\n",
       "    <tr>\n",
       "      <td>1</td>\n",
       "      <td>A2CX7LUOHB2NDG</td>\n",
       "      <td>0321732944</td>\n",
       "      <td>5.0</td>\n",
       "      <td>1341100800</td>\n",
       "    </tr>\n",
       "    <tr>\n",
       "      <td>2</td>\n",
       "      <td>A2NWSAGRHCP8N5</td>\n",
       "      <td>0439886341</td>\n",
       "      <td>1.0</td>\n",
       "      <td>1367193600</td>\n",
       "    </tr>\n",
       "    <tr>\n",
       "      <td>3</td>\n",
       "      <td>A2WNBOD3WNDNKT</td>\n",
       "      <td>0439886341</td>\n",
       "      <td>3.0</td>\n",
       "      <td>1374451200</td>\n",
       "    </tr>\n",
       "    <tr>\n",
       "      <td>4</td>\n",
       "      <td>A1GI0U4ZRJA8WN</td>\n",
       "      <td>0439886341</td>\n",
       "      <td>1.0</td>\n",
       "      <td>1334707200</td>\n",
       "    </tr>\n",
       "  </tbody>\n",
       "</table>\n",
       "</div>"
      ],
      "text/plain": [
       "                0           1    2           3\n",
       "0   AKM1MP6P0OYPR  0132793040  5.0  1365811200\n",
       "1  A2CX7LUOHB2NDG  0321732944  5.0  1341100800\n",
       "2  A2NWSAGRHCP8N5  0439886341  1.0  1367193600\n",
       "3  A2WNBOD3WNDNKT  0439886341  3.0  1374451200\n",
       "4  A1GI0U4ZRJA8WN  0439886341  1.0  1334707200"
      ]
     },
     "execution_count": 3,
     "metadata": {},
     "output_type": "execute_result"
    }
   ],
   "source": [
    "ratings_elec.head()"
   ]
  },
  {
   "cell_type": "code",
   "execution_count": 4,
   "metadata": {},
   "outputs": [],
   "source": [
    "# Rename the columns based on the project document\n",
    "ratings_elec.rename(columns={0: \"userID\", 1: \"itemID\", 2: \"elecRating\", 3:\"timestamp\"}, inplace=True)"
   ]
  },
  {
   "cell_type": "code",
   "execution_count": 5,
   "metadata": {},
   "outputs": [
    {
     "data": {
      "text/html": [
       "<div>\n",
       "<style scoped>\n",
       "    .dataframe tbody tr th:only-of-type {\n",
       "        vertical-align: middle;\n",
       "    }\n",
       "\n",
       "    .dataframe tbody tr th {\n",
       "        vertical-align: top;\n",
       "    }\n",
       "\n",
       "    .dataframe thead th {\n",
       "        text-align: right;\n",
       "    }\n",
       "</style>\n",
       "<table border=\"1\" class=\"dataframe\">\n",
       "  <thead>\n",
       "    <tr style=\"text-align: right;\">\n",
       "      <th></th>\n",
       "      <th>userID</th>\n",
       "      <th>itemID</th>\n",
       "      <th>elecRating</th>\n",
       "      <th>timestamp</th>\n",
       "    </tr>\n",
       "  </thead>\n",
       "  <tbody>\n",
       "    <tr>\n",
       "      <td>0</td>\n",
       "      <td>AKM1MP6P0OYPR</td>\n",
       "      <td>0132793040</td>\n",
       "      <td>5.0</td>\n",
       "      <td>1365811200</td>\n",
       "    </tr>\n",
       "    <tr>\n",
       "      <td>1</td>\n",
       "      <td>A2CX7LUOHB2NDG</td>\n",
       "      <td>0321732944</td>\n",
       "      <td>5.0</td>\n",
       "      <td>1341100800</td>\n",
       "    </tr>\n",
       "    <tr>\n",
       "      <td>2</td>\n",
       "      <td>A2NWSAGRHCP8N5</td>\n",
       "      <td>0439886341</td>\n",
       "      <td>1.0</td>\n",
       "      <td>1367193600</td>\n",
       "    </tr>\n",
       "    <tr>\n",
       "      <td>3</td>\n",
       "      <td>A2WNBOD3WNDNKT</td>\n",
       "      <td>0439886341</td>\n",
       "      <td>3.0</td>\n",
       "      <td>1374451200</td>\n",
       "    </tr>\n",
       "    <tr>\n",
       "      <td>4</td>\n",
       "      <td>A1GI0U4ZRJA8WN</td>\n",
       "      <td>0439886341</td>\n",
       "      <td>1.0</td>\n",
       "      <td>1334707200</td>\n",
       "    </tr>\n",
       "  </tbody>\n",
       "</table>\n",
       "</div>"
      ],
      "text/plain": [
       "           userID      itemID  elecRating   timestamp\n",
       "0   AKM1MP6P0OYPR  0132793040         5.0  1365811200\n",
       "1  A2CX7LUOHB2NDG  0321732944         5.0  1341100800\n",
       "2  A2NWSAGRHCP8N5  0439886341         1.0  1367193600\n",
       "3  A2WNBOD3WNDNKT  0439886341         3.0  1374451200\n",
       "4  A1GI0U4ZRJA8WN  0439886341         1.0  1334707200"
      ]
     },
     "execution_count": 5,
     "metadata": {},
     "output_type": "execute_result"
    }
   ],
   "source": [
    "ratings_elec.head()"
   ]
  },
  {
   "cell_type": "code",
   "execution_count": 6,
   "metadata": {},
   "outputs": [
    {
     "name": "stdout",
     "output_type": "stream",
     "text": [
      "<class 'pandas.core.frame.DataFrame'>\n",
      "RangeIndex: 7824482 entries, 0 to 7824481\n",
      "Data columns (total 4 columns):\n",
      "userID        object\n",
      "itemID        object\n",
      "elecRating    float64\n",
      "timestamp     int64\n",
      "dtypes: float64(1), int64(1), object(2)\n",
      "memory usage: 238.8+ MB\n"
     ]
    }
   ],
   "source": [
    "ratings_elec.info()"
   ]
  },
  {
   "cell_type": "markdown",
   "metadata": {},
   "source": [
    "> * Rating the only categorical column. User id and Item ID are identifiers\n",
    "> * Drop the timestamp column as it is not useful for the recommendation"
   ]
  },
  {
   "cell_type": "code",
   "execution_count": 7,
   "metadata": {},
   "outputs": [],
   "source": [
    "ratings_elec.drop(['timestamp'], axis=1, inplace=True)"
   ]
  },
  {
   "cell_type": "code",
   "execution_count": 8,
   "metadata": {},
   "outputs": [
    {
     "data": {
      "text/html": [
       "<div>\n",
       "<style scoped>\n",
       "    .dataframe tbody tr th:only-of-type {\n",
       "        vertical-align: middle;\n",
       "    }\n",
       "\n",
       "    .dataframe tbody tr th {\n",
       "        vertical-align: top;\n",
       "    }\n",
       "\n",
       "    .dataframe thead th {\n",
       "        text-align: right;\n",
       "    }\n",
       "</style>\n",
       "<table border=\"1\" class=\"dataframe\">\n",
       "  <thead>\n",
       "    <tr style=\"text-align: right;\">\n",
       "      <th></th>\n",
       "      <th>userID</th>\n",
       "      <th>itemID</th>\n",
       "      <th>elecRating</th>\n",
       "    </tr>\n",
       "  </thead>\n",
       "  <tbody>\n",
       "    <tr>\n",
       "      <td>0</td>\n",
       "      <td>AKM1MP6P0OYPR</td>\n",
       "      <td>0132793040</td>\n",
       "      <td>5.0</td>\n",
       "    </tr>\n",
       "    <tr>\n",
       "      <td>1</td>\n",
       "      <td>A2CX7LUOHB2NDG</td>\n",
       "      <td>0321732944</td>\n",
       "      <td>5.0</td>\n",
       "    </tr>\n",
       "    <tr>\n",
       "      <td>2</td>\n",
       "      <td>A2NWSAGRHCP8N5</td>\n",
       "      <td>0439886341</td>\n",
       "      <td>1.0</td>\n",
       "    </tr>\n",
       "    <tr>\n",
       "      <td>3</td>\n",
       "      <td>A2WNBOD3WNDNKT</td>\n",
       "      <td>0439886341</td>\n",
       "      <td>3.0</td>\n",
       "    </tr>\n",
       "    <tr>\n",
       "      <td>4</td>\n",
       "      <td>A1GI0U4ZRJA8WN</td>\n",
       "      <td>0439886341</td>\n",
       "      <td>1.0</td>\n",
       "    </tr>\n",
       "  </tbody>\n",
       "</table>\n",
       "</div>"
      ],
      "text/plain": [
       "           userID      itemID  elecRating\n",
       "0   AKM1MP6P0OYPR  0132793040         5.0\n",
       "1  A2CX7LUOHB2NDG  0321732944         5.0\n",
       "2  A2NWSAGRHCP8N5  0439886341         1.0\n",
       "3  A2WNBOD3WNDNKT  0439886341         3.0\n",
       "4  A1GI0U4ZRJA8WN  0439886341         1.0"
      ]
     },
     "execution_count": 8,
     "metadata": {},
     "output_type": "execute_result"
    }
   ],
   "source": [
    "ratings_elec.head()"
   ]
  },
  {
   "cell_type": "code",
   "execution_count": 9,
   "metadata": {},
   "outputs": [
    {
     "name": "stdout",
     "output_type": "stream",
     "text": [
      "<class 'pandas.core.frame.DataFrame'>\n",
      "RangeIndex: 7824482 entries, 0 to 7824481\n",
      "Data columns (total 3 columns):\n",
      "userID        object\n",
      "itemID        object\n",
      "elecRating    float64\n",
      "dtypes: float64(1), object(2)\n",
      "memory usage: 179.1+ MB\n"
     ]
    }
   ],
   "source": [
    "ratings_elec.info()"
   ]
  },
  {
   "cell_type": "code",
   "execution_count": 10,
   "metadata": {},
   "outputs": [
    {
     "data": {
      "text/html": [
       "<div>\n",
       "<style scoped>\n",
       "    .dataframe tbody tr th:only-of-type {\n",
       "        vertical-align: middle;\n",
       "    }\n",
       "\n",
       "    .dataframe tbody tr th {\n",
       "        vertical-align: top;\n",
       "    }\n",
       "\n",
       "    .dataframe thead th {\n",
       "        text-align: right;\n",
       "    }\n",
       "</style>\n",
       "<table border=\"1\" class=\"dataframe\">\n",
       "  <thead>\n",
       "    <tr style=\"text-align: right;\">\n",
       "      <th></th>\n",
       "      <th>count</th>\n",
       "      <th>mean</th>\n",
       "      <th>std</th>\n",
       "      <th>min</th>\n",
       "      <th>25%</th>\n",
       "      <th>50%</th>\n",
       "      <th>75%</th>\n",
       "      <th>max</th>\n",
       "    </tr>\n",
       "  </thead>\n",
       "  <tbody>\n",
       "    <tr>\n",
       "      <td>elecRating</td>\n",
       "      <td>7824482.0</td>\n",
       "      <td>4.012337</td>\n",
       "      <td>1.38091</td>\n",
       "      <td>1.0</td>\n",
       "      <td>3.0</td>\n",
       "      <td>5.0</td>\n",
       "      <td>5.0</td>\n",
       "      <td>5.0</td>\n",
       "    </tr>\n",
       "  </tbody>\n",
       "</table>\n",
       "</div>"
      ],
      "text/plain": [
       "                count      mean      std  min  25%  50%  75%  max\n",
       "elecRating  7824482.0  4.012337  1.38091  1.0  3.0  5.0  5.0  5.0"
      ]
     },
     "execution_count": 10,
     "metadata": {},
     "output_type": "execute_result"
    }
   ],
   "source": [
    "ratings_elec.describe().transpose()"
   ]
  },
  {
   "cell_type": "code",
   "execution_count": 11,
   "metadata": {},
   "outputs": [
    {
     "data": {
      "text/plain": [
       "<matplotlib.axes._subplots.AxesSubplot at 0x1a23b08ed0>"
      ]
     },
     "execution_count": 11,
     "metadata": {},
     "output_type": "execute_result"
    },
    {
     "data": {
      "image/png": "[encoded data removed]",
      "text/plain": [
       "<Figure size 432x288 with 1 Axes>"
      ]
     },
     "metadata": {},
     "output_type": "display_data"
    }
   ],
   "source": [
    "import seaborn as sns\n",
    "sns.set(style=\"whitegrid\")\n",
    "sns.boxplot(x=ratings_elec['elecRating'])"
   ]
  },
  {
   "cell_type": "code",
   "execution_count": 12,
   "metadata": {},
   "outputs": [
    {
     "data": {
      "text/plain": [
       "<matplotlib.axes._subplots.AxesSubplot at 0x1a24552350>"
      ]
     },
     "execution_count": 12,
     "metadata": {},
     "output_type": "execute_result"
    },
    {
     "data": {
      "image/png": "[encoded data removed]",
      "text/plain": [
       "<Figure size 432x288 with 1 Axes>"
      ]
     },
     "metadata": {},
     "output_type": "display_data"
    }
   ],
   "source": [
    "# Histogram of ratings...\n",
    "# sns.pairplot(ratings_elec, diag_kind='hist')\n",
    "import pandas as pd\n",
    "x = pd.Series(ratings_elec['elecRating'], name=\"Electronic Ratings\")\n",
    "sns.distplot(x)"
   ]
  },
  {
   "cell_type": "markdown",
   "metadata": {},
   "source": [
    "> * Maximum number of customers have rated 5 followed by 4 for the electronic items they have recieved.\n",
    "> * Very less people have rated in the range of 1-3"
   ]
  },
  {
   "cell_type": "code",
   "execution_count": 13,
   "metadata": {},
   "outputs": [
    {
     "data": {
      "text/plain": [
       "userID        4201696\n",
       "itemID         476002\n",
       "elecRating          5\n",
       "dtype: int64"
      ]
     },
     "execution_count": 13,
     "metadata": {},
     "output_type": "execute_result"
    }
   ],
   "source": [
    "#Find the total number of unique users, items ids and the ratings...\n",
    "ratings_elec.nunique()"
   ]
  },
  {
   "cell_type": "markdown",
   "metadata": {},
   "source": [
    "> * There are more users than the number of items\n",
    "> * Rating is in the scale of 1-5"
   ]
  },
  {
   "cell_type": "code",
   "execution_count": 14,
   "metadata": {},
   "outputs": [
    {
     "data": {
      "text/plain": [
       "userID        0\n",
       "itemID        0\n",
       "elecRating    0\n",
       "dtype: int64"
      ]
     },
     "execution_count": 14,
     "metadata": {},
     "output_type": "execute_result"
    }
   ],
   "source": [
    "ratings_elec.isnull().sum()"
   ]
  },
  {
   "cell_type": "markdown",
   "metadata": {},
   "source": [
    "> * There are no null items in the dataframe"
   ]
  },
  {
   "cell_type": "markdown",
   "metadata": {},
   "source": [
    "### Users who have provided maximum number of ratings for the items purchased - Report Top 10 users"
   ]
  },
  {
   "cell_type": "code",
   "execution_count": 15,
   "metadata": {},
   "outputs": [
    {
     "data": {
      "text/plain": [
       "A5JLAU2ARJ0BO     520\n",
       "ADLVFFE4VBT8      501\n",
       "A3OXHLG6DIBRW8    498\n",
       "A6FIAB28IS79      431\n",
       "A680RUE1FDO8B     406\n",
       "A1ODOGXEYECQQ8    380\n",
       "A36K2N527TXXJN    314\n",
       "A2AY4YUOX2N1BQ    311\n",
       "AWPODHOB4GFWL     308\n",
       "ARBKYIVNYWK3C     296\n",
       "Name: userID, dtype: int64"
      ]
     },
     "execution_count": 15,
     "metadata": {},
     "output_type": "execute_result"
    }
   ],
   "source": [
    "# Users with max no of electronic items purchased\n",
    "# Top 10 users..\n",
    "ratings_elec[\"userID\"].value_counts().head(10)"
   ]
  },
  {
   "cell_type": "markdown",
   "metadata": {},
   "source": [
    "### 2. Take a subset of the dataset to make it less sparse/ denser. \n",
    "(For example, keep the users only who has given 50 or more number of ratings )"
   ]
  },
  {
   "cell_type": "code",
   "execution_count": 16,
   "metadata": {},
   "outputs": [],
   "source": [
    "rating_count = ratings_elec.groupby('userID')['elecRating'].count()\n",
    "rating_count_df = pd.DataFrame(rating_count)\n",
    "rating_count_df.reset_index(inplace=True)\n",
    "rating_count_df.columns = ['userID', 'ratingCount']\n",
    "rating_count_df = rating_count_df.sort_values(by='ratingCount', ascending=False)"
   ]
  },
  {
   "cell_type": "code",
   "execution_count": 17,
   "metadata": {},
   "outputs": [
    {
     "data": {
      "text/html": [
       "<div>\n",
       "<style scoped>\n",
       "    .dataframe tbody tr th:only-of-type {\n",
       "        vertical-align: middle;\n",
       "    }\n",
       "\n",
       "    .dataframe tbody tr th {\n",
       "        vertical-align: top;\n",
       "    }\n",
       "\n",
       "    .dataframe thead th {\n",
       "        text-align: right;\n",
       "    }\n",
       "</style>\n",
       "<table border=\"1\" class=\"dataframe\">\n",
       "  <thead>\n",
       "    <tr style=\"text-align: right;\">\n",
       "      <th></th>\n",
       "      <th>userID</th>\n",
       "      <th>ratingCount</th>\n",
       "    </tr>\n",
       "  </thead>\n",
       "  <tbody>\n",
       "    <tr>\n",
       "      <td>3263531</td>\n",
       "      <td>A5JLAU2ARJ0BO</td>\n",
       "      <td>520</td>\n",
       "    </tr>\n",
       "    <tr>\n",
       "      <td>3512451</td>\n",
       "      <td>ADLVFFE4VBT8</td>\n",
       "      <td>501</td>\n",
       "    </tr>\n",
       "    <tr>\n",
       "      <td>2989526</td>\n",
       "      <td>A3OXHLG6DIBRW8</td>\n",
       "      <td>498</td>\n",
       "    </tr>\n",
       "    <tr>\n",
       "      <td>3291008</td>\n",
       "      <td>A6FIAB28IS79</td>\n",
       "      <td>431</td>\n",
       "    </tr>\n",
       "    <tr>\n",
       "      <td>3284634</td>\n",
       "      <td>A680RUE1FDO8B</td>\n",
       "      <td>406</td>\n",
       "    </tr>\n",
       "  </tbody>\n",
       "</table>\n",
       "</div>"
      ],
      "text/plain": [
       "                 userID  ratingCount\n",
       "3263531   A5JLAU2ARJ0BO          520\n",
       "3512451    ADLVFFE4VBT8          501\n",
       "2989526  A3OXHLG6DIBRW8          498\n",
       "3291008    A6FIAB28IS79          431\n",
       "3284634   A680RUE1FDO8B          406"
      ]
     },
     "execution_count": 17,
     "metadata": {},
     "output_type": "execute_result"
    }
   ],
   "source": [
    "rating_count_df.head()"
   ]
  },
  {
   "cell_type": "markdown",
   "metadata": {},
   "source": [
    "#### Select users who have provided 50 or more ratings"
   ]
  },
  {
   "cell_type": "code",
   "execution_count": 18,
   "metadata": {},
   "outputs": [
    {
     "data": {
      "text/plain": [
       "(1466,)"
      ]
     },
     "execution_count": 18,
     "metadata": {},
     "output_type": "execute_result"
    }
   ],
   "source": [
    "freq_ratedusers_df = rating_count_df[rating_count_df['ratingCount'] > 50]\n",
    "freq_ratedusers_df['userID'].shape"
   ]
  },
  {
   "cell_type": "markdown",
   "metadata": {},
   "source": [
    "#### Observations\n",
    "> * There are 1466 users who have provided 50 or more ratings"
   ]
  },
  {
   "cell_type": "code",
   "execution_count": 19,
   "metadata": {},
   "outputs": [
    {
     "data": {
      "text/plain": [
       "(7824482, 3)"
      ]
     },
     "execution_count": 19,
     "metadata": {},
     "output_type": "execute_result"
    }
   ],
   "source": [
    "ratings_elec.shape"
   ]
  },
  {
   "cell_type": "markdown",
   "metadata": {},
   "source": [
    "#### Get the final filtered dataframe to select only those users who have provided 50 or more ratings"
   ]
  },
  {
   "cell_type": "code",
   "execution_count": 20,
   "metadata": {},
   "outputs": [
    {
     "data": {
      "text/plain": [
       "(122171, 3)"
      ]
     },
     "execution_count": 20,
     "metadata": {},
     "output_type": "execute_result"
    }
   ],
   "source": [
    "# Use inner join of the unique users who have provided 50 or more ratings with the original dataframe...\n",
    "filter_popular_users_df = pd.merge(ratings_elec, freq_ratedusers_df['userID'], on='userID', how='inner')\n",
    "filter_popular_users_df.shape"
   ]
  },
  {
   "cell_type": "markdown",
   "metadata": {},
   "source": [
    "### 3. Build Popularity Recommender model."
   ]
  },
  {
   "cell_type": "markdown",
   "metadata": {},
   "source": [
    "#### Which items are bought the most by the users ?"
   ]
  },
  {
   "cell_type": "code",
   "execution_count": 21,
   "metadata": {},
   "outputs": [
    {
     "data": {
      "text/html": [
       "<div>\n",
       "<style scoped>\n",
       "    .dataframe tbody tr th:only-of-type {\n",
       "        vertical-align: middle;\n",
       "    }\n",
       "\n",
       "    .dataframe tbody tr th {\n",
       "        vertical-align: top;\n",
       "    }\n",
       "\n",
       "    .dataframe thead th {\n",
       "        text-align: right;\n",
       "    }\n",
       "</style>\n",
       "<table border=\"1\" class=\"dataframe\">\n",
       "  <thead>\n",
       "    <tr style=\"text-align: right;\">\n",
       "      <th></th>\n",
       "      <th>itemID</th>\n",
       "      <th>Users_who_bought_this_item</th>\n",
       "    </tr>\n",
       "  </thead>\n",
       "  <tbody>\n",
       "    <tr>\n",
       "      <td>308398</td>\n",
       "      <td>B0074BW614</td>\n",
       "      <td>18244</td>\n",
       "    </tr>\n",
       "    <tr>\n",
       "      <td>429572</td>\n",
       "      <td>B00DR0PDNE</td>\n",
       "      <td>16454</td>\n",
       "    </tr>\n",
       "    <tr>\n",
       "      <td>327308</td>\n",
       "      <td>B007WTAJTO</td>\n",
       "      <td>14172</td>\n",
       "    </tr>\n",
       "    <tr>\n",
       "      <td>102804</td>\n",
       "      <td>B0019EHU8G</td>\n",
       "      <td>12285</td>\n",
       "    </tr>\n",
       "    <tr>\n",
       "      <td>296625</td>\n",
       "      <td>B006GWO5WK</td>\n",
       "      <td>12226</td>\n",
       "    </tr>\n",
       "    <tr>\n",
       "      <td>...</td>\n",
       "      <td>...</td>\n",
       "      <td>...</td>\n",
       "    </tr>\n",
       "    <tr>\n",
       "      <td>248010</td>\n",
       "      <td>B004WL91KI</td>\n",
       "      <td>1</td>\n",
       "    </tr>\n",
       "    <tr>\n",
       "      <td>248011</td>\n",
       "      <td>B004WL9FK4</td>\n",
       "      <td>1</td>\n",
       "    </tr>\n",
       "    <tr>\n",
       "      <td>248015</td>\n",
       "      <td>B004WL9Q2Q</td>\n",
       "      <td>1</td>\n",
       "    </tr>\n",
       "    <tr>\n",
       "      <td>248016</td>\n",
       "      <td>B004WL9R8O</td>\n",
       "      <td>1</td>\n",
       "    </tr>\n",
       "    <tr>\n",
       "      <td>476001</td>\n",
       "      <td>BT008V9J9U</td>\n",
       "      <td>1</td>\n",
       "    </tr>\n",
       "  </tbody>\n",
       "</table>\n",
       "<p>476002 rows × 2 columns</p>\n",
       "</div>"
      ],
      "text/plain": [
       "            itemID  Users_who_bought_this_item\n",
       "308398  B0074BW614                       18244\n",
       "429572  B00DR0PDNE                       16454\n",
       "327308  B007WTAJTO                       14172\n",
       "102804  B0019EHU8G                       12285\n",
       "296625  B006GWO5WK                       12226\n",
       "...            ...                         ...\n",
       "248010  B004WL91KI                           1\n",
       "248011  B004WL9FK4                           1\n",
       "248015  B004WL9Q2Q                           1\n",
       "248016  B004WL9R8O                           1\n",
       "476001  BT008V9J9U                           1\n",
       "\n",
       "[476002 rows x 2 columns]"
      ]
     },
     "execution_count": 21,
     "metadata": {},
     "output_type": "execute_result"
    }
   ],
   "source": [
    "item_count = ratings_elec.groupby('itemID')['userID'].count()\n",
    "item_count_df = pd.DataFrame(item_count)\n",
    "item_count_df.reset_index(inplace=True)\n",
    "item_count_df.columns = ['itemID', 'Users_who_bought_this_item']\n",
    "item_count_df = item_count_df.sort_values(by='Users_who_bought_this_item', ascending=False)\n",
    "item_count_df"
   ]
  },
  {
   "cell_type": "markdown",
   "metadata": {},
   "source": [
    "#### Top ten items which are most popular among users..."
   ]
  },
  {
   "cell_type": "code",
   "execution_count": 22,
   "metadata": {},
   "outputs": [
    {
     "data": {
      "text/html": [
       "<div>\n",
       "<style scoped>\n",
       "    .dataframe tbody tr th:only-of-type {\n",
       "        vertical-align: middle;\n",
       "    }\n",
       "\n",
       "    .dataframe tbody tr th {\n",
       "        vertical-align: top;\n",
       "    }\n",
       "\n",
       "    .dataframe thead th {\n",
       "        text-align: right;\n",
       "    }\n",
       "</style>\n",
       "<table border=\"1\" class=\"dataframe\">\n",
       "  <thead>\n",
       "    <tr style=\"text-align: right;\">\n",
       "      <th></th>\n",
       "      <th>itemID</th>\n",
       "      <th>Users_who_bought_this_item</th>\n",
       "      <th>Rank</th>\n",
       "    </tr>\n",
       "  </thead>\n",
       "  <tbody>\n",
       "    <tr>\n",
       "      <td>308398</td>\n",
       "      <td>B0074BW614</td>\n",
       "      <td>18244</td>\n",
       "      <td>1.0</td>\n",
       "    </tr>\n",
       "    <tr>\n",
       "      <td>429572</td>\n",
       "      <td>B00DR0PDNE</td>\n",
       "      <td>16454</td>\n",
       "      <td>2.0</td>\n",
       "    </tr>\n",
       "    <tr>\n",
       "      <td>327308</td>\n",
       "      <td>B007WTAJTO</td>\n",
       "      <td>14172</td>\n",
       "      <td>3.0</td>\n",
       "    </tr>\n",
       "    <tr>\n",
       "      <td>102804</td>\n",
       "      <td>B0019EHU8G</td>\n",
       "      <td>12285</td>\n",
       "      <td>4.0</td>\n",
       "    </tr>\n",
       "    <tr>\n",
       "      <td>296625</td>\n",
       "      <td>B006GWO5WK</td>\n",
       "      <td>12226</td>\n",
       "      <td>5.0</td>\n",
       "    </tr>\n",
       "    <tr>\n",
       "      <td>178601</td>\n",
       "      <td>B003ELYQGG</td>\n",
       "      <td>11617</td>\n",
       "      <td>6.0</td>\n",
       "    </tr>\n",
       "    <tr>\n",
       "      <td>178813</td>\n",
       "      <td>B003ES5ZUU</td>\n",
       "      <td>10276</td>\n",
       "      <td>7.0</td>\n",
       "    </tr>\n",
       "    <tr>\n",
       "      <td>323013</td>\n",
       "      <td>B007R5YDYA</td>\n",
       "      <td>9907</td>\n",
       "      <td>8.0</td>\n",
       "    </tr>\n",
       "    <tr>\n",
       "      <td>289775</td>\n",
       "      <td>B00622AG6S</td>\n",
       "      <td>9823</td>\n",
       "      <td>9.0</td>\n",
       "    </tr>\n",
       "    <tr>\n",
       "      <td>30276</td>\n",
       "      <td>B0002L5R78</td>\n",
       "      <td>9487</td>\n",
       "      <td>10.0</td>\n",
       "    </tr>\n",
       "  </tbody>\n",
       "</table>\n",
       "</div>"
      ],
      "text/plain": [
       "            itemID  Users_who_bought_this_item  Rank\n",
       "308398  B0074BW614                       18244   1.0\n",
       "429572  B00DR0PDNE                       16454   2.0\n",
       "327308  B007WTAJTO                       14172   3.0\n",
       "102804  B0019EHU8G                       12285   4.0\n",
       "296625  B006GWO5WK                       12226   5.0\n",
       "178601  B003ELYQGG                       11617   6.0\n",
       "178813  B003ES5ZUU                       10276   7.0\n",
       "323013  B007R5YDYA                        9907   8.0\n",
       "289775  B00622AG6S                        9823   9.0\n",
       "30276   B0002L5R78                        9487  10.0"
      ]
     },
     "execution_count": 22,
     "metadata": {},
     "output_type": "execute_result"
    }
   ],
   "source": [
    "item_count_df['Rank'] = item_count_df['Users_who_bought_this_item'].rank(method='dense', ascending=False)\n",
    "item_count_df.head(10)"
   ]
  },
  {
   "cell_type": "markdown",
   "metadata": {},
   "source": [
    "### 4. Split the data randomly into train and test dataset. \n",
    "(For example, split it in 70/30 ratio) "
   ]
  },
  {
   "cell_type": "code",
   "execution_count": 23,
   "metadata": {},
   "outputs": [],
   "source": [
    "from surprise import Dataset,Reader\n",
    "from surprise.model_selection import cross_validate\n",
    "from surprise import NormalPredictor\n",
    "\n",
    "#### Set the rating scale from 1 to 5\n",
    "reader = Reader(rating_scale=(1, 5))"
   ]
  },
  {
   "cell_type": "code",
   "execution_count": 24,
   "metadata": {},
   "outputs": [],
   "source": [
    "data = Dataset.load_from_df(filter_popular_users_df[['userID', 'itemID', 'elecRating']], reader)"
   ]
  },
  {
   "cell_type": "code",
   "execution_count": 25,
   "metadata": {},
   "outputs": [
    {
     "data": {
      "text/plain": [
       "(122171, 3)"
      ]
     },
     "execution_count": 25,
     "metadata": {},
     "output_type": "execute_result"
    }
   ],
   "source": [
    "filter_popular_users_df.shape"
   ]
  },
  {
   "cell_type": "code",
   "execution_count": 26,
   "metadata": {},
   "outputs": [],
   "source": [
    "# Split data to train and test\n",
    "from surprise.model_selection import train_test_split\n",
    "trainset, testset = train_test_split(data, test_size=0.3,random_state=123)"
   ]
  },
  {
   "cell_type": "code",
   "execution_count": 27,
   "metadata": {},
   "outputs": [
    {
     "data": {
      "text/plain": [
       "85519"
      ]
     },
     "execution_count": 27,
     "metadata": {},
     "output_type": "execute_result"
    }
   ],
   "source": [
    "trainset.n_ratings"
   ]
  },
  {
   "cell_type": "markdown",
   "metadata": {},
   "source": [
    "### Try 2 different ways in Collaborative filtering \n",
    "> * **A.** Item based Collaborative filtering Model\n",
    "> * **B.** Model based - Using SVD"
   ]
  },
  {
   "cell_type": "markdown",
   "metadata": {},
   "source": [
    "### 5-A. Build Collaborative Filtering model."
   ]
  },
  {
   "cell_type": "markdown",
   "metadata": {},
   "source": [
    "####  Option-1 : Build Collaborative Filtering model using Item Based Collaborative filtering"
   ]
  },
  {
   "cell_type": "code",
   "execution_count": 28,
   "metadata": {},
   "outputs": [
    {
     "data": {
      "text/plain": [
       "(122171, 3)"
      ]
     },
     "execution_count": 28,
     "metadata": {},
     "output_type": "execute_result"
    }
   ],
   "source": [
    "filter_popular_users_df.shape"
   ]
  },
  {
   "cell_type": "code",
   "execution_count": 29,
   "metadata": {},
   "outputs": [
    {
     "data": {
      "text/plain": [
       "36652"
      ]
     },
     "execution_count": 29,
     "metadata": {},
     "output_type": "execute_result"
    }
   ],
   "source": [
    "len(testset)"
   ]
  },
  {
   "cell_type": "code",
   "execution_count": 30,
   "metadata": {},
   "outputs": [],
   "source": [
    "from surprise import KNNWithMeans\n",
    "from surprise import accuracy\n",
    "from surprise import Prediction"
   ]
  },
  {
   "cell_type": "code",
   "execution_count": 31,
   "metadata": {},
   "outputs": [
    {
     "name": "stdout",
     "output_type": "stream",
     "text": [
      "Computing the pearson similarity matrix...\n",
      "Done computing similarity matrix.\n"
     ]
    },
    {
     "data": {
      "text/plain": [
       "<surprise.prediction_algorithms.knns.KNNWithMeans at 0x1a2ee11910>"
      ]
     },
     "execution_count": 31,
     "metadata": {},
     "output_type": "execute_result"
    }
   ],
   "source": [
    "algo = KNNWithMeans(k=51, sim_options={'name': 'pearson', 'user_based': False})\n",
    "algo.fit(trainset)"
   ]
  },
  {
   "cell_type": "code",
   "execution_count": 32,
   "metadata": {},
   "outputs": [],
   "source": [
    "#neighbours = algo.get_neighbors(trainset.to_inner_iid('Finding Nemo (2003)'), 3)\n",
    "#for j in neighbours:\n",
    "#    print(trainset.to_raw_iid(j))"
   ]
  },
  {
   "cell_type": "code",
   "execution_count": 33,
   "metadata": {},
   "outputs": [],
   "source": [
    "# Evalute on test set\n",
    "test_pred = algo.test(testset)"
   ]
  },
  {
   "cell_type": "code",
   "execution_count": 34,
   "metadata": {},
   "outputs": [
    {
     "data": {
      "text/html": [
       "<div>\n",
       "<style scoped>\n",
       "    .dataframe tbody tr th:only-of-type {\n",
       "        vertical-align: middle;\n",
       "    }\n",
       "\n",
       "    .dataframe tbody tr th {\n",
       "        vertical-align: top;\n",
       "    }\n",
       "\n",
       "    .dataframe thead th {\n",
       "        text-align: right;\n",
       "    }\n",
       "</style>\n",
       "<table border=\"1\" class=\"dataframe\">\n",
       "  <thead>\n",
       "    <tr style=\"text-align: right;\">\n",
       "      <th></th>\n",
       "      <th>0</th>\n",
       "      <th>1</th>\n",
       "      <th>2</th>\n",
       "    </tr>\n",
       "  </thead>\n",
       "  <tbody>\n",
       "    <tr>\n",
       "      <td>0</td>\n",
       "      <td>A4UGMKUSX9XHI</td>\n",
       "      <td>B004TIIBMS</td>\n",
       "      <td>5.000000</td>\n",
       "    </tr>\n",
       "    <tr>\n",
       "      <td>1</td>\n",
       "      <td>A2X06FP2PQ6EK0</td>\n",
       "      <td>B0007R4LI8</td>\n",
       "      <td>4.166667</td>\n",
       "    </tr>\n",
       "    <tr>\n",
       "      <td>2</td>\n",
       "      <td>A2HMF8ZR67BNZS</td>\n",
       "      <td>B0012DAD2E</td>\n",
       "      <td>4.265567</td>\n",
       "    </tr>\n",
       "    <tr>\n",
       "      <td>3</td>\n",
       "      <td>A3HR0ZZOFKQ97N</td>\n",
       "      <td>B00GLXAAOQ</td>\n",
       "      <td>5.000000</td>\n",
       "    </tr>\n",
       "    <tr>\n",
       "      <td>4</td>\n",
       "      <td>A3SMD3T0QTN109</td>\n",
       "      <td>B001UI2FPE</td>\n",
       "      <td>4.789474</td>\n",
       "    </tr>\n",
       "  </tbody>\n",
       "</table>\n",
       "</div>"
      ],
      "text/plain": [
       "                0           1         2\n",
       "0   A4UGMKUSX9XHI  B004TIIBMS  5.000000\n",
       "1  A2X06FP2PQ6EK0  B0007R4LI8  4.166667\n",
       "2  A2HMF8ZR67BNZS  B0012DAD2E  4.265567\n",
       "3  A3HR0ZZOFKQ97N  B00GLXAAOQ  5.000000\n",
       "4  A3SMD3T0QTN109  B001UI2FPE  4.789474"
      ]
     },
     "execution_count": 34,
     "metadata": {},
     "output_type": "execute_result"
    }
   ],
   "source": [
    "test_pred_df = pd.DataFrame([[x.uid,x.iid,x.est] for x in test_pred])\n",
    "test_pred_df.head()"
   ]
  },
  {
   "cell_type": "code",
   "execution_count": 35,
   "metadata": {},
   "outputs": [],
   "source": [
    "test_pred_df.columns = [\"userID\",\"itemID\",\"pred_elecRating\"]\n",
    "test_pred_df.sort_values(by = [\"userID\", \"pred_elecRating\"],ascending=False,inplace=True)"
   ]
  },
  {
   "cell_type": "code",
   "execution_count": 36,
   "metadata": {},
   "outputs": [
    {
     "data": {
      "text/html": [
       "<div>\n",
       "<style scoped>\n",
       "    .dataframe tbody tr th:only-of-type {\n",
       "        vertical-align: middle;\n",
       "    }\n",
       "\n",
       "    .dataframe tbody tr th {\n",
       "        vertical-align: top;\n",
       "    }\n",
       "\n",
       "    .dataframe thead th {\n",
       "        text-align: right;\n",
       "    }\n",
       "</style>\n",
       "<table border=\"1\" class=\"dataframe\">\n",
       "  <thead>\n",
       "    <tr style=\"text-align: right;\">\n",
       "      <th></th>\n",
       "      <th>userID</th>\n",
       "      <th>itemID</th>\n",
       "      <th>pred_elecRating</th>\n",
       "    </tr>\n",
       "  </thead>\n",
       "  <tbody>\n",
       "    <tr>\n",
       "      <td>2212</td>\n",
       "      <td>AZOK5STV85FBJ</td>\n",
       "      <td>B005003WAA</td>\n",
       "      <td>5.000000</td>\n",
       "    </tr>\n",
       "    <tr>\n",
       "      <td>4218</td>\n",
       "      <td>AZOK5STV85FBJ</td>\n",
       "      <td>B0002BA570</td>\n",
       "      <td>5.000000</td>\n",
       "    </tr>\n",
       "    <tr>\n",
       "      <td>26820</td>\n",
       "      <td>AZOK5STV85FBJ</td>\n",
       "      <td>B00BF6HVG4</td>\n",
       "      <td>5.000000</td>\n",
       "    </tr>\n",
       "    <tr>\n",
       "      <td>4864</td>\n",
       "      <td>AZOK5STV85FBJ</td>\n",
       "      <td>B00104XCVO</td>\n",
       "      <td>4.888889</td>\n",
       "    </tr>\n",
       "    <tr>\n",
       "      <td>26567</td>\n",
       "      <td>AZOK5STV85FBJ</td>\n",
       "      <td>B000O5N5AI</td>\n",
       "      <td>4.750000</td>\n",
       "    </tr>\n",
       "  </tbody>\n",
       "</table>\n",
       "</div>"
      ],
      "text/plain": [
       "              userID      itemID  pred_elecRating\n",
       "2212   AZOK5STV85FBJ  B005003WAA         5.000000\n",
       "4218   AZOK5STV85FBJ  B0002BA570         5.000000\n",
       "26820  AZOK5STV85FBJ  B00BF6HVG4         5.000000\n",
       "4864   AZOK5STV85FBJ  B00104XCVO         4.888889\n",
       "26567  AZOK5STV85FBJ  B000O5N5AI         4.750000"
      ]
     },
     "execution_count": 36,
     "metadata": {},
     "output_type": "execute_result"
    }
   ],
   "source": [
    "test_pred_df.head()"
   ]
  },
  {
   "cell_type": "markdown",
   "metadata": {},
   "source": [
    "### 6-A. Evaluate the above model. You can also use a different method to evaluate the models....\n",
    "(Once the model is trained on the training data, it can be used to compute the error (like RMSE) on predictions made on the test data.) "
   ]
  },
  {
   "cell_type": "code",
   "execution_count": 37,
   "metadata": {},
   "outputs": [
    {
     "name": "stdout",
     "output_type": "stream",
     "text": [
      "RMSE: 1.1299\n"
     ]
    },
    {
     "data": {
      "text/plain": [
       "1.129935955448787"
      ]
     },
     "execution_count": 37,
     "metadata": {},
     "output_type": "execute_result"
    }
   ],
   "source": [
    "# compute RMSE\n",
    "accuracy.rmse(test_pred)"
   ]
  },
  {
   "cell_type": "markdown",
   "metadata": {},
   "source": [
    "### 7-A. Get top - K ( K = 5) recommendations. \n",
    "(Since our goal is to recommend new products to each user based on his/her habits, we will recommend 5 new products.)"
   ]
  },
  {
   "cell_type": "code",
   "execution_count": 38,
   "metadata": {},
   "outputs": [],
   "source": [
    "top_5_recos = test_pred_df.groupby(\"userID\").head(5).reset_index(drop=True)"
   ]
  },
  {
   "cell_type": "code",
   "execution_count": 39,
   "metadata": {},
   "outputs": [
    {
     "data": {
      "text/html": [
       "<div>\n",
       "<style scoped>\n",
       "    .dataframe tbody tr th:only-of-type {\n",
       "        vertical-align: middle;\n",
       "    }\n",
       "\n",
       "    .dataframe tbody tr th {\n",
       "        vertical-align: top;\n",
       "    }\n",
       "\n",
       "    .dataframe thead th {\n",
       "        text-align: right;\n",
       "    }\n",
       "</style>\n",
       "<table border=\"1\" class=\"dataframe\">\n",
       "  <thead>\n",
       "    <tr style=\"text-align: right;\">\n",
       "      <th></th>\n",
       "      <th>userID</th>\n",
       "      <th>itemID</th>\n",
       "      <th>pred_elecRating</th>\n",
       "    </tr>\n",
       "  </thead>\n",
       "  <tbody>\n",
       "    <tr>\n",
       "      <td>0</td>\n",
       "      <td>AZOK5STV85FBJ</td>\n",
       "      <td>B005003WAA</td>\n",
       "      <td>5.000000</td>\n",
       "    </tr>\n",
       "    <tr>\n",
       "      <td>1</td>\n",
       "      <td>AZOK5STV85FBJ</td>\n",
       "      <td>B0002BA570</td>\n",
       "      <td>5.000000</td>\n",
       "    </tr>\n",
       "    <tr>\n",
       "      <td>2</td>\n",
       "      <td>AZOK5STV85FBJ</td>\n",
       "      <td>B00BF6HVG4</td>\n",
       "      <td>5.000000</td>\n",
       "    </tr>\n",
       "    <tr>\n",
       "      <td>3</td>\n",
       "      <td>AZOK5STV85FBJ</td>\n",
       "      <td>B00104XCVO</td>\n",
       "      <td>4.888889</td>\n",
       "    </tr>\n",
       "    <tr>\n",
       "      <td>4</td>\n",
       "      <td>AZOK5STV85FBJ</td>\n",
       "      <td>B000O5N5AI</td>\n",
       "      <td>4.750000</td>\n",
       "    </tr>\n",
       "    <tr>\n",
       "      <td>5</td>\n",
       "      <td>AZNUHQSHZHSUE</td>\n",
       "      <td>B002LARYGA</td>\n",
       "      <td>5.000000</td>\n",
       "    </tr>\n",
       "    <tr>\n",
       "      <td>6</td>\n",
       "      <td>AZNUHQSHZHSUE</td>\n",
       "      <td>B005BCAKO8</td>\n",
       "      <td>4.666667</td>\n",
       "    </tr>\n",
       "    <tr>\n",
       "      <td>7</td>\n",
       "      <td>AZNUHQSHZHSUE</td>\n",
       "      <td>B000W5RBQE</td>\n",
       "      <td>4.600000</td>\n",
       "    </tr>\n",
       "    <tr>\n",
       "      <td>8</td>\n",
       "      <td>AZNUHQSHZHSUE</td>\n",
       "      <td>B003XE3X8Q</td>\n",
       "      <td>4.409091</td>\n",
       "    </tr>\n",
       "    <tr>\n",
       "      <td>9</td>\n",
       "      <td>AZNUHQSHZHSUE</td>\n",
       "      <td>B0016J5TGY</td>\n",
       "      <td>4.265567</td>\n",
       "    </tr>\n",
       "    <tr>\n",
       "      <td>10</td>\n",
       "      <td>AZMY6E8B52L2T</td>\n",
       "      <td>B00E3FHXYO</td>\n",
       "      <td>5.000000</td>\n",
       "    </tr>\n",
       "    <tr>\n",
       "      <td>11</td>\n",
       "      <td>AZMY6E8B52L2T</td>\n",
       "      <td>B003B41XYO</td>\n",
       "      <td>5.000000</td>\n",
       "    </tr>\n",
       "    <tr>\n",
       "      <td>12</td>\n",
       "      <td>AZMY6E8B52L2T</td>\n",
       "      <td>B00ALRI2O8</td>\n",
       "      <td>5.000000</td>\n",
       "    </tr>\n",
       "    <tr>\n",
       "      <td>13</td>\n",
       "      <td>AZMY6E8B52L2T</td>\n",
       "      <td>B00L2442H0</td>\n",
       "      <td>5.000000</td>\n",
       "    </tr>\n",
       "    <tr>\n",
       "      <td>14</td>\n",
       "      <td>AZMY6E8B52L2T</td>\n",
       "      <td>B00JXVPHC8</td>\n",
       "      <td>5.000000</td>\n",
       "    </tr>\n",
       "    <tr>\n",
       "      <td>15</td>\n",
       "      <td>AZCE11PSTCH1L</td>\n",
       "      <td>B001KN8V2U</td>\n",
       "      <td>5.000000</td>\n",
       "    </tr>\n",
       "    <tr>\n",
       "      <td>16</td>\n",
       "      <td>AZCE11PSTCH1L</td>\n",
       "      <td>B003ZJ644Y</td>\n",
       "      <td>5.000000</td>\n",
       "    </tr>\n",
       "    <tr>\n",
       "      <td>17</td>\n",
       "      <td>AZCE11PSTCH1L</td>\n",
       "      <td>B008TJUOE6</td>\n",
       "      <td>5.000000</td>\n",
       "    </tr>\n",
       "    <tr>\n",
       "      <td>18</td>\n",
       "      <td>AZCE11PSTCH1L</td>\n",
       "      <td>B0039825LM</td>\n",
       "      <td>5.000000</td>\n",
       "    </tr>\n",
       "    <tr>\n",
       "      <td>19</td>\n",
       "      <td>AZCE11PSTCH1L</td>\n",
       "      <td>B009O7YUF6</td>\n",
       "      <td>5.000000</td>\n",
       "    </tr>\n",
       "    <tr>\n",
       "      <td>20</td>\n",
       "      <td>AZBXKUH4AIW3X</td>\n",
       "      <td>B004M5H660</td>\n",
       "      <td>5.000000</td>\n",
       "    </tr>\n",
       "    <tr>\n",
       "      <td>21</td>\n",
       "      <td>AZBXKUH4AIW3X</td>\n",
       "      <td>B005QWH4QA</td>\n",
       "      <td>5.000000</td>\n",
       "    </tr>\n",
       "    <tr>\n",
       "      <td>22</td>\n",
       "      <td>AZBXKUH4AIW3X</td>\n",
       "      <td>B005LDLP8W</td>\n",
       "      <td>5.000000</td>\n",
       "    </tr>\n",
       "    <tr>\n",
       "      <td>23</td>\n",
       "      <td>AZBXKUH4AIW3X</td>\n",
       "      <td>B000FQ2JLW</td>\n",
       "      <td>5.000000</td>\n",
       "    </tr>\n",
       "    <tr>\n",
       "      <td>24</td>\n",
       "      <td>AZBXKUH4AIW3X</td>\n",
       "      <td>B0058UUR6E</td>\n",
       "      <td>4.750000</td>\n",
       "    </tr>\n",
       "    <tr>\n",
       "      <td>25</td>\n",
       "      <td>AZAC8O310IK4E</td>\n",
       "      <td>B001FWBUUG</td>\n",
       "      <td>5.000000</td>\n",
       "    </tr>\n",
       "    <tr>\n",
       "      <td>26</td>\n",
       "      <td>AZAC8O310IK4E</td>\n",
       "      <td>B000HPV3RW</td>\n",
       "      <td>5.000000</td>\n",
       "    </tr>\n",
       "    <tr>\n",
       "      <td>27</td>\n",
       "      <td>AZAC8O310IK4E</td>\n",
       "      <td>B003ZSHNGS</td>\n",
       "      <td>4.923077</td>\n",
       "    </tr>\n",
       "    <tr>\n",
       "      <td>28</td>\n",
       "      <td>AZAC8O310IK4E</td>\n",
       "      <td>B001V9KG0I</td>\n",
       "      <td>4.833333</td>\n",
       "    </tr>\n",
       "    <tr>\n",
       "      <td>29</td>\n",
       "      <td>AZAC8O310IK4E</td>\n",
       "      <td>B001O94GNS</td>\n",
       "      <td>4.772388</td>\n",
       "    </tr>\n",
       "  </tbody>\n",
       "</table>\n",
       "</div>"
      ],
      "text/plain": [
       "           userID      itemID  pred_elecRating\n",
       "0   AZOK5STV85FBJ  B005003WAA         5.000000\n",
       "1   AZOK5STV85FBJ  B0002BA570         5.000000\n",
       "2   AZOK5STV85FBJ  B00BF6HVG4         5.000000\n",
       "3   AZOK5STV85FBJ  B00104XCVO         4.888889\n",
       "4   AZOK5STV85FBJ  B000O5N5AI         4.750000\n",
       "5   AZNUHQSHZHSUE  B002LARYGA         5.000000\n",
       "6   AZNUHQSHZHSUE  B005BCAKO8         4.666667\n",
       "7   AZNUHQSHZHSUE  B000W5RBQE         4.600000\n",
       "8   AZNUHQSHZHSUE  B003XE3X8Q         4.409091\n",
       "9   AZNUHQSHZHSUE  B0016J5TGY         4.265567\n",
       "10  AZMY6E8B52L2T  B00E3FHXYO         5.000000\n",
       "11  AZMY6E8B52L2T  B003B41XYO         5.000000\n",
       "12  AZMY6E8B52L2T  B00ALRI2O8         5.000000\n",
       "13  AZMY6E8B52L2T  B00L2442H0         5.000000\n",
       "14  AZMY6E8B52L2T  B00JXVPHC8         5.000000\n",
       "15  AZCE11PSTCH1L  B001KN8V2U         5.000000\n",
       "16  AZCE11PSTCH1L  B003ZJ644Y         5.000000\n",
       "17  AZCE11PSTCH1L  B008TJUOE6         5.000000\n",
       "18  AZCE11PSTCH1L  B0039825LM         5.000000\n",
       "19  AZCE11PSTCH1L  B009O7YUF6         5.000000\n",
       "20  AZBXKUH4AIW3X  B004M5H660         5.000000\n",
       "21  AZBXKUH4AIW3X  B005QWH4QA         5.000000\n",
       "22  AZBXKUH4AIW3X  B005LDLP8W         5.000000\n",
       "23  AZBXKUH4AIW3X  B000FQ2JLW         5.000000\n",
       "24  AZBXKUH4AIW3X  B0058UUR6E         4.750000\n",
       "25  AZAC8O310IK4E  B001FWBUUG         5.000000\n",
       "26  AZAC8O310IK4E  B000HPV3RW         5.000000\n",
       "27  AZAC8O310IK4E  B003ZSHNGS         4.923077\n",
       "28  AZAC8O310IK4E  B001V9KG0I         4.833333\n",
       "29  AZAC8O310IK4E  B001O94GNS         4.772388"
      ]
     },
     "execution_count": 39,
     "metadata": {},
     "output_type": "execute_result"
    }
   ],
   "source": [
    "top_5_recos.head(30)"
   ]
  },
  {
   "cell_type": "markdown",
   "metadata": {},
   "source": [
    "### 8-A. Summarise your insights."
   ]
  },
  {
   "cell_type": "markdown",
   "metadata": {},
   "source": [
    "> * Item based Collaborative filtering we are able to suggest new products to each user\n",
    "> * In this case, Item based Collaborative filtering results are much more accurate than SVD model results since the RMSE is much lower for Item based Collab filtering..\n",
    "> * In this case we have suggested only 5 products. By tweaking the **head(5) to a bigger number** we can get much more item recommendations to the user.\n",
    "> * The only drawback of Item based collab filtering is that it takes more time to compute. More the neighbours value(K) in **KnnWithMeans** more is the compute time. Ideal to run on server with more compute resources."
   ]
  },
  {
   "cell_type": "markdown",
   "metadata": {},
   "source": [
    "### 5-B. Build Collaborative Filtering model."
   ]
  },
  {
   "cell_type": "markdown",
   "metadata": {},
   "source": [
    "#### Option-2 : Use Collaborative Filtering model based - SVD method.."
   ]
  },
  {
   "cell_type": "code",
   "execution_count": 40,
   "metadata": {},
   "outputs": [],
   "source": [
    "from surprise import SVD\n",
    "from surprise import accuracy"
   ]
  },
  {
   "cell_type": "code",
   "execution_count": 41,
   "metadata": {},
   "outputs": [
    {
     "data": {
      "text/plain": [
       "<surprise.prediction_algorithms.matrix_factorization.SVD at 0x1a53142150>"
      ]
     },
     "execution_count": 41,
     "metadata": {},
     "output_type": "execute_result"
    }
   ],
   "source": [
    "svd_model = SVD(n_factors=50,biased=False)\n",
    "svd_model.fit(trainset)"
   ]
  },
  {
   "cell_type": "code",
   "execution_count": 42,
   "metadata": {},
   "outputs": [],
   "source": [
    "test_pred = svd_model.test(testset)"
   ]
  },
  {
   "cell_type": "code",
   "execution_count": 43,
   "metadata": {},
   "outputs": [
    {
     "data": {
      "text/html": [
       "<div>\n",
       "<style scoped>\n",
       "    .dataframe tbody tr th:only-of-type {\n",
       "        vertical-align: middle;\n",
       "    }\n",
       "\n",
       "    .dataframe tbody tr th {\n",
       "        vertical-align: top;\n",
       "    }\n",
       "\n",
       "    .dataframe thead th {\n",
       "        text-align: right;\n",
       "    }\n",
       "</style>\n",
       "<table border=\"1\" class=\"dataframe\">\n",
       "  <thead>\n",
       "    <tr style=\"text-align: right;\">\n",
       "      <th></th>\n",
       "      <th>0</th>\n",
       "      <th>1</th>\n",
       "      <th>2</th>\n",
       "    </tr>\n",
       "  </thead>\n",
       "  <tbody>\n",
       "    <tr>\n",
       "      <td>0</td>\n",
       "      <td>A4UGMKUSX9XHI</td>\n",
       "      <td>B004TIIBMS</td>\n",
       "      <td>1.685269</td>\n",
       "    </tr>\n",
       "    <tr>\n",
       "      <td>1</td>\n",
       "      <td>A2X06FP2PQ6EK0</td>\n",
       "      <td>B0007R4LI8</td>\n",
       "      <td>1.482543</td>\n",
       "    </tr>\n",
       "    <tr>\n",
       "      <td>2</td>\n",
       "      <td>A2HMF8ZR67BNZS</td>\n",
       "      <td>B0012DAD2E</td>\n",
       "      <td>4.265567</td>\n",
       "    </tr>\n",
       "    <tr>\n",
       "      <td>3</td>\n",
       "      <td>A3HR0ZZOFKQ97N</td>\n",
       "      <td>B00GLXAAOQ</td>\n",
       "      <td>3.032695</td>\n",
       "    </tr>\n",
       "    <tr>\n",
       "      <td>4</td>\n",
       "      <td>A3SMD3T0QTN109</td>\n",
       "      <td>B001UI2FPE</td>\n",
       "      <td>4.263925</td>\n",
       "    </tr>\n",
       "  </tbody>\n",
       "</table>\n",
       "</div>"
      ],
      "text/plain": [
       "                0           1         2\n",
       "0   A4UGMKUSX9XHI  B004TIIBMS  1.685269\n",
       "1  A2X06FP2PQ6EK0  B0007R4LI8  1.482543\n",
       "2  A2HMF8ZR67BNZS  B0012DAD2E  4.265567\n",
       "3  A3HR0ZZOFKQ97N  B00GLXAAOQ  3.032695\n",
       "4  A3SMD3T0QTN109  B001UI2FPE  4.263925"
      ]
     },
     "execution_count": 43,
     "metadata": {},
     "output_type": "execute_result"
    }
   ],
   "source": [
    "test_pred_df = pd.DataFrame([[x.uid,x.iid,x.est] for x in test_pred])\n",
    "test_pred_df.head()"
   ]
  },
  {
   "cell_type": "code",
   "execution_count": 44,
   "metadata": {},
   "outputs": [],
   "source": [
    "test_pred_df.columns = [\"userID\",\"itemID\",\"pred_elecRating\"]\n",
    "test_pred_df.sort_values(by = [\"userID\", \"pred_elecRating\"],ascending=False,inplace=True)"
   ]
  },
  {
   "cell_type": "code",
   "execution_count": 45,
   "metadata": {},
   "outputs": [
    {
     "data": {
      "text/html": [
       "<div>\n",
       "<style scoped>\n",
       "    .dataframe tbody tr th:only-of-type {\n",
       "        vertical-align: middle;\n",
       "    }\n",
       "\n",
       "    .dataframe tbody tr th {\n",
       "        vertical-align: top;\n",
       "    }\n",
       "\n",
       "    .dataframe thead th {\n",
       "        text-align: right;\n",
       "    }\n",
       "</style>\n",
       "<table border=\"1\" class=\"dataframe\">\n",
       "  <thead>\n",
       "    <tr style=\"text-align: right;\">\n",
       "      <th></th>\n",
       "      <th>userID</th>\n",
       "      <th>itemID</th>\n",
       "      <th>pred_elecRating</th>\n",
       "    </tr>\n",
       "  </thead>\n",
       "  <tbody>\n",
       "    <tr>\n",
       "      <td>16986</td>\n",
       "      <td>AZOK5STV85FBJ</td>\n",
       "      <td>B000CMGJ0G</td>\n",
       "      <td>4.265567</td>\n",
       "    </tr>\n",
       "    <tr>\n",
       "      <td>18809</td>\n",
       "      <td>AZOK5STV85FBJ</td>\n",
       "      <td>B000UGT5GO</td>\n",
       "      <td>4.265567</td>\n",
       "    </tr>\n",
       "    <tr>\n",
       "      <td>20505</td>\n",
       "      <td>AZOK5STV85FBJ</td>\n",
       "      <td>B000X39TKG</td>\n",
       "      <td>4.265567</td>\n",
       "    </tr>\n",
       "    <tr>\n",
       "      <td>24087</td>\n",
       "      <td>AZOK5STV85FBJ</td>\n",
       "      <td>B000VS7XY2</td>\n",
       "      <td>4.265567</td>\n",
       "    </tr>\n",
       "    <tr>\n",
       "      <td>26184</td>\n",
       "      <td>AZOK5STV85FBJ</td>\n",
       "      <td>B003AXAAWW</td>\n",
       "      <td>4.265567</td>\n",
       "    </tr>\n",
       "  </tbody>\n",
       "</table>\n",
       "</div>"
      ],
      "text/plain": [
       "              userID      itemID  pred_elecRating\n",
       "16986  AZOK5STV85FBJ  B000CMGJ0G         4.265567\n",
       "18809  AZOK5STV85FBJ  B000UGT5GO         4.265567\n",
       "20505  AZOK5STV85FBJ  B000X39TKG         4.265567\n",
       "24087  AZOK5STV85FBJ  B000VS7XY2         4.265567\n",
       "26184  AZOK5STV85FBJ  B003AXAAWW         4.265567"
      ]
     },
     "execution_count": 45,
     "metadata": {},
     "output_type": "execute_result"
    }
   ],
   "source": [
    "test_pred_df.head()"
   ]
  },
  {
   "cell_type": "markdown",
   "metadata": {},
   "source": [
    "### 6-B. Evaluate the above model. You can also use a different method to evaluate the models....\n",
    "(Once the model is trained on the training data, it can be used to compute the error (like RMSE) on predictions made on the test data.) "
   ]
  },
  {
   "cell_type": "code",
   "execution_count": 46,
   "metadata": {},
   "outputs": [
    {
     "name": "stdout",
     "output_type": "stream",
     "text": [
      "RMSE: 1.9982\n"
     ]
    },
    {
     "data": {
      "text/plain": [
       "1.9982039893890176"
      ]
     },
     "execution_count": 46,
     "metadata": {},
     "output_type": "execute_result"
    }
   ],
   "source": [
    "# compute RMSE\n",
    "accuracy.rmse(test_pred)"
   ]
  },
  {
   "cell_type": "markdown",
   "metadata": {},
   "source": [
    "### 7-B. Get top - K ( K = 5) recommendations. \n",
    "(Since our goal is to recommend new products to each user based on his/her habits, we will recommend 5 new products.)"
   ]
  },
  {
   "cell_type": "code",
   "execution_count": 47,
   "metadata": {},
   "outputs": [],
   "source": [
    "top_5_recos = test_pred_df.groupby(\"userID\").head(5).reset_index(drop=True)"
   ]
  },
  {
   "cell_type": "code",
   "execution_count": 48,
   "metadata": {},
   "outputs": [
    {
     "data": {
      "text/html": [
       "<div>\n",
       "<style scoped>\n",
       "    .dataframe tbody tr th:only-of-type {\n",
       "        vertical-align: middle;\n",
       "    }\n",
       "\n",
       "    .dataframe tbody tr th {\n",
       "        vertical-align: top;\n",
       "    }\n",
       "\n",
       "    .dataframe thead th {\n",
       "        text-align: right;\n",
       "    }\n",
       "</style>\n",
       "<table border=\"1\" class=\"dataframe\">\n",
       "  <thead>\n",
       "    <tr style=\"text-align: right;\">\n",
       "      <th></th>\n",
       "      <th>userID</th>\n",
       "      <th>itemID</th>\n",
       "      <th>pred_elecRating</th>\n",
       "    </tr>\n",
       "  </thead>\n",
       "  <tbody>\n",
       "    <tr>\n",
       "      <td>0</td>\n",
       "      <td>AZOK5STV85FBJ</td>\n",
       "      <td>B000CMGJ0G</td>\n",
       "      <td>4.265567</td>\n",
       "    </tr>\n",
       "    <tr>\n",
       "      <td>1</td>\n",
       "      <td>AZOK5STV85FBJ</td>\n",
       "      <td>B000UGT5GO</td>\n",
       "      <td>4.265567</td>\n",
       "    </tr>\n",
       "    <tr>\n",
       "      <td>2</td>\n",
       "      <td>AZOK5STV85FBJ</td>\n",
       "      <td>B000X39TKG</td>\n",
       "      <td>4.265567</td>\n",
       "    </tr>\n",
       "    <tr>\n",
       "      <td>3</td>\n",
       "      <td>AZOK5STV85FBJ</td>\n",
       "      <td>B000VS7XY2</td>\n",
       "      <td>4.265567</td>\n",
       "    </tr>\n",
       "    <tr>\n",
       "      <td>4</td>\n",
       "      <td>AZOK5STV85FBJ</td>\n",
       "      <td>B003AXAAWW</td>\n",
       "      <td>4.265567</td>\n",
       "    </tr>\n",
       "    <tr>\n",
       "      <td>5</td>\n",
       "      <td>AZNUHQSHZHSUE</td>\n",
       "      <td>B0016J5TGY</td>\n",
       "      <td>4.265567</td>\n",
       "    </tr>\n",
       "    <tr>\n",
       "      <td>6</td>\n",
       "      <td>AZNUHQSHZHSUE</td>\n",
       "      <td>B000A6AXHE</td>\n",
       "      <td>4.265567</td>\n",
       "    </tr>\n",
       "    <tr>\n",
       "      <td>7</td>\n",
       "      <td>AZNUHQSHZHSUE</td>\n",
       "      <td>B000X27U44</td>\n",
       "      <td>4.265567</td>\n",
       "    </tr>\n",
       "    <tr>\n",
       "      <td>8</td>\n",
       "      <td>AZNUHQSHZHSUE</td>\n",
       "      <td>B001DFZ5J2</td>\n",
       "      <td>4.265567</td>\n",
       "    </tr>\n",
       "    <tr>\n",
       "      <td>9</td>\n",
       "      <td>AZNUHQSHZHSUE</td>\n",
       "      <td>B0043IA6J0</td>\n",
       "      <td>4.265567</td>\n",
       "    </tr>\n",
       "    <tr>\n",
       "      <td>10</td>\n",
       "      <td>AZMY6E8B52L2T</td>\n",
       "      <td>B00L2442H0</td>\n",
       "      <td>4.696073</td>\n",
       "    </tr>\n",
       "    <tr>\n",
       "      <td>11</td>\n",
       "      <td>AZMY6E8B52L2T</td>\n",
       "      <td>B00E95OT6I</td>\n",
       "      <td>4.475014</td>\n",
       "    </tr>\n",
       "    <tr>\n",
       "      <td>12</td>\n",
       "      <td>AZMY6E8B52L2T</td>\n",
       "      <td>B000BQ7GW8</td>\n",
       "      <td>4.320025</td>\n",
       "    </tr>\n",
       "    <tr>\n",
       "      <td>13</td>\n",
       "      <td>AZMY6E8B52L2T</td>\n",
       "      <td>B00CJRZ31S</td>\n",
       "      <td>4.291051</td>\n",
       "    </tr>\n",
       "    <tr>\n",
       "      <td>14</td>\n",
       "      <td>AZMY6E8B52L2T</td>\n",
       "      <td>B00GY3EZ9O</td>\n",
       "      <td>4.265567</td>\n",
       "    </tr>\n",
       "    <tr>\n",
       "      <td>15</td>\n",
       "      <td>AZCE11PSTCH1L</td>\n",
       "      <td>B002G1YPH0</td>\n",
       "      <td>5.000000</td>\n",
       "    </tr>\n",
       "    <tr>\n",
       "      <td>16</td>\n",
       "      <td>AZCE11PSTCH1L</td>\n",
       "      <td>B00DTOFGKI</td>\n",
       "      <td>4.265567</td>\n",
       "    </tr>\n",
       "    <tr>\n",
       "      <td>17</td>\n",
       "      <td>AZCE11PSTCH1L</td>\n",
       "      <td>B00D9UVS0Y</td>\n",
       "      <td>4.265567</td>\n",
       "    </tr>\n",
       "    <tr>\n",
       "      <td>18</td>\n",
       "      <td>AZCE11PSTCH1L</td>\n",
       "      <td>B00IRILBUU</td>\n",
       "      <td>4.265567</td>\n",
       "    </tr>\n",
       "    <tr>\n",
       "      <td>19</td>\n",
       "      <td>AZCE11PSTCH1L</td>\n",
       "      <td>B004MB9RF2</td>\n",
       "      <td>4.265567</td>\n",
       "    </tr>\n",
       "    <tr>\n",
       "      <td>20</td>\n",
       "      <td>AZBXKUH4AIW3X</td>\n",
       "      <td>B002KCKX8K</td>\n",
       "      <td>4.265567</td>\n",
       "    </tr>\n",
       "    <tr>\n",
       "      <td>21</td>\n",
       "      <td>AZBXKUH4AIW3X</td>\n",
       "      <td>B009GUMVKW</td>\n",
       "      <td>4.265567</td>\n",
       "    </tr>\n",
       "    <tr>\n",
       "      <td>22</td>\n",
       "      <td>AZBXKUH4AIW3X</td>\n",
       "      <td>B00009X3RO</td>\n",
       "      <td>4.265567</td>\n",
       "    </tr>\n",
       "    <tr>\n",
       "      <td>23</td>\n",
       "      <td>AZBXKUH4AIW3X</td>\n",
       "      <td>B00DE7SHII</td>\n",
       "      <td>4.265567</td>\n",
       "    </tr>\n",
       "    <tr>\n",
       "      <td>24</td>\n",
       "      <td>AZBXKUH4AIW3X</td>\n",
       "      <td>B005I76KGI</td>\n",
       "      <td>4.265567</td>\n",
       "    </tr>\n",
       "    <tr>\n",
       "      <td>25</td>\n",
       "      <td>AZAC8O310IK4E</td>\n",
       "      <td>B002Y6CJJ8</td>\n",
       "      <td>5.000000</td>\n",
       "    </tr>\n",
       "    <tr>\n",
       "      <td>26</td>\n",
       "      <td>AZAC8O310IK4E</td>\n",
       "      <td>B000HPV3RW</td>\n",
       "      <td>5.000000</td>\n",
       "    </tr>\n",
       "    <tr>\n",
       "      <td>27</td>\n",
       "      <td>AZAC8O310IK4E</td>\n",
       "      <td>B001F7AHXM</td>\n",
       "      <td>4.428327</td>\n",
       "    </tr>\n",
       "    <tr>\n",
       "      <td>28</td>\n",
       "      <td>AZAC8O310IK4E</td>\n",
       "      <td>B001FWBUUG</td>\n",
       "      <td>4.401179</td>\n",
       "    </tr>\n",
       "    <tr>\n",
       "      <td>29</td>\n",
       "      <td>AZAC8O310IK4E</td>\n",
       "      <td>B003ZSHNGS</td>\n",
       "      <td>4.365957</td>\n",
       "    </tr>\n",
       "  </tbody>\n",
       "</table>\n",
       "</div>"
      ],
      "text/plain": [
       "           userID      itemID  pred_elecRating\n",
       "0   AZOK5STV85FBJ  B000CMGJ0G         4.265567\n",
       "1   AZOK5STV85FBJ  B000UGT5GO         4.265567\n",
       "2   AZOK5STV85FBJ  B000X39TKG         4.265567\n",
       "3   AZOK5STV85FBJ  B000VS7XY2         4.265567\n",
       "4   AZOK5STV85FBJ  B003AXAAWW         4.265567\n",
       "5   AZNUHQSHZHSUE  B0016J5TGY         4.265567\n",
       "6   AZNUHQSHZHSUE  B000A6AXHE         4.265567\n",
       "7   AZNUHQSHZHSUE  B000X27U44         4.265567\n",
       "8   AZNUHQSHZHSUE  B001DFZ5J2         4.265567\n",
       "9   AZNUHQSHZHSUE  B0043IA6J0         4.265567\n",
       "10  AZMY6E8B52L2T  B00L2442H0         4.696073\n",
       "11  AZMY6E8B52L2T  B00E95OT6I         4.475014\n",
       "12  AZMY6E8B52L2T  B000BQ7GW8         4.320025\n",
       "13  AZMY6E8B52L2T  B00CJRZ31S         4.291051\n",
       "14  AZMY6E8B52L2T  B00GY3EZ9O         4.265567\n",
       "15  AZCE11PSTCH1L  B002G1YPH0         5.000000\n",
       "16  AZCE11PSTCH1L  B00DTOFGKI         4.265567\n",
       "17  AZCE11PSTCH1L  B00D9UVS0Y         4.265567\n",
       "18  AZCE11PSTCH1L  B00IRILBUU         4.265567\n",
       "19  AZCE11PSTCH1L  B004MB9RF2         4.265567\n",
       "20  AZBXKUH4AIW3X  B002KCKX8K         4.265567\n",
       "21  AZBXKUH4AIW3X  B009GUMVKW         4.265567\n",
       "22  AZBXKUH4AIW3X  B00009X3RO         4.265567\n",
       "23  AZBXKUH4AIW3X  B00DE7SHII         4.265567\n",
       "24  AZBXKUH4AIW3X  B005I76KGI         4.265567\n",
       "25  AZAC8O310IK4E  B002Y6CJJ8         5.000000\n",
       "26  AZAC8O310IK4E  B000HPV3RW         5.000000\n",
       "27  AZAC8O310IK4E  B001F7AHXM         4.428327\n",
       "28  AZAC8O310IK4E  B001FWBUUG         4.401179\n",
       "29  AZAC8O310IK4E  B003ZSHNGS         4.365957"
      ]
     },
     "execution_count": 48,
     "metadata": {},
     "output_type": "execute_result"
    }
   ],
   "source": [
    "top_5_recos.head(30)"
   ]
  },
  {
   "cell_type": "markdown",
   "metadata": {},
   "source": [
    "### 8-B. Summarise your insights."
   ]
  },
  {
   "cell_type": "markdown",
   "metadata": {},
   "source": [
    "> * SVD based Collaborative filtering we are able to suggest new products to each user\n",
    "> * SVD is faster compared to Item based Collab Filtering. However the accuracy is comparitively lesser as compared to Item based Collab filtering as the RMSE is relatively greater in this case.\n",
    "> * In this case we have suggested only 5 products. By tweaking the **head(5) to a bigger number** we can get much more item recommendations to the user."
   ]
  },
  {
   "cell_type": "code",
   "execution_count": null,
   "metadata": {},
   "outputs": [],
   "source": []
  }
 ],
 "metadata": {
  "kernelspec": {
   "display_name": "Python 3",
   "language": "python",
   "name": "python3"
  },
  "language_info": {
   "codemirror_mode": {
    "name": "ipython",
    "version": 3
   },
   "file_extension": ".py",
   "mimetype": "text/x-python",
   "name": "python",
   "nbconvert_exporter": "python",
   "pygments_lexer": "ipython3",
   "version": "3.8.8"
  }
 },
 "nbformat": 4,
 "nbformat_minor": 2
}
