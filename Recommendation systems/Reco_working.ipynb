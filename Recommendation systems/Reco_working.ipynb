{
 "cells": [
  {
   "cell_type": "code",
   "execution_count": 1,
   "id": "76ea27fe",
   "metadata": {},
   "outputs": [
    {
     "data": {
      "text/html": [
       "<div>\n",
       "<style scoped>\n",
       "    .dataframe tbody tr th:only-of-type {\n",
       "        vertical-align: middle;\n",
       "    }\n",
       "\n",
       "    .dataframe tbody tr th {\n",
       "        vertical-align: top;\n",
       "    }\n",
       "\n",
       "    .dataframe thead th {\n",
       "        text-align: right;\n",
       "    }\n",
       "</style>\n",
       "<table border=\"1\" class=\"dataframe\">\n",
       "  <thead>\n",
       "    <tr style=\"text-align: right;\">\n",
       "      <th></th>\n",
       "      <th>Srl #</th>\n",
       "      <th>Product</th>\n",
       "      <th>Purchase date</th>\n",
       "      <th>Bill no.</th>\n",
       "      <th>Customer</th>\n",
       "      <th>Rating</th>\n",
       "    </tr>\n",
       "  </thead>\n",
       "  <tbody>\n",
       "    <tr>\n",
       "      <th>0</th>\n",
       "      <td>1</td>\n",
       "      <td>One plus 7</td>\n",
       "      <td>01-05-2022</td>\n",
       "      <td>1</td>\n",
       "      <td>Suresh</td>\n",
       "      <td>8.3</td>\n",
       "    </tr>\n",
       "    <tr>\n",
       "      <th>1</th>\n",
       "      <td>2</td>\n",
       "      <td>One plus 7</td>\n",
       "      <td>01-04-2022</td>\n",
       "      <td>2</td>\n",
       "      <td>Ramesh</td>\n",
       "      <td>7.5</td>\n",
       "    </tr>\n",
       "    <tr>\n",
       "      <th>2</th>\n",
       "      <td>3</td>\n",
       "      <td>One plus 7</td>\n",
       "      <td>01-03-2022</td>\n",
       "      <td>3</td>\n",
       "      <td>Priya</td>\n",
       "      <td>7.9</td>\n",
       "    </tr>\n",
       "    <tr>\n",
       "      <th>3</th>\n",
       "      <td>4</td>\n",
       "      <td>One plus 5</td>\n",
       "      <td>14-02-2022</td>\n",
       "      <td>4</td>\n",
       "      <td>Pooja</td>\n",
       "      <td>8.5</td>\n",
       "    </tr>\n",
       "    <tr>\n",
       "      <th>4</th>\n",
       "      <td>5</td>\n",
       "      <td>One plus 5</td>\n",
       "      <td>12-01-2022</td>\n",
       "      <td>5</td>\n",
       "      <td>Twinkle</td>\n",
       "      <td>6.5</td>\n",
       "    </tr>\n",
       "    <tr>\n",
       "      <th>5</th>\n",
       "      <td>6</td>\n",
       "      <td>One plus 7</td>\n",
       "      <td>16-03-2022</td>\n",
       "      <td>6</td>\n",
       "      <td>Ranjani</td>\n",
       "      <td>8.3</td>\n",
       "    </tr>\n",
       "    <tr>\n",
       "      <th>6</th>\n",
       "      <td>7</td>\n",
       "      <td>One plus 7</td>\n",
       "      <td>01-03-2022</td>\n",
       "      <td>7</td>\n",
       "      <td>Himayat</td>\n",
       "      <td>7.5</td>\n",
       "    </tr>\n",
       "    <tr>\n",
       "      <th>7</th>\n",
       "      <td>8</td>\n",
       "      <td>One plus 7</td>\n",
       "      <td>27-01-2022</td>\n",
       "      <td>8</td>\n",
       "      <td>Gokul</td>\n",
       "      <td>7.9</td>\n",
       "    </tr>\n",
       "    <tr>\n",
       "      <th>8</th>\n",
       "      <td>9</td>\n",
       "      <td>One plus 7</td>\n",
       "      <td>31-03-2022</td>\n",
       "      <td>9</td>\n",
       "      <td>Ajay</td>\n",
       "      <td>8.5</td>\n",
       "    </tr>\n",
       "    <tr>\n",
       "      <th>9</th>\n",
       "      <td>10</td>\n",
       "      <td>One plus 7</td>\n",
       "      <td>16-03-2022</td>\n",
       "      <td>10</td>\n",
       "      <td>Pandurang</td>\n",
       "      <td>6.5</td>\n",
       "    </tr>\n",
       "    <tr>\n",
       "      <th>10</th>\n",
       "      <td>11</td>\n",
       "      <td>One plus 7</td>\n",
       "      <td>11-02-2022</td>\n",
       "      <td>11</td>\n",
       "      <td>Suresh</td>\n",
       "      <td>5.5</td>\n",
       "    </tr>\n",
       "    <tr>\n",
       "      <th>11</th>\n",
       "      <td>12</td>\n",
       "      <td>One plus 5</td>\n",
       "      <td>15-04-2022</td>\n",
       "      <td>12</td>\n",
       "      <td>Ramesh</td>\n",
       "      <td>4.8</td>\n",
       "    </tr>\n",
       "    <tr>\n",
       "      <th>12</th>\n",
       "      <td>13</td>\n",
       "      <td>One plus 5</td>\n",
       "      <td>31-03-2022</td>\n",
       "      <td>13</td>\n",
       "      <td>Priya</td>\n",
       "      <td>9.2</td>\n",
       "    </tr>\n",
       "    <tr>\n",
       "      <th>13</th>\n",
       "      <td>14</td>\n",
       "      <td>One plus 5</td>\n",
       "      <td>26-02-2022</td>\n",
       "      <td>14</td>\n",
       "      <td>Pooja</td>\n",
       "      <td>10.0</td>\n",
       "    </tr>\n",
       "    <tr>\n",
       "      <th>14</th>\n",
       "      <td>15</td>\n",
       "      <td>One plus 5</td>\n",
       "      <td>30-04-2022</td>\n",
       "      <td>15</td>\n",
       "      <td>Twinkle</td>\n",
       "      <td>5.0</td>\n",
       "    </tr>\n",
       "    <tr>\n",
       "      <th>15</th>\n",
       "      <td>16</td>\n",
       "      <td>One plus 5</td>\n",
       "      <td>15-04-2022</td>\n",
       "      <td>16</td>\n",
       "      <td>Ranjani</td>\n",
       "      <td>6.0</td>\n",
       "    </tr>\n",
       "    <tr>\n",
       "      <th>16</th>\n",
       "      <td>17</td>\n",
       "      <td>One plus 5</td>\n",
       "      <td>13-03-2022</td>\n",
       "      <td>17</td>\n",
       "      <td>Himayat</td>\n",
       "      <td>7.0</td>\n",
       "    </tr>\n",
       "    <tr>\n",
       "      <th>17</th>\n",
       "      <td>18</td>\n",
       "      <td>One plus 8</td>\n",
       "      <td>15-05-2022</td>\n",
       "      <td>18</td>\n",
       "      <td>Gokul</td>\n",
       "      <td>7.3</td>\n",
       "    </tr>\n",
       "    <tr>\n",
       "      <th>18</th>\n",
       "      <td>19</td>\n",
       "      <td>One plus 8</td>\n",
       "      <td>30-04-2022</td>\n",
       "      <td>19</td>\n",
       "      <td>Ajay</td>\n",
       "      <td>8.5</td>\n",
       "    </tr>\n",
       "    <tr>\n",
       "      <th>19</th>\n",
       "      <td>20</td>\n",
       "      <td>One plus 8</td>\n",
       "      <td>28-03-2022</td>\n",
       "      <td>20</td>\n",
       "      <td>Pandurang</td>\n",
       "      <td>4.8</td>\n",
       "    </tr>\n",
       "    <tr>\n",
       "      <th>20</th>\n",
       "      <td>21</td>\n",
       "      <td>One plus 8</td>\n",
       "      <td>30-05-2022</td>\n",
       "      <td>21</td>\n",
       "      <td>Kohli</td>\n",
       "      <td>6.0</td>\n",
       "    </tr>\n",
       "    <tr>\n",
       "      <th>21</th>\n",
       "      <td>22</td>\n",
       "      <td>One plus 8</td>\n",
       "      <td>15-05-2022</td>\n",
       "      <td>22</td>\n",
       "      <td>Bumrah</td>\n",
       "      <td>6.0</td>\n",
       "    </tr>\n",
       "    <tr>\n",
       "      <th>22</th>\n",
       "      <td>23</td>\n",
       "      <td>One plus Nerd</td>\n",
       "      <td>12-04-2022</td>\n",
       "      <td>23</td>\n",
       "      <td>Suresh</td>\n",
       "      <td>7.9</td>\n",
       "    </tr>\n",
       "    <tr>\n",
       "      <th>23</th>\n",
       "      <td>24</td>\n",
       "      <td>One plus Nerd</td>\n",
       "      <td>14-06-2022</td>\n",
       "      <td>24</td>\n",
       "      <td>Ramesh</td>\n",
       "      <td>8.5</td>\n",
       "    </tr>\n",
       "    <tr>\n",
       "      <th>24</th>\n",
       "      <td>25</td>\n",
       "      <td>One plus Nerd</td>\n",
       "      <td>30-05-2022</td>\n",
       "      <td>25</td>\n",
       "      <td>Priya</td>\n",
       "      <td>6.5</td>\n",
       "    </tr>\n",
       "    <tr>\n",
       "      <th>25</th>\n",
       "      <td>26</td>\n",
       "      <td>One plus Nerd</td>\n",
       "      <td>27-04-2022</td>\n",
       "      <td>26</td>\n",
       "      <td>Pooja</td>\n",
       "      <td>5.5</td>\n",
       "    </tr>\n",
       "    <tr>\n",
       "      <th>26</th>\n",
       "      <td>27</td>\n",
       "      <td>One plus Nerd</td>\n",
       "      <td>29-06-2022</td>\n",
       "      <td>27</td>\n",
       "      <td>Twinkle</td>\n",
       "      <td>4.8</td>\n",
       "    </tr>\n",
       "    <tr>\n",
       "      <th>27</th>\n",
       "      <td>28</td>\n",
       "      <td>One plus Nerd</td>\n",
       "      <td>14-06-2022</td>\n",
       "      <td>28</td>\n",
       "      <td>Ranjani</td>\n",
       "      <td>9.2</td>\n",
       "    </tr>\n",
       "    <tr>\n",
       "      <th>28</th>\n",
       "      <td>29</td>\n",
       "      <td>One plus Nerd</td>\n",
       "      <td>12-05-2022</td>\n",
       "      <td>29</td>\n",
       "      <td>Himayat</td>\n",
       "      <td>10.0</td>\n",
       "    </tr>\n",
       "    <tr>\n",
       "      <th>29</th>\n",
       "      <td>30</td>\n",
       "      <td>One plus Nerd</td>\n",
       "      <td>14-07-2022</td>\n",
       "      <td>30</td>\n",
       "      <td>Gokul</td>\n",
       "      <td>5.0</td>\n",
       "    </tr>\n",
       "    <tr>\n",
       "      <th>30</th>\n",
       "      <td>31</td>\n",
       "      <td>One plus Nerd</td>\n",
       "      <td>29-06-2022</td>\n",
       "      <td>31</td>\n",
       "      <td>Ajay</td>\n",
       "      <td>6.0</td>\n",
       "    </tr>\n",
       "    <tr>\n",
       "      <th>31</th>\n",
       "      <td>32</td>\n",
       "      <td>One plus Nerd</td>\n",
       "      <td>27-05-2022</td>\n",
       "      <td>32</td>\n",
       "      <td>Pandurang</td>\n",
       "      <td>7.0</td>\n",
       "    </tr>\n",
       "    <tr>\n",
       "      <th>32</th>\n",
       "      <td>33</td>\n",
       "      <td>One Plus 7 Pro</td>\n",
       "      <td>01-03-2022</td>\n",
       "      <td>33</td>\n",
       "      <td>Kohli</td>\n",
       "      <td>7.3</td>\n",
       "    </tr>\n",
       "    <tr>\n",
       "      <th>33</th>\n",
       "      <td>34</td>\n",
       "      <td>One Plus 7 Pro</td>\n",
       "      <td>16-03-2022</td>\n",
       "      <td>34</td>\n",
       "      <td>Bumrah</td>\n",
       "      <td>8.5</td>\n",
       "    </tr>\n",
       "    <tr>\n",
       "      <th>34</th>\n",
       "      <td>35</td>\n",
       "      <td>One Plus 7 Pro</td>\n",
       "      <td>31-03-2022</td>\n",
       "      <td>35</td>\n",
       "      <td>Suresh</td>\n",
       "      <td>4.8</td>\n",
       "    </tr>\n",
       "    <tr>\n",
       "      <th>35</th>\n",
       "      <td>36</td>\n",
       "      <td>One Plus 7 Pro</td>\n",
       "      <td>15-04-2022</td>\n",
       "      <td>36</td>\n",
       "      <td>Ramesh</td>\n",
       "      <td>6.0</td>\n",
       "    </tr>\n",
       "    <tr>\n",
       "      <th>36</th>\n",
       "      <td>37</td>\n",
       "      <td>One Plus 7 Pro</td>\n",
       "      <td>30-04-2022</td>\n",
       "      <td>37</td>\n",
       "      <td>Priya</td>\n",
       "      <td>6.0</td>\n",
       "    </tr>\n",
       "    <tr>\n",
       "      <th>37</th>\n",
       "      <td>38</td>\n",
       "      <td>One Plus 7 Pro</td>\n",
       "      <td>15-05-2022</td>\n",
       "      <td>38</td>\n",
       "      <td>Pooja</td>\n",
       "      <td>7.5</td>\n",
       "    </tr>\n",
       "    <tr>\n",
       "      <th>38</th>\n",
       "      <td>39</td>\n",
       "      <td>One Plus 7 Pro</td>\n",
       "      <td>30-05-2022</td>\n",
       "      <td>39</td>\n",
       "      <td>Twinkle</td>\n",
       "      <td>8.2</td>\n",
       "    </tr>\n",
       "    <tr>\n",
       "      <th>39</th>\n",
       "      <td>40</td>\n",
       "      <td>One Plus 7 Pro</td>\n",
       "      <td>14-06-2022</td>\n",
       "      <td>40</td>\n",
       "      <td>Ranjani</td>\n",
       "      <td>6.5</td>\n",
       "    </tr>\n",
       "  </tbody>\n",
       "</table>\n",
       "</div>"
      ],
      "text/plain": [
       "    Srl #         Product Purchase date  Bill no.   Customer  Rating\n",
       "0       1      One plus 7    01-05-2022         1     Suresh     8.3\n",
       "1       2      One plus 7    01-04-2022         2     Ramesh     7.5\n",
       "2       3      One plus 7    01-03-2022         3      Priya     7.9\n",
       "3       4      One plus 5    14-02-2022         4      Pooja     8.5\n",
       "4       5      One plus 5    12-01-2022         5    Twinkle     6.5\n",
       "5       6      One plus 7    16-03-2022         6    Ranjani     8.3\n",
       "6       7      One plus 7    01-03-2022         7    Himayat     7.5\n",
       "7       8      One plus 7    27-01-2022         8      Gokul     7.9\n",
       "8       9      One plus 7    31-03-2022         9       Ajay     8.5\n",
       "9      10      One plus 7    16-03-2022        10  Pandurang     6.5\n",
       "10     11      One plus 7    11-02-2022        11     Suresh     5.5\n",
       "11     12      One plus 5    15-04-2022        12     Ramesh     4.8\n",
       "12     13      One plus 5    31-03-2022        13      Priya     9.2\n",
       "13     14      One plus 5    26-02-2022        14      Pooja    10.0\n",
       "14     15      One plus 5    30-04-2022        15    Twinkle     5.0\n",
       "15     16      One plus 5    15-04-2022        16    Ranjani     6.0\n",
       "16     17      One plus 5    13-03-2022        17    Himayat     7.0\n",
       "17     18      One plus 8    15-05-2022        18      Gokul     7.3\n",
       "18     19      One plus 8    30-04-2022        19       Ajay     8.5\n",
       "19     20      One plus 8    28-03-2022        20  Pandurang     4.8\n",
       "20     21      One plus 8    30-05-2022        21      Kohli     6.0\n",
       "21     22      One plus 8    15-05-2022        22     Bumrah     6.0\n",
       "22     23   One plus Nerd    12-04-2022        23     Suresh     7.9\n",
       "23     24   One plus Nerd    14-06-2022        24     Ramesh     8.5\n",
       "24     25   One plus Nerd    30-05-2022        25      Priya     6.5\n",
       "25     26   One plus Nerd    27-04-2022        26      Pooja     5.5\n",
       "26     27   One plus Nerd    29-06-2022        27    Twinkle     4.8\n",
       "27     28   One plus Nerd    14-06-2022        28    Ranjani     9.2\n",
       "28     29   One plus Nerd    12-05-2022        29    Himayat    10.0\n",
       "29     30   One plus Nerd    14-07-2022        30      Gokul     5.0\n",
       "30     31   One plus Nerd    29-06-2022        31       Ajay     6.0\n",
       "31     32   One plus Nerd    27-05-2022        32  Pandurang     7.0\n",
       "32     33  One Plus 7 Pro    01-03-2022        33      Kohli     7.3\n",
       "33     34  One Plus 7 Pro    16-03-2022        34     Bumrah     8.5\n",
       "34     35  One Plus 7 Pro    31-03-2022        35     Suresh     4.8\n",
       "35     36  One Plus 7 Pro    15-04-2022        36     Ramesh     6.0\n",
       "36     37  One Plus 7 Pro    30-04-2022        37      Priya     6.0\n",
       "37     38  One Plus 7 Pro    15-05-2022        38      Pooja     7.5\n",
       "38     39  One Plus 7 Pro    30-05-2022        39    Twinkle     8.2\n",
       "39     40  One Plus 7 Pro    14-06-2022        40    Ranjani     6.5"
      ]
     },
     "execution_count": 1,
     "metadata": {},
     "output_type": "execute_result"
    }
   ],
   "source": [
    "import numpy as np\n",
    "import pandas as pd\n",
    "\n",
    "oneplus = pd.read_csv(\"One_Plus.csv\")\n",
    "#oneplus = pd.read_excel(\"One_Plus.xlsx\")\n",
    "oneplus\n"
   ]
  },
  {
   "cell_type": "code",
   "execution_count": 35,
   "id": "9c1294cb",
   "metadata": {},
   "outputs": [],
   "source": [
    "oneplus['Customer'] = np.where( oneplus[\"Customer\"] == \"Kohli\", \"Ramesh\", oneplus['Customer'] )\n",
    "\n",
    "#df[\"gender\"] = np.where(oneplus[\"gender\"] == \"female\", 0, 1)"
   ]
  },
  {
   "cell_type": "code",
   "execution_count": 6,
   "id": "e80e0719",
   "metadata": {},
   "outputs": [
    {
     "data": {
      "text/plain": [
       "Srl #              int64\n",
       "Product           object\n",
       "Purchase date     object\n",
       "Bill no.           int64\n",
       "Customer          object\n",
       "Rating           float64\n",
       "dtype: object"
      ]
     },
     "execution_count": 6,
     "metadata": {},
     "output_type": "execute_result"
    }
   ],
   "source": [
    "oneplus.dtypes"
   ]
  },
  {
   "cell_type": "code",
   "execution_count": 7,
   "id": "2aa5c6ec",
   "metadata": {},
   "outputs": [
    {
     "data": {
      "text/html": [
       "<div>\n",
       "<style scoped>\n",
       "    .dataframe tbody tr th:only-of-type {\n",
       "        vertical-align: middle;\n",
       "    }\n",
       "\n",
       "    .dataframe tbody tr th {\n",
       "        vertical-align: top;\n",
       "    }\n",
       "\n",
       "    .dataframe thead th {\n",
       "        text-align: right;\n",
       "    }\n",
       "</style>\n",
       "<table border=\"1\" class=\"dataframe\">\n",
       "  <thead>\n",
       "    <tr style=\"text-align: right;\">\n",
       "      <th></th>\n",
       "      <th>Srl #</th>\n",
       "      <th>Bill no.</th>\n",
       "      <th>Rating</th>\n",
       "    </tr>\n",
       "  </thead>\n",
       "  <tbody>\n",
       "    <tr>\n",
       "      <th>count</th>\n",
       "      <td>40.000000</td>\n",
       "      <td>40.000000</td>\n",
       "      <td>40.000000</td>\n",
       "    </tr>\n",
       "    <tr>\n",
       "      <th>mean</th>\n",
       "      <td>20.500000</td>\n",
       "      <td>20.500000</td>\n",
       "      <td>7.067500</td>\n",
       "    </tr>\n",
       "    <tr>\n",
       "      <th>std</th>\n",
       "      <td>11.690452</td>\n",
       "      <td>11.690452</td>\n",
       "      <td>1.483134</td>\n",
       "    </tr>\n",
       "    <tr>\n",
       "      <th>min</th>\n",
       "      <td>1.000000</td>\n",
       "      <td>1.000000</td>\n",
       "      <td>4.800000</td>\n",
       "    </tr>\n",
       "    <tr>\n",
       "      <th>25%</th>\n",
       "      <td>10.750000</td>\n",
       "      <td>10.750000</td>\n",
       "      <td>6.000000</td>\n",
       "    </tr>\n",
       "    <tr>\n",
       "      <th>50%</th>\n",
       "      <td>20.500000</td>\n",
       "      <td>20.500000</td>\n",
       "      <td>7.150000</td>\n",
       "    </tr>\n",
       "    <tr>\n",
       "      <th>75%</th>\n",
       "      <td>30.250000</td>\n",
       "      <td>30.250000</td>\n",
       "      <td>8.300000</td>\n",
       "    </tr>\n",
       "    <tr>\n",
       "      <th>max</th>\n",
       "      <td>40.000000</td>\n",
       "      <td>40.000000</td>\n",
       "      <td>10.000000</td>\n",
       "    </tr>\n",
       "  </tbody>\n",
       "</table>\n",
       "</div>"
      ],
      "text/plain": [
       "           Srl #   Bill no.     Rating\n",
       "count  40.000000  40.000000  40.000000\n",
       "mean   20.500000  20.500000   7.067500\n",
       "std    11.690452  11.690452   1.483134\n",
       "min     1.000000   1.000000   4.800000\n",
       "25%    10.750000  10.750000   6.000000\n",
       "50%    20.500000  20.500000   7.150000\n",
       "75%    30.250000  30.250000   8.300000\n",
       "max    40.000000  40.000000  10.000000"
      ]
     },
     "execution_count": 7,
     "metadata": {},
     "output_type": "execute_result"
    }
   ],
   "source": [
    "oneplus.describe()"
   ]
  },
  {
   "cell_type": "code",
   "execution_count": 5,
   "id": "763b66df",
   "metadata": {},
   "outputs": [
    {
     "data": {
      "text/plain": [
       "(40, 6)"
      ]
     },
     "execution_count": 5,
     "metadata": {},
     "output_type": "execute_result"
    }
   ],
   "source": [
    "oneplus.shape"
   ]
  },
  {
   "cell_type": "code",
   "execution_count": 37,
   "id": "06b45ce1",
   "metadata": {},
   "outputs": [
    {
     "data": {
      "text/plain": [
       "Ramesh       6\n",
       "Ranjani      4\n",
       "Suresh       4\n",
       "Pooja        4\n",
       "Twinkle      4\n",
       "Priya        4\n",
       "Ajay         3\n",
       "Himayat      3\n",
       "Pandurang    3\n",
       "Gokul        3\n",
       "Bumrah       2\n",
       "Name: Customer, dtype: int64"
      ]
     },
     "execution_count": 37,
     "metadata": {},
     "output_type": "execute_result"
    }
   ],
   "source": [
    "oneplus['Customer'].value_counts()\n",
    "\n",
    "# Customers who have purchased most products"
   ]
  },
  {
   "cell_type": "code",
   "execution_count": 39,
   "id": "da0f137c",
   "metadata": {},
   "outputs": [
    {
     "data": {
      "text/html": [
       "<div>\n",
       "<style scoped>\n",
       "    .dataframe tbody tr th:only-of-type {\n",
       "        vertical-align: middle;\n",
       "    }\n",
       "\n",
       "    .dataframe tbody tr th {\n",
       "        vertical-align: top;\n",
       "    }\n",
       "\n",
       "    .dataframe thead th {\n",
       "        text-align: right;\n",
       "    }\n",
       "</style>\n",
       "<table border=\"1\" class=\"dataframe\">\n",
       "  <thead>\n",
       "    <tr style=\"text-align: right;\">\n",
       "      <th></th>\n",
       "      <th>Product</th>\n",
       "      <th>Customers_who_bought_this_item</th>\n",
       "    </tr>\n",
       "  </thead>\n",
       "  <tbody>\n",
       "    <tr>\n",
       "      <th>4</th>\n",
       "      <td>One plus Nerd</td>\n",
       "      <td>10</td>\n",
       "    </tr>\n",
       "    <tr>\n",
       "      <th>2</th>\n",
       "      <td>One plus 7</td>\n",
       "      <td>9</td>\n",
       "    </tr>\n",
       "    <tr>\n",
       "      <th>0</th>\n",
       "      <td>One Plus 7 Pro</td>\n",
       "      <td>8</td>\n",
       "    </tr>\n",
       "    <tr>\n",
       "      <th>1</th>\n",
       "      <td>One plus 5</td>\n",
       "      <td>8</td>\n",
       "    </tr>\n",
       "    <tr>\n",
       "      <th>3</th>\n",
       "      <td>One plus 8</td>\n",
       "      <td>5</td>\n",
       "    </tr>\n",
       "  </tbody>\n",
       "</table>\n",
       "</div>"
      ],
      "text/plain": [
       "          Product  Customers_who_bought_this_item\n",
       "4   One plus Nerd                              10\n",
       "2      One plus 7                               9\n",
       "0  One Plus 7 Pro                               8\n",
       "1      One plus 5                               8\n",
       "3      One plus 8                               5"
      ]
     },
     "execution_count": 39,
     "metadata": {},
     "output_type": "execute_result"
    }
   ],
   "source": [
    "product_count = oneplus.groupby('Product')['Customer'].count()\n",
    "product_count_df = pd.DataFrame(product_count)\n",
    "product_count_df.reset_index(inplace=True)\n",
    "product_count_df.columns = ['Product', 'Customers_who_bought_this_item']\n",
    "product_count_df = product_count_df.sort_values(by='Customers_who_bought_this_item', ascending=False)\n",
    "product_count_df"
   ]
  },
  {
   "cell_type": "code",
   "execution_count": 40,
   "id": "bf06592e",
   "metadata": {},
   "outputs": [
    {
     "data": {
      "text/html": [
       "<div>\n",
       "<style scoped>\n",
       "    .dataframe tbody tr th:only-of-type {\n",
       "        vertical-align: middle;\n",
       "    }\n",
       "\n",
       "    .dataframe tbody tr th {\n",
       "        vertical-align: top;\n",
       "    }\n",
       "\n",
       "    .dataframe thead th {\n",
       "        text-align: right;\n",
       "    }\n",
       "</style>\n",
       "<table border=\"1\" class=\"dataframe\">\n",
       "  <thead>\n",
       "    <tr style=\"text-align: right;\">\n",
       "      <th></th>\n",
       "      <th>Product</th>\n",
       "      <th>Customers_who_bought_this_item</th>\n",
       "      <th>Rank</th>\n",
       "    </tr>\n",
       "  </thead>\n",
       "  <tbody>\n",
       "    <tr>\n",
       "      <th>4</th>\n",
       "      <td>One plus Nerd</td>\n",
       "      <td>10</td>\n",
       "      <td>1.0</td>\n",
       "    </tr>\n",
       "    <tr>\n",
       "      <th>2</th>\n",
       "      <td>One plus 7</td>\n",
       "      <td>9</td>\n",
       "      <td>2.0</td>\n",
       "    </tr>\n",
       "    <tr>\n",
       "      <th>0</th>\n",
       "      <td>One Plus 7 Pro</td>\n",
       "      <td>8</td>\n",
       "      <td>3.0</td>\n",
       "    </tr>\n",
       "    <tr>\n",
       "      <th>1</th>\n",
       "      <td>One plus 5</td>\n",
       "      <td>8</td>\n",
       "      <td>3.0</td>\n",
       "    </tr>\n",
       "    <tr>\n",
       "      <th>3</th>\n",
       "      <td>One plus 8</td>\n",
       "      <td>5</td>\n",
       "      <td>4.0</td>\n",
       "    </tr>\n",
       "  </tbody>\n",
       "</table>\n",
       "</div>"
      ],
      "text/plain": [
       "          Product  Customers_who_bought_this_item  Rank\n",
       "4   One plus Nerd                              10   1.0\n",
       "2      One plus 7                               9   2.0\n",
       "0  One Plus 7 Pro                               8   3.0\n",
       "1      One plus 5                               8   3.0\n",
       "3      One plus 8                               5   4.0"
      ]
     },
     "execution_count": 40,
     "metadata": {},
     "output_type": "execute_result"
    }
   ],
   "source": [
    "product_count_df['Rank'] = product_count_df['Customers_who_bought_this_item'].rank(method='dense', ascending=False)\n",
    "product_count_df.head(10)"
   ]
  },
  {
   "cell_type": "code",
   "execution_count": 41,
   "id": "2a6ced5b",
   "metadata": {},
   "outputs": [],
   "source": [
    "from surprise import Dataset,Reader\n",
    "from surprise.model_selection import cross_validate\n",
    "from surprise import NormalPredictor\n",
    "\n",
    "#### Set the rating scale from 1 to 10\n",
    "reader = Reader(rating_scale=(1, 10))"
   ]
  },
  {
   "cell_type": "code",
   "execution_count": null,
   "id": "ddb0af27",
   "metadata": {},
   "outputs": [],
   "source": []
  },
  {
   "cell_type": "code",
   "execution_count": 38,
   "id": "56628f03",
   "metadata": {},
   "outputs": [
    {
     "data": {
      "text/plain": [
       "One plus Nerd     10\n",
       "One plus 7         9\n",
       "One plus 5         8\n",
       "One Plus 7 Pro     8\n",
       "One plus 8         5\n",
       "Name: Product, dtype: int64"
      ]
     },
     "execution_count": 38,
     "metadata": {},
     "output_type": "execute_result"
    }
   ],
   "source": [
    "oneplus['Product'].value_counts()\n",
    "\n",
    "# Products which has been sold most"
   ]
  },
  {
   "cell_type": "code",
   "execution_count": 2,
   "id": "2523c413",
   "metadata": {},
   "outputs": [],
   "source": [
    "reco_one = oneplus.groupby('Product')[['Rating']].mean()"
   ]
  },
  {
   "cell_type": "code",
   "execution_count": 3,
   "id": "9cc3697c",
   "metadata": {},
   "outputs": [
    {
     "data": {
      "text/html": [
       "<div>\n",
       "<style scoped>\n",
       "    .dataframe tbody tr th:only-of-type {\n",
       "        vertical-align: middle;\n",
       "    }\n",
       "\n",
       "    .dataframe tbody tr th {\n",
       "        vertical-align: top;\n",
       "    }\n",
       "\n",
       "    .dataframe thead th {\n",
       "        text-align: right;\n",
       "    }\n",
       "</style>\n",
       "<table border=\"1\" class=\"dataframe\">\n",
       "  <thead>\n",
       "    <tr style=\"text-align: right;\">\n",
       "      <th></th>\n",
       "      <th>Rating</th>\n",
       "    </tr>\n",
       "    <tr>\n",
       "      <th>Product</th>\n",
       "      <th></th>\n",
       "    </tr>\n",
       "  </thead>\n",
       "  <tbody>\n",
       "    <tr>\n",
       "      <th>One Plus 7 Pro</th>\n",
       "      <td>6.850000</td>\n",
       "    </tr>\n",
       "    <tr>\n",
       "      <th>One plus 5</th>\n",
       "      <td>7.125000</td>\n",
       "    </tr>\n",
       "    <tr>\n",
       "      <th>One plus 7</th>\n",
       "      <td>7.544444</td>\n",
       "    </tr>\n",
       "    <tr>\n",
       "      <th>One plus 8</th>\n",
       "      <td>6.520000</td>\n",
       "    </tr>\n",
       "    <tr>\n",
       "      <th>One plus Nerd</th>\n",
       "      <td>7.040000</td>\n",
       "    </tr>\n",
       "  </tbody>\n",
       "</table>\n",
       "</div>"
      ],
      "text/plain": [
       "                  Rating\n",
       "Product                 \n",
       "One Plus 7 Pro  6.850000\n",
       "One plus 5      7.125000\n",
       "One plus 7      7.544444\n",
       "One plus 8      6.520000\n",
       "One plus Nerd   7.040000"
      ]
     },
     "execution_count": 3,
     "metadata": {},
     "output_type": "execute_result"
    }
   ],
   "source": [
    "reco_one"
   ]
  },
  {
   "cell_type": "code",
   "execution_count": 6,
   "id": "ea098077",
   "metadata": {},
   "outputs": [],
   "source": [
    "reco_one['Rating_counts'] = pd.DataFrame(oneplus.groupby('Product')['Rating'].count())"
   ]
  },
  {
   "cell_type": "code",
   "execution_count": 7,
   "id": "b469b897",
   "metadata": {},
   "outputs": [
    {
     "data": {
      "text/html": [
       "<div>\n",
       "<style scoped>\n",
       "    .dataframe tbody tr th:only-of-type {\n",
       "        vertical-align: middle;\n",
       "    }\n",
       "\n",
       "    .dataframe tbody tr th {\n",
       "        vertical-align: top;\n",
       "    }\n",
       "\n",
       "    .dataframe thead th {\n",
       "        text-align: right;\n",
       "    }\n",
       "</style>\n",
       "<table border=\"1\" class=\"dataframe\">\n",
       "  <thead>\n",
       "    <tr style=\"text-align: right;\">\n",
       "      <th></th>\n",
       "      <th>Rating</th>\n",
       "      <th>Rating_counts</th>\n",
       "    </tr>\n",
       "    <tr>\n",
       "      <th>Product</th>\n",
       "      <th></th>\n",
       "      <th></th>\n",
       "    </tr>\n",
       "  </thead>\n",
       "  <tbody>\n",
       "    <tr>\n",
       "      <th>One plus 7</th>\n",
       "      <td>7.544444</td>\n",
       "      <td>9</td>\n",
       "    </tr>\n",
       "    <tr>\n",
       "      <th>One plus 5</th>\n",
       "      <td>7.125000</td>\n",
       "      <td>8</td>\n",
       "    </tr>\n",
       "    <tr>\n",
       "      <th>One plus Nerd</th>\n",
       "      <td>7.040000</td>\n",
       "      <td>10</td>\n",
       "    </tr>\n",
       "    <tr>\n",
       "      <th>One Plus 7 Pro</th>\n",
       "      <td>6.850000</td>\n",
       "      <td>8</td>\n",
       "    </tr>\n",
       "    <tr>\n",
       "      <th>One plus 8</th>\n",
       "      <td>6.520000</td>\n",
       "      <td>5</td>\n",
       "    </tr>\n",
       "  </tbody>\n",
       "</table>\n",
       "</div>"
      ],
      "text/plain": [
       "                  Rating  Rating_counts\n",
       "Product                                \n",
       "One plus 7      7.544444              9\n",
       "One plus 5      7.125000              8\n",
       "One plus Nerd   7.040000             10\n",
       "One Plus 7 Pro  6.850000              8\n",
       "One plus 8      6.520000              5"
      ]
     },
     "execution_count": 7,
     "metadata": {},
     "output_type": "execute_result"
    }
   ],
   "source": [
    "reco_one.sort_values(by=['Rating','Rating_counts'], ascending=False).head(10)"
   ]
  },
  {
   "cell_type": "code",
   "execution_count": 8,
   "id": "17d69892",
   "metadata": {},
   "outputs": [
    {
     "name": "stdout",
     "output_type": "stream",
     "text": [
      "Number of Ratings: 40\n",
      "Number of unique phones: 5\n",
      "Number of unique customers: 12\n",
      "Average rating per customer: 3.33\n",
      "Average rating per phone: 8.0\n"
     ]
    },
    {
     "data": {
      "text/html": [
       "<div>\n",
       "<style scoped>\n",
       "    .dataframe tbody tr th:only-of-type {\n",
       "        vertical-align: middle;\n",
       "    }\n",
       "\n",
       "    .dataframe tbody tr th {\n",
       "        vertical-align: top;\n",
       "    }\n",
       "\n",
       "    .dataframe thead th {\n",
       "        text-align: right;\n",
       "    }\n",
       "</style>\n",
       "<table border=\"1\" class=\"dataframe\">\n",
       "  <thead>\n",
       "    <tr style=\"text-align: right;\">\n",
       "      <th></th>\n",
       "      <th>Customer</th>\n",
       "      <th>Product</th>\n",
       "    </tr>\n",
       "  </thead>\n",
       "  <tbody>\n",
       "    <tr>\n",
       "      <th>0</th>\n",
       "      <td>Ajay</td>\n",
       "      <td>3</td>\n",
       "    </tr>\n",
       "    <tr>\n",
       "      <th>1</th>\n",
       "      <td>Bumrah</td>\n",
       "      <td>2</td>\n",
       "    </tr>\n",
       "    <tr>\n",
       "      <th>2</th>\n",
       "      <td>Gokul</td>\n",
       "      <td>3</td>\n",
       "    </tr>\n",
       "    <tr>\n",
       "      <th>3</th>\n",
       "      <td>Himayat</td>\n",
       "      <td>3</td>\n",
       "    </tr>\n",
       "    <tr>\n",
       "      <th>4</th>\n",
       "      <td>Kohli</td>\n",
       "      <td>2</td>\n",
       "    </tr>\n",
       "  </tbody>\n",
       "</table>\n",
       "</div>"
      ],
      "text/plain": [
       "  Customer  Product\n",
       "0     Ajay        3\n",
       "1   Bumrah        2\n",
       "2    Gokul        3\n",
       "3  Himayat        3\n",
       "4    Kohli        2"
      ]
     },
     "execution_count": 8,
     "metadata": {},
     "output_type": "execute_result"
    }
   ],
   "source": [
    "n_rating = len(oneplus[\"Rating\"])\n",
    "n_phones = len(oneplus['Product'].unique())\n",
    "n_cust = len(oneplus['Customer'].unique())\n",
    "  \n",
    "print(f\"Number of Ratings: {n_rating}\")\n",
    "print(f\"Number of unique phones: {n_phones}\")\n",
    "print(f\"Number of unique customers: {n_cust}\")\n",
    "print(f\"Average rating per customer: {round(n_rating/n_cust, 2)}\")\n",
    "print(f\"Average rating per phone: {round(n_rating/n_phones, 2)}\")\n",
    "  \n",
    "cust_freq = oneplus[['Customer', 'Product']].groupby('Customer').count().reset_index()\n",
    "\n",
    "cust_freq.head()\n"
   ]
  },
  {
   "cell_type": "code",
   "execution_count": 9,
   "id": "9f3e9045",
   "metadata": {},
   "outputs": [],
   "source": [
    "cust_freq.columns = ['Customer', 'n_rating']"
   ]
  },
  {
   "cell_type": "code",
   "execution_count": 10,
   "id": "83fe4d2f",
   "metadata": {},
   "outputs": [
    {
     "data": {
      "text/html": [
       "<div>\n",
       "<style scoped>\n",
       "    .dataframe tbody tr th:only-of-type {\n",
       "        vertical-align: middle;\n",
       "    }\n",
       "\n",
       "    .dataframe tbody tr th {\n",
       "        vertical-align: top;\n",
       "    }\n",
       "\n",
       "    .dataframe thead th {\n",
       "        text-align: right;\n",
       "    }\n",
       "</style>\n",
       "<table border=\"1\" class=\"dataframe\">\n",
       "  <thead>\n",
       "    <tr style=\"text-align: right;\">\n",
       "      <th></th>\n",
       "      <th>Customer</th>\n",
       "      <th>n_rating</th>\n",
       "    </tr>\n",
       "  </thead>\n",
       "  <tbody>\n",
       "    <tr>\n",
       "      <th>0</th>\n",
       "      <td>Ajay</td>\n",
       "      <td>3</td>\n",
       "    </tr>\n",
       "    <tr>\n",
       "      <th>1</th>\n",
       "      <td>Bumrah</td>\n",
       "      <td>2</td>\n",
       "    </tr>\n",
       "    <tr>\n",
       "      <th>2</th>\n",
       "      <td>Gokul</td>\n",
       "      <td>3</td>\n",
       "    </tr>\n",
       "    <tr>\n",
       "      <th>3</th>\n",
       "      <td>Himayat</td>\n",
       "      <td>3</td>\n",
       "    </tr>\n",
       "    <tr>\n",
       "      <th>4</th>\n",
       "      <td>Kohli</td>\n",
       "      <td>2</td>\n",
       "    </tr>\n",
       "  </tbody>\n",
       "</table>\n",
       "</div>"
      ],
      "text/plain": [
       "  Customer  n_rating\n",
       "0     Ajay         3\n",
       "1   Bumrah         2\n",
       "2    Gokul         3\n",
       "3  Himayat         3\n",
       "4    Kohli         2"
      ]
     },
     "execution_count": 10,
     "metadata": {},
     "output_type": "execute_result"
    }
   ],
   "source": [
    "cust_freq.head()"
   ]
  },
  {
   "cell_type": "code",
   "execution_count": 20,
   "id": "ca9fe017",
   "metadata": {},
   "outputs": [],
   "source": [
    "reco_cust = oneplus.groupby('Customer')[['Rating']].mean()"
   ]
  },
  {
   "cell_type": "code",
   "execution_count": 21,
   "id": "d2e3ee32",
   "metadata": {},
   "outputs": [],
   "source": [
    "reco_cust['Cust_Rating'] = pd.DataFrame(oneplus.groupby('Customer')['Rating'].count())"
   ]
  },
  {
   "cell_type": "code",
   "execution_count": 22,
   "id": "52ff4415",
   "metadata": {},
   "outputs": [
    {
     "data": {
      "text/html": [
       "<div>\n",
       "<style scoped>\n",
       "    .dataframe tbody tr th:only-of-type {\n",
       "        vertical-align: middle;\n",
       "    }\n",
       "\n",
       "    .dataframe tbody tr th {\n",
       "        vertical-align: top;\n",
       "    }\n",
       "\n",
       "    .dataframe thead th {\n",
       "        text-align: right;\n",
       "    }\n",
       "</style>\n",
       "<table border=\"1\" class=\"dataframe\">\n",
       "  <thead>\n",
       "    <tr style=\"text-align: right;\">\n",
       "      <th></th>\n",
       "      <th>Rating</th>\n",
       "      <th>Cust_Rating</th>\n",
       "    </tr>\n",
       "    <tr>\n",
       "      <th>Customer</th>\n",
       "      <th></th>\n",
       "      <th></th>\n",
       "    </tr>\n",
       "  </thead>\n",
       "  <tbody>\n",
       "    <tr>\n",
       "      <th>Ajay</th>\n",
       "      <td>7.666667</td>\n",
       "      <td>3</td>\n",
       "    </tr>\n",
       "    <tr>\n",
       "      <th>Bumrah</th>\n",
       "      <td>7.250000</td>\n",
       "      <td>2</td>\n",
       "    </tr>\n",
       "    <tr>\n",
       "      <th>Gokul</th>\n",
       "      <td>6.733333</td>\n",
       "      <td>3</td>\n",
       "    </tr>\n",
       "    <tr>\n",
       "      <th>Himayat</th>\n",
       "      <td>8.166667</td>\n",
       "      <td>3</td>\n",
       "    </tr>\n",
       "    <tr>\n",
       "      <th>Kohli</th>\n",
       "      <td>6.650000</td>\n",
       "      <td>2</td>\n",
       "    </tr>\n",
       "    <tr>\n",
       "      <th>Pandurang</th>\n",
       "      <td>6.100000</td>\n",
       "      <td>3</td>\n",
       "    </tr>\n",
       "    <tr>\n",
       "      <th>Pooja</th>\n",
       "      <td>7.875000</td>\n",
       "      <td>4</td>\n",
       "    </tr>\n",
       "    <tr>\n",
       "      <th>Priya</th>\n",
       "      <td>7.400000</td>\n",
       "      <td>4</td>\n",
       "    </tr>\n",
       "    <tr>\n",
       "      <th>Ramesh</th>\n",
       "      <td>6.700000</td>\n",
       "      <td>4</td>\n",
       "    </tr>\n",
       "    <tr>\n",
       "      <th>Ranjani</th>\n",
       "      <td>7.500000</td>\n",
       "      <td>4</td>\n",
       "    </tr>\n",
       "    <tr>\n",
       "      <th>Suresh</th>\n",
       "      <td>6.625000</td>\n",
       "      <td>4</td>\n",
       "    </tr>\n",
       "    <tr>\n",
       "      <th>Twinkle</th>\n",
       "      <td>6.125000</td>\n",
       "      <td>4</td>\n",
       "    </tr>\n",
       "  </tbody>\n",
       "</table>\n",
       "</div>"
      ],
      "text/plain": [
       "             Rating  Cust_Rating\n",
       "Customer                        \n",
       "Ajay       7.666667            3\n",
       "Bumrah     7.250000            2\n",
       "Gokul      6.733333            3\n",
       "Himayat    8.166667            3\n",
       "Kohli      6.650000            2\n",
       "Pandurang  6.100000            3\n",
       "Pooja      7.875000            4\n",
       "Priya      7.400000            4\n",
       "Ramesh     6.700000            4\n",
       "Ranjani    7.500000            4\n",
       "Suresh     6.625000            4\n",
       "Twinkle    6.125000            4"
      ]
     },
     "execution_count": 22,
     "metadata": {},
     "output_type": "execute_result"
    }
   ],
   "source": [
    "reco_cust"
   ]
  },
  {
   "cell_type": "code",
   "execution_count": 23,
   "id": "3330d3bb",
   "metadata": {},
   "outputs": [
    {
     "data": {
      "text/html": [
       "<div>\n",
       "<style scoped>\n",
       "    .dataframe tbody tr th:only-of-type {\n",
       "        vertical-align: middle;\n",
       "    }\n",
       "\n",
       "    .dataframe tbody tr th {\n",
       "        vertical-align: top;\n",
       "    }\n",
       "\n",
       "    .dataframe thead th {\n",
       "        text-align: right;\n",
       "    }\n",
       "</style>\n",
       "<table border=\"1\" class=\"dataframe\">\n",
       "  <thead>\n",
       "    <tr style=\"text-align: right;\">\n",
       "      <th></th>\n",
       "      <th>Rating</th>\n",
       "      <th>Cust_Rating</th>\n",
       "    </tr>\n",
       "    <tr>\n",
       "      <th>Customer</th>\n",
       "      <th></th>\n",
       "      <th></th>\n",
       "    </tr>\n",
       "  </thead>\n",
       "  <tbody>\n",
       "    <tr>\n",
       "      <th>Himayat</th>\n",
       "      <td>8.166667</td>\n",
       "      <td>3</td>\n",
       "    </tr>\n",
       "    <tr>\n",
       "      <th>Pooja</th>\n",
       "      <td>7.875000</td>\n",
       "      <td>4</td>\n",
       "    </tr>\n",
       "    <tr>\n",
       "      <th>Ajay</th>\n",
       "      <td>7.666667</td>\n",
       "      <td>3</td>\n",
       "    </tr>\n",
       "    <tr>\n",
       "      <th>Ranjani</th>\n",
       "      <td>7.500000</td>\n",
       "      <td>4</td>\n",
       "    </tr>\n",
       "    <tr>\n",
       "      <th>Priya</th>\n",
       "      <td>7.400000</td>\n",
       "      <td>4</td>\n",
       "    </tr>\n",
       "    <tr>\n",
       "      <th>Bumrah</th>\n",
       "      <td>7.250000</td>\n",
       "      <td>2</td>\n",
       "    </tr>\n",
       "    <tr>\n",
       "      <th>Gokul</th>\n",
       "      <td>6.733333</td>\n",
       "      <td>3</td>\n",
       "    </tr>\n",
       "    <tr>\n",
       "      <th>Ramesh</th>\n",
       "      <td>6.700000</td>\n",
       "      <td>4</td>\n",
       "    </tr>\n",
       "    <tr>\n",
       "      <th>Kohli</th>\n",
       "      <td>6.650000</td>\n",
       "      <td>2</td>\n",
       "    </tr>\n",
       "    <tr>\n",
       "      <th>Suresh</th>\n",
       "      <td>6.625000</td>\n",
       "      <td>4</td>\n",
       "    </tr>\n",
       "  </tbody>\n",
       "</table>\n",
       "</div>"
      ],
      "text/plain": [
       "            Rating  Cust_Rating\n",
       "Customer                       \n",
       "Himayat   8.166667            3\n",
       "Pooja     7.875000            4\n",
       "Ajay      7.666667            3\n",
       "Ranjani   7.500000            4\n",
       "Priya     7.400000            4\n",
       "Bumrah    7.250000            2\n",
       "Gokul     6.733333            3\n",
       "Ramesh    6.700000            4\n",
       "Kohli     6.650000            2\n",
       "Suresh    6.625000            4"
      ]
     },
     "execution_count": 23,
     "metadata": {},
     "output_type": "execute_result"
    }
   ],
   "source": [
    "reco_cust.sort_values(by=['Rating','Cust_Rating'], ascending=False).head(10)"
   ]
  },
  {
   "cell_type": "code",
   "execution_count": 24,
   "id": "4ebd33e5",
   "metadata": {},
   "outputs": [],
   "source": [
    "oneplus_small = oneplus[['Product','Customer','Rating']]"
   ]
  },
  {
   "cell_type": "code",
   "execution_count": 25,
   "id": "d28958ff",
   "metadata": {},
   "outputs": [
    {
     "data": {
      "text/html": [
       "<div>\n",
       "<style scoped>\n",
       "    .dataframe tbody tr th:only-of-type {\n",
       "        vertical-align: middle;\n",
       "    }\n",
       "\n",
       "    .dataframe tbody tr th {\n",
       "        vertical-align: top;\n",
       "    }\n",
       "\n",
       "    .dataframe thead th {\n",
       "        text-align: right;\n",
       "    }\n",
       "</style>\n",
       "<table border=\"1\" class=\"dataframe\">\n",
       "  <thead>\n",
       "    <tr style=\"text-align: right;\">\n",
       "      <th></th>\n",
       "      <th>Product</th>\n",
       "      <th>Customer</th>\n",
       "      <th>Rating</th>\n",
       "    </tr>\n",
       "  </thead>\n",
       "  <tbody>\n",
       "    <tr>\n",
       "      <th>0</th>\n",
       "      <td>One plus 7</td>\n",
       "      <td>Suresh</td>\n",
       "      <td>8.3</td>\n",
       "    </tr>\n",
       "    <tr>\n",
       "      <th>1</th>\n",
       "      <td>One plus 7</td>\n",
       "      <td>Ramesh</td>\n",
       "      <td>7.5</td>\n",
       "    </tr>\n",
       "    <tr>\n",
       "      <th>2</th>\n",
       "      <td>One plus 7</td>\n",
       "      <td>Priya</td>\n",
       "      <td>7.9</td>\n",
       "    </tr>\n",
       "    <tr>\n",
       "      <th>3</th>\n",
       "      <td>One plus 5</td>\n",
       "      <td>Pooja</td>\n",
       "      <td>8.5</td>\n",
       "    </tr>\n",
       "    <tr>\n",
       "      <th>4</th>\n",
       "      <td>One plus 5</td>\n",
       "      <td>Twinkle</td>\n",
       "      <td>6.5</td>\n",
       "    </tr>\n",
       "    <tr>\n",
       "      <th>5</th>\n",
       "      <td>One plus 7</td>\n",
       "      <td>Ranjani</td>\n",
       "      <td>8.3</td>\n",
       "    </tr>\n",
       "    <tr>\n",
       "      <th>6</th>\n",
       "      <td>One plus 7</td>\n",
       "      <td>Himayat</td>\n",
       "      <td>7.5</td>\n",
       "    </tr>\n",
       "    <tr>\n",
       "      <th>7</th>\n",
       "      <td>One plus 7</td>\n",
       "      <td>Gokul</td>\n",
       "      <td>7.9</td>\n",
       "    </tr>\n",
       "    <tr>\n",
       "      <th>8</th>\n",
       "      <td>One plus 7</td>\n",
       "      <td>Ajay</td>\n",
       "      <td>8.5</td>\n",
       "    </tr>\n",
       "    <tr>\n",
       "      <th>9</th>\n",
       "      <td>One plus 7</td>\n",
       "      <td>Pandurang</td>\n",
       "      <td>6.5</td>\n",
       "    </tr>\n",
       "    <tr>\n",
       "      <th>10</th>\n",
       "      <td>One plus 7</td>\n",
       "      <td>Suresh</td>\n",
       "      <td>5.5</td>\n",
       "    </tr>\n",
       "    <tr>\n",
       "      <th>11</th>\n",
       "      <td>One plus 5</td>\n",
       "      <td>Ramesh</td>\n",
       "      <td>4.8</td>\n",
       "    </tr>\n",
       "    <tr>\n",
       "      <th>12</th>\n",
       "      <td>One plus 5</td>\n",
       "      <td>Priya</td>\n",
       "      <td>9.2</td>\n",
       "    </tr>\n",
       "    <tr>\n",
       "      <th>13</th>\n",
       "      <td>One plus 5</td>\n",
       "      <td>Pooja</td>\n",
       "      <td>10.0</td>\n",
       "    </tr>\n",
       "    <tr>\n",
       "      <th>14</th>\n",
       "      <td>One plus 5</td>\n",
       "      <td>Twinkle</td>\n",
       "      <td>5.0</td>\n",
       "    </tr>\n",
       "    <tr>\n",
       "      <th>15</th>\n",
       "      <td>One plus 5</td>\n",
       "      <td>Ranjani</td>\n",
       "      <td>6.0</td>\n",
       "    </tr>\n",
       "    <tr>\n",
       "      <th>16</th>\n",
       "      <td>One plus 5</td>\n",
       "      <td>Himayat</td>\n",
       "      <td>7.0</td>\n",
       "    </tr>\n",
       "    <tr>\n",
       "      <th>17</th>\n",
       "      <td>One plus 8</td>\n",
       "      <td>Gokul</td>\n",
       "      <td>7.3</td>\n",
       "    </tr>\n",
       "    <tr>\n",
       "      <th>18</th>\n",
       "      <td>One plus 8</td>\n",
       "      <td>Ajay</td>\n",
       "      <td>8.5</td>\n",
       "    </tr>\n",
       "    <tr>\n",
       "      <th>19</th>\n",
       "      <td>One plus 8</td>\n",
       "      <td>Pandurang</td>\n",
       "      <td>4.8</td>\n",
       "    </tr>\n",
       "    <tr>\n",
       "      <th>20</th>\n",
       "      <td>One plus 8</td>\n",
       "      <td>Kohli</td>\n",
       "      <td>6.0</td>\n",
       "    </tr>\n",
       "    <tr>\n",
       "      <th>21</th>\n",
       "      <td>One plus 8</td>\n",
       "      <td>Bumrah</td>\n",
       "      <td>6.0</td>\n",
       "    </tr>\n",
       "    <tr>\n",
       "      <th>22</th>\n",
       "      <td>One plus Nerd</td>\n",
       "      <td>Suresh</td>\n",
       "      <td>7.9</td>\n",
       "    </tr>\n",
       "    <tr>\n",
       "      <th>23</th>\n",
       "      <td>One plus Nerd</td>\n",
       "      <td>Ramesh</td>\n",
       "      <td>8.5</td>\n",
       "    </tr>\n",
       "    <tr>\n",
       "      <th>24</th>\n",
       "      <td>One plus Nerd</td>\n",
       "      <td>Priya</td>\n",
       "      <td>6.5</td>\n",
       "    </tr>\n",
       "    <tr>\n",
       "      <th>25</th>\n",
       "      <td>One plus Nerd</td>\n",
       "      <td>Pooja</td>\n",
       "      <td>5.5</td>\n",
       "    </tr>\n",
       "    <tr>\n",
       "      <th>26</th>\n",
       "      <td>One plus Nerd</td>\n",
       "      <td>Twinkle</td>\n",
       "      <td>4.8</td>\n",
       "    </tr>\n",
       "    <tr>\n",
       "      <th>27</th>\n",
       "      <td>One plus Nerd</td>\n",
       "      <td>Ranjani</td>\n",
       "      <td>9.2</td>\n",
       "    </tr>\n",
       "    <tr>\n",
       "      <th>28</th>\n",
       "      <td>One plus Nerd</td>\n",
       "      <td>Himayat</td>\n",
       "      <td>10.0</td>\n",
       "    </tr>\n",
       "    <tr>\n",
       "      <th>29</th>\n",
       "      <td>One plus Nerd</td>\n",
       "      <td>Gokul</td>\n",
       "      <td>5.0</td>\n",
       "    </tr>\n",
       "    <tr>\n",
       "      <th>30</th>\n",
       "      <td>One plus Nerd</td>\n",
       "      <td>Ajay</td>\n",
       "      <td>6.0</td>\n",
       "    </tr>\n",
       "    <tr>\n",
       "      <th>31</th>\n",
       "      <td>One plus Nerd</td>\n",
       "      <td>Pandurang</td>\n",
       "      <td>7.0</td>\n",
       "    </tr>\n",
       "    <tr>\n",
       "      <th>32</th>\n",
       "      <td>One Plus 7 Pro</td>\n",
       "      <td>Kohli</td>\n",
       "      <td>7.3</td>\n",
       "    </tr>\n",
       "    <tr>\n",
       "      <th>33</th>\n",
       "      <td>One Plus 7 Pro</td>\n",
       "      <td>Bumrah</td>\n",
       "      <td>8.5</td>\n",
       "    </tr>\n",
       "    <tr>\n",
       "      <th>34</th>\n",
       "      <td>One Plus 7 Pro</td>\n",
       "      <td>Suresh</td>\n",
       "      <td>4.8</td>\n",
       "    </tr>\n",
       "    <tr>\n",
       "      <th>35</th>\n",
       "      <td>One Plus 7 Pro</td>\n",
       "      <td>Ramesh</td>\n",
       "      <td>6.0</td>\n",
       "    </tr>\n",
       "    <tr>\n",
       "      <th>36</th>\n",
       "      <td>One Plus 7 Pro</td>\n",
       "      <td>Priya</td>\n",
       "      <td>6.0</td>\n",
       "    </tr>\n",
       "    <tr>\n",
       "      <th>37</th>\n",
       "      <td>One Plus 7 Pro</td>\n",
       "      <td>Pooja</td>\n",
       "      <td>7.5</td>\n",
       "    </tr>\n",
       "    <tr>\n",
       "      <th>38</th>\n",
       "      <td>One Plus 7 Pro</td>\n",
       "      <td>Twinkle</td>\n",
       "      <td>8.2</td>\n",
       "    </tr>\n",
       "    <tr>\n",
       "      <th>39</th>\n",
       "      <td>One Plus 7 Pro</td>\n",
       "      <td>Ranjani</td>\n",
       "      <td>6.5</td>\n",
       "    </tr>\n",
       "  </tbody>\n",
       "</table>\n",
       "</div>"
      ],
      "text/plain": [
       "           Product   Customer  Rating\n",
       "0       One plus 7     Suresh     8.3\n",
       "1       One plus 7     Ramesh     7.5\n",
       "2       One plus 7      Priya     7.9\n",
       "3       One plus 5      Pooja     8.5\n",
       "4       One plus 5    Twinkle     6.5\n",
       "5       One plus 7    Ranjani     8.3\n",
       "6       One plus 7    Himayat     7.5\n",
       "7       One plus 7      Gokul     7.9\n",
       "8       One plus 7       Ajay     8.5\n",
       "9       One plus 7  Pandurang     6.5\n",
       "10      One plus 7     Suresh     5.5\n",
       "11      One plus 5     Ramesh     4.8\n",
       "12      One plus 5      Priya     9.2\n",
       "13      One plus 5      Pooja    10.0\n",
       "14      One plus 5    Twinkle     5.0\n",
       "15      One plus 5    Ranjani     6.0\n",
       "16      One plus 5    Himayat     7.0\n",
       "17      One plus 8      Gokul     7.3\n",
       "18      One plus 8       Ajay     8.5\n",
       "19      One plus 8  Pandurang     4.8\n",
       "20      One plus 8      Kohli     6.0\n",
       "21      One plus 8     Bumrah     6.0\n",
       "22   One plus Nerd     Suresh     7.9\n",
       "23   One plus Nerd     Ramesh     8.5\n",
       "24   One plus Nerd      Priya     6.5\n",
       "25   One plus Nerd      Pooja     5.5\n",
       "26   One plus Nerd    Twinkle     4.8\n",
       "27   One plus Nerd    Ranjani     9.2\n",
       "28   One plus Nerd    Himayat    10.0\n",
       "29   One plus Nerd      Gokul     5.0\n",
       "30   One plus Nerd       Ajay     6.0\n",
       "31   One plus Nerd  Pandurang     7.0\n",
       "32  One Plus 7 Pro      Kohli     7.3\n",
       "33  One Plus 7 Pro     Bumrah     8.5\n",
       "34  One Plus 7 Pro     Suresh     4.8\n",
       "35  One Plus 7 Pro     Ramesh     6.0\n",
       "36  One Plus 7 Pro      Priya     6.0\n",
       "37  One Plus 7 Pro      Pooja     7.5\n",
       "38  One Plus 7 Pro    Twinkle     8.2\n",
       "39  One Plus 7 Pro    Ranjani     6.5"
      ]
     },
     "execution_count": 25,
     "metadata": {},
     "output_type": "execute_result"
    }
   ],
   "source": [
    "oneplus_small"
   ]
  },
  {
   "cell_type": "code",
   "execution_count": 27,
   "id": "8ecb8ffb",
   "metadata": {},
   "outputs": [
    {
     "name": "stderr",
     "output_type": "stream",
     "text": [
      "C:\\Users\\HP\\anaconda3\\lib\\site-packages\\seaborn\\distributions.py:2557: FutureWarning: `distplot` is a deprecated function and will be removed in a future version. Please adapt your code to use either `displot` (a figure-level function with similar flexibility) or `histplot` (an axes-level function for histograms).\n",
      "  warnings.warn(msg, FutureWarning)\n"
     ]
    },
    {
     "data": {
      "text/plain": [
       "<AxesSubplot:xlabel='Mobile Ratings', ylabel='Density'>"
      ]
     },
     "execution_count": 27,
     "metadata": {},
     "output_type": "execute_result"
    },
    {
     "data": {
      "image/png": "[encoded data removed]",
      "text/plain": [
       "<Figure size 432x288 with 1 Axes>"
      ]
     },
     "metadata": {
      "needs_background": "light"
     },
     "output_type": "display_data"
    }
   ],
   "source": [
    "import seaborn as sns\n",
    "\n",
    "x = pd.Series(oneplus_small['Rating'], name=\"Mobile Ratings\")\n",
    "sns.distplot(x)"
   ]
  },
  {
   "cell_type": "code",
   "execution_count": 28,
   "id": "89071527",
   "metadata": {},
   "outputs": [
    {
     "data": {
      "text/plain": [
       "<AxesSubplot:xlabel='Rating'>"
      ]
     },
     "execution_count": 28,
     "metadata": {},
     "output_type": "execute_result"
    },
    {
     "data": {
      "image/png": "[encoded data removed]",
      "text/plain": [
       "<Figure size 432x288 with 1 Axes>"
      ]
     },
     "metadata": {},
     "output_type": "display_data"
    }
   ],
   "source": [
    "sns.set(style=\"whitegrid\")\n",
    "sns.boxplot(x=oneplus_small['Rating'])"
   ]
  },
  {
   "cell_type": "code",
   "execution_count": 29,
   "id": "60fe6aef",
   "metadata": {},
   "outputs": [
    {
     "data": {
      "text/plain": [
       "Product      5\n",
       "Customer    12\n",
       "Rating      14\n",
       "dtype: int64"
      ]
     },
     "execution_count": 29,
     "metadata": {},
     "output_type": "execute_result"
    }
   ],
   "source": [
    "#Find the total number of unique users, items ids and the ratings...\n",
    "oneplus_small.nunique()"
   ]
  },
  {
   "cell_type": "code",
   "execution_count": 42,
   "id": "fc422983",
   "metadata": {},
   "outputs": [],
   "source": [
    "data = Dataset.load_from_df(oneplus_small[['Customer', 'Product', 'Rating']], reader)"
   ]
  },
  {
   "cell_type": "code",
   "execution_count": 44,
   "id": "de839757",
   "metadata": {},
   "outputs": [],
   "source": [
    "# Split data to train and test\n",
    "from surprise.model_selection import train_test_split\n",
    "trainset, testset = train_test_split(data, test_size=0.2,random_state=123)"
   ]
  },
  {
   "cell_type": "code",
   "execution_count": 46,
   "id": "ec18fc31",
   "metadata": {},
   "outputs": [
    {
     "data": {
      "text/plain": [
       "32"
      ]
     },
     "execution_count": 46,
     "metadata": {},
     "output_type": "execute_result"
    }
   ],
   "source": [
    "trainset.n_ratings"
   ]
  },
  {
   "cell_type": "code",
   "execution_count": 49,
   "id": "b6765872",
   "metadata": {},
   "outputs": [
    {
     "data": {
      "text/plain": [
       "8"
      ]
     },
     "execution_count": 49,
     "metadata": {},
     "output_type": "execute_result"
    }
   ],
   "source": [
    "len(testset)"
   ]
  },
  {
   "cell_type": "code",
   "execution_count": 50,
   "id": "56aeead6",
   "metadata": {},
   "outputs": [],
   "source": [
    "from surprise import SVD\n",
    "from surprise import accuracy"
   ]
  },
  {
   "cell_type": "code",
   "execution_count": 51,
   "id": "677769ac",
   "metadata": {},
   "outputs": [
    {
     "data": {
      "text/plain": [
       "<surprise.prediction_algorithms.matrix_factorization.SVD at 0x20e66d4fc70>"
      ]
     },
     "execution_count": 51,
     "metadata": {},
     "output_type": "execute_result"
    }
   ],
   "source": [
    "svd_model = SVD(n_factors=50,biased=False)\n",
    "svd_model.fit(trainset)"
   ]
  },
  {
   "cell_type": "code",
   "execution_count": 52,
   "id": "7cf3fefb",
   "metadata": {},
   "outputs": [],
   "source": [
    "test_pred = svd_model.test(testset)"
   ]
  },
  {
   "cell_type": "code",
   "execution_count": 53,
   "id": "be88a821",
   "metadata": {},
   "outputs": [
    {
     "data": {
      "text/plain": [
       "[Prediction(uid='Kohli', iid='One Plus 7 Pro', r_ui=7.3, est=1, details={'was_impossible': False}),\n",
       " Prediction(uid='Bumrah', iid='One Plus 7 Pro', r_ui=8.5, est=1, details={'was_impossible': False}),\n",
       " Prediction(uid='Suresh', iid='One plus Nerd', r_ui=7.9, est=2.718917147566197, details={'was_impossible': False}),\n",
       " Prediction(uid='Pandurang', iid='One plus 8', r_ui=4.8, est=1, details={'was_impossible': False}),\n",
       " Prediction(uid='Gokul', iid='One plus 8', r_ui=7.3, est=1, details={'was_impossible': False}),\n",
       " Prediction(uid='Suresh', iid='One Plus 7 Pro', r_ui=4.8, est=1.6052341793288183, details={'was_impossible': False}),\n",
       " Prediction(uid='Himayat', iid='One plus Nerd', r_ui=10.0, est=3.615958723054148, details={'was_impossible': False}),\n",
       " Prediction(uid='Priya', iid='One plus 7', r_ui=7.9, est=3.905625654949944, details={'was_impossible': False})]"
      ]
     },
     "execution_count": 53,
     "metadata": {},
     "output_type": "execute_result"
    }
   ],
   "source": [
    "test_pred"
   ]
  },
  {
   "cell_type": "code",
   "execution_count": 54,
   "id": "d7f31f6e",
   "metadata": {},
   "outputs": [
    {
     "data": {
      "text/html": [
       "<div>\n",
       "<style scoped>\n",
       "    .dataframe tbody tr th:only-of-type {\n",
       "        vertical-align: middle;\n",
       "    }\n",
       "\n",
       "    .dataframe tbody tr th {\n",
       "        vertical-align: top;\n",
       "    }\n",
       "\n",
       "    .dataframe thead th {\n",
       "        text-align: right;\n",
       "    }\n",
       "</style>\n",
       "<table border=\"1\" class=\"dataframe\">\n",
       "  <thead>\n",
       "    <tr style=\"text-align: right;\">\n",
       "      <th></th>\n",
       "      <th>0</th>\n",
       "      <th>1</th>\n",
       "      <th>2</th>\n",
       "    </tr>\n",
       "  </thead>\n",
       "  <tbody>\n",
       "    <tr>\n",
       "      <th>0</th>\n",
       "      <td>Kohli</td>\n",
       "      <td>One Plus 7 Pro</td>\n",
       "      <td>1.000000</td>\n",
       "    </tr>\n",
       "    <tr>\n",
       "      <th>1</th>\n",
       "      <td>Bumrah</td>\n",
       "      <td>One Plus 7 Pro</td>\n",
       "      <td>1.000000</td>\n",
       "    </tr>\n",
       "    <tr>\n",
       "      <th>2</th>\n",
       "      <td>Suresh</td>\n",
       "      <td>One plus Nerd</td>\n",
       "      <td>2.718917</td>\n",
       "    </tr>\n",
       "    <tr>\n",
       "      <th>3</th>\n",
       "      <td>Pandurang</td>\n",
       "      <td>One plus 8</td>\n",
       "      <td>1.000000</td>\n",
       "    </tr>\n",
       "    <tr>\n",
       "      <th>4</th>\n",
       "      <td>Gokul</td>\n",
       "      <td>One plus 8</td>\n",
       "      <td>1.000000</td>\n",
       "    </tr>\n",
       "  </tbody>\n",
       "</table>\n",
       "</div>"
      ],
      "text/plain": [
       "           0               1         2\n",
       "0      Kohli  One Plus 7 Pro  1.000000\n",
       "1     Bumrah  One Plus 7 Pro  1.000000\n",
       "2     Suresh   One plus Nerd  2.718917\n",
       "3  Pandurang      One plus 8  1.000000\n",
       "4      Gokul      One plus 8  1.000000"
      ]
     },
     "execution_count": 54,
     "metadata": {},
     "output_type": "execute_result"
    }
   ],
   "source": [
    "test_pred_df = pd.DataFrame([[x.uid,x.iid,x.est] for x in test_pred])\n",
    "test_pred_df.head()"
   ]
  },
  {
   "cell_type": "code",
   "execution_count": 55,
   "id": "bfb039d8",
   "metadata": {},
   "outputs": [],
   "source": [
    "test_pred_df.columns = [\"Customer\",\"Product\",\"Rating\"]\n",
    "test_pred_df.sort_values(by = [\"Customer\", \"Rating\"],ascending=False,inplace=True)"
   ]
  },
  {
   "cell_type": "code",
   "execution_count": 56,
   "id": "48686c70",
   "metadata": {},
   "outputs": [
    {
     "data": {
      "text/html": [
       "<div>\n",
       "<style scoped>\n",
       "    .dataframe tbody tr th:only-of-type {\n",
       "        vertical-align: middle;\n",
       "    }\n",
       "\n",
       "    .dataframe tbody tr th {\n",
       "        vertical-align: top;\n",
       "    }\n",
       "\n",
       "    .dataframe thead th {\n",
       "        text-align: right;\n",
       "    }\n",
       "</style>\n",
       "<table border=\"1\" class=\"dataframe\">\n",
       "  <thead>\n",
       "    <tr style=\"text-align: right;\">\n",
       "      <th></th>\n",
       "      <th>Customer</th>\n",
       "      <th>Product</th>\n",
       "      <th>Rating</th>\n",
       "    </tr>\n",
       "  </thead>\n",
       "  <tbody>\n",
       "    <tr>\n",
       "      <th>2</th>\n",
       "      <td>Suresh</td>\n",
       "      <td>One plus Nerd</td>\n",
       "      <td>2.718917</td>\n",
       "    </tr>\n",
       "    <tr>\n",
       "      <th>5</th>\n",
       "      <td>Suresh</td>\n",
       "      <td>One Plus 7 Pro</td>\n",
       "      <td>1.605234</td>\n",
       "    </tr>\n",
       "    <tr>\n",
       "      <th>7</th>\n",
       "      <td>Priya</td>\n",
       "      <td>One plus 7</td>\n",
       "      <td>3.905626</td>\n",
       "    </tr>\n",
       "    <tr>\n",
       "      <th>3</th>\n",
       "      <td>Pandurang</td>\n",
       "      <td>One plus 8</td>\n",
       "      <td>1.000000</td>\n",
       "    </tr>\n",
       "    <tr>\n",
       "      <th>0</th>\n",
       "      <td>Kohli</td>\n",
       "      <td>One Plus 7 Pro</td>\n",
       "      <td>1.000000</td>\n",
       "    </tr>\n",
       "  </tbody>\n",
       "</table>\n",
       "</div>"
      ],
      "text/plain": [
       "    Customer         Product    Rating\n",
       "2     Suresh   One plus Nerd  2.718917\n",
       "5     Suresh  One Plus 7 Pro  1.605234\n",
       "7      Priya      One plus 7  3.905626\n",
       "3  Pandurang      One plus 8  1.000000\n",
       "0      Kohli  One Plus 7 Pro  1.000000"
      ]
     },
     "execution_count": 56,
     "metadata": {},
     "output_type": "execute_result"
    }
   ],
   "source": [
    "test_pred_df.head()"
   ]
  },
  {
   "cell_type": "code",
   "execution_count": 57,
   "id": "e0c6b791",
   "metadata": {},
   "outputs": [
    {
     "name": "stdout",
     "output_type": "stream",
     "text": [
      "RMSE: 5.5208\n"
     ]
    },
    {
     "data": {
      "text/plain": [
       "5.520769393921182"
      ]
     },
     "execution_count": 57,
     "metadata": {},
     "output_type": "execute_result"
    }
   ],
   "source": [
    "# compute RMSE\n",
    "accuracy.rmse(test_pred)"
   ]
  },
  {
   "cell_type": "code",
   "execution_count": 58,
   "id": "86f19c1d",
   "metadata": {},
   "outputs": [],
   "source": [
    "from surprise import KNNWithMeans\n",
    "from surprise import accuracy\n",
    "from surprise import Prediction"
   ]
  },
  {
   "cell_type": "code",
   "execution_count": 59,
   "id": "74808594",
   "metadata": {},
   "outputs": [
    {
     "name": "stdout",
     "output_type": "stream",
     "text": [
      "Computing the pearson similarity matrix...\n",
      "Done computing similarity matrix.\n"
     ]
    },
    {
     "data": {
      "text/plain": [
       "<surprise.prediction_algorithms.knns.KNNWithMeans at 0x20e66d4fa30>"
      ]
     },
     "execution_count": 59,
     "metadata": {},
     "output_type": "execute_result"
    }
   ],
   "source": [
    "algo = KNNWithMeans(k=51, sim_options={'name': 'pearson', 'user_based': False})\n",
    "algo.fit(trainset)"
   ]
  },
  {
   "cell_type": "code",
   "execution_count": 60,
   "id": "a0dfa65e",
   "metadata": {},
   "outputs": [],
   "source": [
    "test_pred_knn = algo.test(testset)"
   ]
  },
  {
   "cell_type": "code",
   "execution_count": 62,
   "id": "292afc42",
   "metadata": {},
   "outputs": [
    {
     "data": {
      "text/html": [
       "<div>\n",
       "<style scoped>\n",
       "    .dataframe tbody tr th:only-of-type {\n",
       "        vertical-align: middle;\n",
       "    }\n",
       "\n",
       "    .dataframe tbody tr th {\n",
       "        vertical-align: top;\n",
       "    }\n",
       "\n",
       "    .dataframe thead th {\n",
       "        text-align: right;\n",
       "    }\n",
       "</style>\n",
       "<table border=\"1\" class=\"dataframe\">\n",
       "  <thead>\n",
       "    <tr style=\"text-align: right;\">\n",
       "      <th></th>\n",
       "      <th>0</th>\n",
       "      <th>1</th>\n",
       "      <th>2</th>\n",
       "    </tr>\n",
       "  </thead>\n",
       "  <tbody>\n",
       "    <tr>\n",
       "      <th>0</th>\n",
       "      <td>Kohli</td>\n",
       "      <td>One Plus 7 Pro</td>\n",
       "      <td>6.840000</td>\n",
       "    </tr>\n",
       "    <tr>\n",
       "      <th>1</th>\n",
       "      <td>Bumrah</td>\n",
       "      <td>One Plus 7 Pro</td>\n",
       "      <td>6.840000</td>\n",
       "    </tr>\n",
       "    <tr>\n",
       "      <th>2</th>\n",
       "      <td>Suresh</td>\n",
       "      <td>One plus Nerd</td>\n",
       "      <td>6.562500</td>\n",
       "    </tr>\n",
       "    <tr>\n",
       "      <th>3</th>\n",
       "      <td>Pandurang</td>\n",
       "      <td>One plus 8</td>\n",
       "      <td>6.833333</td>\n",
       "    </tr>\n",
       "    <tr>\n",
       "      <th>4</th>\n",
       "      <td>Gokul</td>\n",
       "      <td>One plus 8</td>\n",
       "      <td>6.833333</td>\n",
       "    </tr>\n",
       "  </tbody>\n",
       "</table>\n",
       "</div>"
      ],
      "text/plain": [
       "           0               1         2\n",
       "0      Kohli  One Plus 7 Pro  6.840000\n",
       "1     Bumrah  One Plus 7 Pro  6.840000\n",
       "2     Suresh   One plus Nerd  6.562500\n",
       "3  Pandurang      One plus 8  6.833333\n",
       "4      Gokul      One plus 8  6.833333"
      ]
     },
     "execution_count": 62,
     "metadata": {},
     "output_type": "execute_result"
    }
   ],
   "source": [
    "test_pred_knn_df = pd.DataFrame([[x.uid,x.iid,x.est] for x in test_pred_knn])\n",
    "test_pred_knn_df.head()"
   ]
  },
  {
   "cell_type": "code",
   "execution_count": 63,
   "id": "cb17778e",
   "metadata": {},
   "outputs": [],
   "source": [
    "test_pred_knn_df.columns = [\"Customer\",\"Product\",\"pred_Rating\"]\n",
    "test_pred_knn_df.sort_values(by = [\"Customer\", \"pred_Rating\"],ascending=False,inplace=True)"
   ]
  },
  {
   "cell_type": "code",
   "execution_count": 64,
   "id": "a787019c",
   "metadata": {},
   "outputs": [
    {
     "data": {
      "text/html": [
       "<div>\n",
       "<style scoped>\n",
       "    .dataframe tbody tr th:only-of-type {\n",
       "        vertical-align: middle;\n",
       "    }\n",
       "\n",
       "    .dataframe tbody tr th {\n",
       "        vertical-align: top;\n",
       "    }\n",
       "\n",
       "    .dataframe thead th {\n",
       "        text-align: right;\n",
       "    }\n",
       "</style>\n",
       "<table border=\"1\" class=\"dataframe\">\n",
       "  <thead>\n",
       "    <tr style=\"text-align: right;\">\n",
       "      <th></th>\n",
       "      <th>Customer</th>\n",
       "      <th>Product</th>\n",
       "      <th>pred_Rating</th>\n",
       "    </tr>\n",
       "  </thead>\n",
       "  <tbody>\n",
       "    <tr>\n",
       "      <th>2</th>\n",
       "      <td>Suresh</td>\n",
       "      <td>One plus Nerd</td>\n",
       "      <td>6.562500</td>\n",
       "    </tr>\n",
       "    <tr>\n",
       "      <th>5</th>\n",
       "      <td>Suresh</td>\n",
       "      <td>One Plus 7 Pro</td>\n",
       "      <td>6.240000</td>\n",
       "    </tr>\n",
       "    <tr>\n",
       "      <th>7</th>\n",
       "      <td>Priya</td>\n",
       "      <td>One plus 7</td>\n",
       "      <td>6.805178</td>\n",
       "    </tr>\n",
       "    <tr>\n",
       "      <th>3</th>\n",
       "      <td>Pandurang</td>\n",
       "      <td>One plus 8</td>\n",
       "      <td>6.833333</td>\n",
       "    </tr>\n",
       "    <tr>\n",
       "      <th>0</th>\n",
       "      <td>Kohli</td>\n",
       "      <td>One Plus 7 Pro</td>\n",
       "      <td>6.840000</td>\n",
       "    </tr>\n",
       "  </tbody>\n",
       "</table>\n",
       "</div>"
      ],
      "text/plain": [
       "    Customer         Product  pred_Rating\n",
       "2     Suresh   One plus Nerd     6.562500\n",
       "5     Suresh  One Plus 7 Pro     6.240000\n",
       "7      Priya      One plus 7     6.805178\n",
       "3  Pandurang      One plus 8     6.833333\n",
       "0      Kohli  One Plus 7 Pro     6.840000"
      ]
     },
     "execution_count": 64,
     "metadata": {},
     "output_type": "execute_result"
    }
   ],
   "source": [
    "test_pred_knn_df.head()"
   ]
  },
  {
   "cell_type": "code",
   "execution_count": 65,
   "id": "b35108c7",
   "metadata": {},
   "outputs": [
    {
     "name": "stdout",
     "output_type": "stream",
     "text": [
      "RMSE: 1.7391\n"
     ]
    },
    {
     "data": {
      "text/plain": [
       "1.7391438153557484"
      ]
     },
     "execution_count": 65,
     "metadata": {},
     "output_type": "execute_result"
    }
   ],
   "source": [
    "# compute RMSE\n",
    "accuracy.rmse(test_pred_knn)"
   ]
  },
  {
   "cell_type": "code",
   "execution_count": 66,
   "id": "fe424b0e",
   "metadata": {},
   "outputs": [],
   "source": [
    "top_5_recos = test_pred_knn_df.groupby(\"Customer\").head(5).reset_index(drop=True)"
   ]
  },
  {
   "cell_type": "code",
   "execution_count": 68,
   "id": "f3524b20",
   "metadata": {},
   "outputs": [
    {
     "data": {
      "text/html": [
       "<div>\n",
       "<style scoped>\n",
       "    .dataframe tbody tr th:only-of-type {\n",
       "        vertical-align: middle;\n",
       "    }\n",
       "\n",
       "    .dataframe tbody tr th {\n",
       "        vertical-align: top;\n",
       "    }\n",
       "\n",
       "    .dataframe thead th {\n",
       "        text-align: right;\n",
       "    }\n",
       "</style>\n",
       "<table border=\"1\" class=\"dataframe\">\n",
       "  <thead>\n",
       "    <tr style=\"text-align: right;\">\n",
       "      <th></th>\n",
       "      <th>Customer</th>\n",
       "      <th>Product</th>\n",
       "      <th>pred_Rating</th>\n",
       "    </tr>\n",
       "  </thead>\n",
       "  <tbody>\n",
       "    <tr>\n",
       "      <th>2</th>\n",
       "      <td>Suresh</td>\n",
       "      <td>One plus Nerd</td>\n",
       "      <td>6.562500</td>\n",
       "    </tr>\n",
       "    <tr>\n",
       "      <th>5</th>\n",
       "      <td>Suresh</td>\n",
       "      <td>One Plus 7 Pro</td>\n",
       "      <td>6.240000</td>\n",
       "    </tr>\n",
       "    <tr>\n",
       "      <th>7</th>\n",
       "      <td>Priya</td>\n",
       "      <td>One plus 7</td>\n",
       "      <td>6.805178</td>\n",
       "    </tr>\n",
       "    <tr>\n",
       "      <th>3</th>\n",
       "      <td>Pandurang</td>\n",
       "      <td>One plus 8</td>\n",
       "      <td>6.833333</td>\n",
       "    </tr>\n",
       "    <tr>\n",
       "      <th>0</th>\n",
       "      <td>Kohli</td>\n",
       "      <td>One Plus 7 Pro</td>\n",
       "      <td>6.840000</td>\n",
       "    </tr>\n",
       "    <tr>\n",
       "      <th>6</th>\n",
       "      <td>Himayat</td>\n",
       "      <td>One plus Nerd</td>\n",
       "      <td>6.562500</td>\n",
       "    </tr>\n",
       "    <tr>\n",
       "      <th>4</th>\n",
       "      <td>Gokul</td>\n",
       "      <td>One plus 8</td>\n",
       "      <td>6.833333</td>\n",
       "    </tr>\n",
       "    <tr>\n",
       "      <th>1</th>\n",
       "      <td>Bumrah</td>\n",
       "      <td>One Plus 7 Pro</td>\n",
       "      <td>6.840000</td>\n",
       "    </tr>\n",
       "  </tbody>\n",
       "</table>\n",
       "</div>"
      ],
      "text/plain": [
       "    Customer         Product  pred_Rating\n",
       "2     Suresh   One plus Nerd     6.562500\n",
       "5     Suresh  One Plus 7 Pro     6.240000\n",
       "7      Priya      One plus 7     6.805178\n",
       "3  Pandurang      One plus 8     6.833333\n",
       "0      Kohli  One Plus 7 Pro     6.840000\n",
       "6    Himayat   One plus Nerd     6.562500\n",
       "4      Gokul      One plus 8     6.833333\n",
       "1     Bumrah  One Plus 7 Pro     6.840000"
      ]
     },
     "execution_count": 68,
     "metadata": {},
     "output_type": "execute_result"
    }
   ],
   "source": [
    "test_pred_knn_df"
   ]
  },
  {
   "cell_type": "code",
   "execution_count": 67,
   "id": "6d517c76",
   "metadata": {},
   "outputs": [
    {
     "data": {
      "text/html": [
       "<div>\n",
       "<style scoped>\n",
       "    .dataframe tbody tr th:only-of-type {\n",
       "        vertical-align: middle;\n",
       "    }\n",
       "\n",
       "    .dataframe tbody tr th {\n",
       "        vertical-align: top;\n",
       "    }\n",
       "\n",
       "    .dataframe thead th {\n",
       "        text-align: right;\n",
       "    }\n",
       "</style>\n",
       "<table border=\"1\" class=\"dataframe\">\n",
       "  <thead>\n",
       "    <tr style=\"text-align: right;\">\n",
       "      <th></th>\n",
       "      <th>Customer</th>\n",
       "      <th>Product</th>\n",
       "      <th>pred_Rating</th>\n",
       "    </tr>\n",
       "  </thead>\n",
       "  <tbody>\n",
       "    <tr>\n",
       "      <th>0</th>\n",
       "      <td>Suresh</td>\n",
       "      <td>One plus Nerd</td>\n",
       "      <td>6.562500</td>\n",
       "    </tr>\n",
       "    <tr>\n",
       "      <th>1</th>\n",
       "      <td>Suresh</td>\n",
       "      <td>One Plus 7 Pro</td>\n",
       "      <td>6.240000</td>\n",
       "    </tr>\n",
       "    <tr>\n",
       "      <th>2</th>\n",
       "      <td>Priya</td>\n",
       "      <td>One plus 7</td>\n",
       "      <td>6.805178</td>\n",
       "    </tr>\n",
       "    <tr>\n",
       "      <th>3</th>\n",
       "      <td>Pandurang</td>\n",
       "      <td>One plus 8</td>\n",
       "      <td>6.833333</td>\n",
       "    </tr>\n",
       "    <tr>\n",
       "      <th>4</th>\n",
       "      <td>Kohli</td>\n",
       "      <td>One Plus 7 Pro</td>\n",
       "      <td>6.840000</td>\n",
       "    </tr>\n",
       "    <tr>\n",
       "      <th>5</th>\n",
       "      <td>Himayat</td>\n",
       "      <td>One plus Nerd</td>\n",
       "      <td>6.562500</td>\n",
       "    </tr>\n",
       "    <tr>\n",
       "      <th>6</th>\n",
       "      <td>Gokul</td>\n",
       "      <td>One plus 8</td>\n",
       "      <td>6.833333</td>\n",
       "    </tr>\n",
       "    <tr>\n",
       "      <th>7</th>\n",
       "      <td>Bumrah</td>\n",
       "      <td>One Plus 7 Pro</td>\n",
       "      <td>6.840000</td>\n",
       "    </tr>\n",
       "  </tbody>\n",
       "</table>\n",
       "</div>"
      ],
      "text/plain": [
       "    Customer         Product  pred_Rating\n",
       "0     Suresh   One plus Nerd     6.562500\n",
       "1     Suresh  One Plus 7 Pro     6.240000\n",
       "2      Priya      One plus 7     6.805178\n",
       "3  Pandurang      One plus 8     6.833333\n",
       "4      Kohli  One Plus 7 Pro     6.840000\n",
       "5    Himayat   One plus Nerd     6.562500\n",
       "6      Gokul      One plus 8     6.833333\n",
       "7     Bumrah  One Plus 7 Pro     6.840000"
      ]
     },
     "execution_count": 67,
     "metadata": {},
     "output_type": "execute_result"
    }
   ],
   "source": [
    "top_5_recos"
   ]
  },
  {
   "cell_type": "code",
   "execution_count": 17,
   "id": "6bff7702",
   "metadata": {},
   "outputs": [
    {
     "name": "stdout",
     "output_type": "stream",
     "text": [
      "Requirement already satisfied: texthero in c:\\users\\hp\\anaconda3\\lib\\site-packages (1.1.0)\n",
      "Requirement already satisfied: scikit-learn>=0.22 in c:\\users\\hp\\anaconda3\\lib\\site-packages (from texthero) (1.0.2)\n",
      "Requirement already satisfied: wordcloud>=1.5.0 in c:\\users\\hp\\anaconda3\\lib\\site-packages (from texthero) (1.8.1)\n",
      "Requirement already satisfied: matplotlib>=3.1.0 in c:\\users\\hp\\anaconda3\\lib\\site-packages (from texthero) (3.3.4)\n",
      "Requirement already satisfied: plotly>=4.2.0 in c:\\users\\hp\\anaconda3\\lib\\site-packages (from texthero) (5.6.0)\n",
      "Requirement already satisfied: gensim<4.0,>=3.6.0 in c:\\users\\hp\\anaconda3\\lib\\site-packages (from texthero) (3.8.3)\n",
      "Requirement already satisfied: pandas>=1.0.2 in c:\\users\\hp\\anaconda3\\lib\\site-packages (from texthero) (1.2.4)\n",
      "Requirement already satisfied: unidecode>=1.1.1 in c:\\users\\hp\\anaconda3\\lib\\site-packages (from texthero) (1.3.4)\n",
      "Requirement already satisfied: nltk>=3.3 in c:\\users\\hp\\anaconda3\\lib\\site-packages (from texthero) (3.7)\n",
      "Requirement already satisfied: tqdm>=4.3 in c:\\users\\hp\\anaconda3\\lib\\site-packages (from texthero) (4.59.0)\n",
      "Requirement already satisfied: spacy<3.0.0 in c:\\users\\hp\\anaconda3\\lib\\site-packages (from texthero) (2.3.7)\n",
      "Requirement already satisfied: numpy>=1.17 in c:\\users\\hp\\anaconda3\\lib\\site-packages (from texthero) (1.20.1)\n",
      "Requirement already satisfied: scipy>=0.18.1 in c:\\users\\hp\\anaconda3\\lib\\site-packages (from gensim<4.0,>=3.6.0->texthero) (1.6.2)\n",
      "Requirement already satisfied: smart-open>=1.8.1 in c:\\users\\hp\\anaconda3\\lib\\site-packages (from gensim<4.0,>=3.6.0->texthero) (6.0.0)\n",
      "Requirement already satisfied: six>=1.5.0 in c:\\users\\hp\\anaconda3\\lib\\site-packages (from gensim<4.0,>=3.6.0->texthero) (1.15.0)\n",
      "Requirement already satisfied: Cython==0.29.14 in c:\\users\\hp\\anaconda3\\lib\\site-packages (from gensim<4.0,>=3.6.0->texthero) (0.29.14)\n",
      "Requirement already satisfied: pyparsing!=2.0.4,!=2.1.2,!=2.1.6,>=2.0.3 in c:\\users\\hp\\anaconda3\\lib\\site-packages (from matplotlib>=3.1.0->texthero) (2.4.7)\n",
      "Requirement already satisfied: cycler>=0.10 in c:\\users\\hp\\anaconda3\\lib\\site-packages (from matplotlib>=3.1.0->texthero) (0.10.0)\n",
      "Requirement already satisfied: pillow>=6.2.0 in c:\\users\\hp\\anaconda3\\lib\\site-packages (from matplotlib>=3.1.0->texthero) (8.2.0)\n",
      "Requirement already satisfied: kiwisolver>=1.0.1 in c:\\users\\hp\\anaconda3\\lib\\site-packages (from matplotlib>=3.1.0->texthero) (1.3.1)\n",
      "Requirement already satisfied: python-dateutil>=2.1 in c:\\users\\hp\\anaconda3\\lib\\site-packages (from matplotlib>=3.1.0->texthero) (2.8.1)\n",
      "Requirement already satisfied: joblib in c:\\users\\hp\\anaconda3\\lib\\site-packages (from nltk>=3.3->texthero) (1.0.1)\n",
      "Requirement already satisfied: regex>=2021.8.3 in c:\\users\\hp\\anaconda3\\lib\\site-packages (from nltk>=3.3->texthero) (2022.4.24)\n",
      "Requirement already satisfied: click in c:\\users\\hp\\anaconda3\\lib\\site-packages (from nltk>=3.3->texthero) (7.1.2)\n",
      "Requirement already satisfied: pytz>=2017.3 in c:\\users\\hp\\anaconda3\\lib\\site-packages (from pandas>=1.0.2->texthero) (2021.1)\n",
      "Requirement already satisfied: tenacity>=6.2.0 in c:\\users\\hp\\anaconda3\\lib\\site-packages (from plotly>=4.2.0->texthero) (8.0.1)\n",
      "Requirement already satisfied: threadpoolctl>=2.0.0 in c:\\users\\hp\\anaconda3\\lib\\site-packages (from scikit-learn>=0.22->texthero) (2.1.0)\n",
      "Requirement already satisfied: requests<3.0.0,>=2.13.0 in c:\\users\\hp\\anaconda3\\lib\\site-packages (from spacy<3.0.0->texthero) (2.25.1)\n",
      "Requirement already satisfied: srsly<1.1.0,>=1.0.2 in c:\\users\\hp\\anaconda3\\lib\\site-packages (from spacy<3.0.0->texthero) (1.0.5)\n",
      "Requirement already satisfied: preshed<3.1.0,>=3.0.2 in c:\\users\\hp\\anaconda3\\lib\\site-packages (from spacy<3.0.0->texthero) (3.0.6)\n",
      "Requirement already satisfied: setuptools in c:\\users\\hp\\anaconda3\\lib\\site-packages (from spacy<3.0.0->texthero) (52.0.0.post20210125)\n",
      "Requirement already satisfied: wasabi<1.1.0,>=0.4.0 in c:\\users\\hp\\anaconda3\\lib\\site-packages (from spacy<3.0.0->texthero) (0.9.1)\n",
      "Requirement already satisfied: catalogue<1.1.0,>=0.0.7 in c:\\users\\hp\\anaconda3\\lib\\site-packages (from spacy<3.0.0->texthero) (1.0.0)\n",
      "Requirement already satisfied: thinc<7.5.0,>=7.4.1 in c:\\users\\hp\\anaconda3\\lib\\site-packages (from spacy<3.0.0->texthero) (7.4.5)\n",
      "Requirement already satisfied: plac<1.2.0,>=0.9.6 in c:\\users\\hp\\anaconda3\\lib\\site-packages (from spacy<3.0.0->texthero) (1.1.3)\n",
      "Requirement already satisfied: blis<0.8.0,>=0.4.0 in c:\\users\\hp\\anaconda3\\lib\\site-packages (from spacy<3.0.0->texthero) (0.7.7)\n",
      "Requirement already satisfied: cymem<2.1.0,>=2.0.2 in c:\\users\\hp\\anaconda3\\lib\\site-packages (from spacy<3.0.0->texthero) (2.0.6)\n",
      "Requirement already satisfied: murmurhash<1.1.0,>=0.28.0 in c:\\users\\hp\\anaconda3\\lib\\site-packages (from spacy<3.0.0->texthero) (1.0.7)\n",
      "Requirement already satisfied: certifi>=2017.4.17 in c:\\users\\hp\\anaconda3\\lib\\site-packages (from requests<3.0.0,>=2.13.0->spacy<3.0.0->texthero) (2020.12.5)\n",
      "Requirement already satisfied: idna<3,>=2.5 in c:\\users\\hp\\anaconda3\\lib\\site-packages (from requests<3.0.0,>=2.13.0->spacy<3.0.0->texthero) (2.10)\n",
      "Requirement already satisfied: chardet<5,>=3.0.2 in c:\\users\\hp\\anaconda3\\lib\\site-packages (from requests<3.0.0,>=2.13.0->spacy<3.0.0->texthero) (4.0.0)\n",
      "Requirement already satisfied: urllib3<1.27,>=1.21.1 in c:\\users\\hp\\anaconda3\\lib\\site-packages (from requests<3.0.0,>=2.13.0->spacy<3.0.0->texthero) (1.26.4)\n"
     ]
    }
   ],
   "source": [
    "!pip install texthero\n",
    "\n"
   ]
  },
  {
   "cell_type": "code",
   "execution_count": 50,
   "id": "9fb03ea4",
   "metadata": {},
   "outputs": [],
   "source": [
    "from sklearn.metrics.pairwise import cosine_similarity"
   ]
  },
  {
   "cell_type": "code",
   "execution_count": 25,
   "id": "724bb9c9",
   "metadata": {},
   "outputs": [],
   "source": [
    "product_tf = oneplus_small['tfidf']"
   ]
  },
  {
   "cell_type": "code",
   "execution_count": 28,
   "id": "086e6653",
   "metadata": {},
   "outputs": [],
   "source": [
    "from sklearn.feature_extraction.text import TfidfVectorizer"
   ]
  },
  {
   "cell_type": "code",
   "execution_count": 29,
   "id": "bda9f02d",
   "metadata": {},
   "outputs": [
    {
     "name": "stdout",
     "output_type": "stream",
     "text": [
      "{'suresh': 10, 'ramesh': 8, 'priya': 7, 'pooja': 6, 'twinkle': 11, 'ranjani': 9, 'himayat': 3, 'gokul': 2, 'ajay': 0, 'pandurang': 5, 'kohli': 4, 'bumrah': 1}\n",
      "[3.32727771 3.61495978 3.32727771 3.32727771 3.61495978 3.32727771\n",
      " 3.10413415 3.10413415 3.10413415 3.10413415 3.10413415 3.10413415]\n"
     ]
    }
   ],
   "source": [
    "# create the transform\n",
    "vectorizer = TfidfVectorizer()\n",
    "\n",
    "# tokenize and build vocab\n",
    "\n",
    "oneplus_small['cust_new_tf'] = vectorizer.fit(oneplus_small['Customer_clean'])\n",
    "oneplus_small['prod_new_tf'] = vectorizer.fit(oneplus_small['Product_clean'])\n",
    "\n",
    "#vectorizer.fit(text)\n",
    "\n",
    "# summarize\n",
    "print(vectorizer.vocabulary_)\n",
    "print(vectorizer.idf_)"
   ]
  },
  {
   "cell_type": "code",
   "execution_count": 33,
   "id": "c4f019b0",
   "metadata": {},
   "outputs": [
    {
     "name": "stdout",
     "output_type": "stream",
     "text": [
      "{'one': 1, 'plus': 2, 'nerd': 0, 'pro': 3}\n",
      "[2.31567679 1.         1.         2.51634749]\n"
     ]
    }
   ],
   "source": [
    "oneplus_small['prod_new_tf'] = vectorizer.fit_transform(oneplus_small['Product_clean'])\n",
    "\n",
    "#vectorizer.fit(text)\n",
    "\n",
    "# summarize\n",
    "print(vectorizer.vocabulary_)\n",
    "print(vectorizer.idf_)"
   ]
  },
  {
   "cell_type": "code",
   "execution_count": 36,
   "id": "8394a055",
   "metadata": {},
   "outputs": [
    {
     "data": {
      "text/plain": [
       "0       (0, 2)\\t0.7071067811865475\\n  (0, 1)\\t0.7071...\n",
       "1       (0, 2)\\t0.7071067811865475\\n  (0, 1)\\t0.7071...\n",
       "2       (0, 2)\\t0.7071067811865475\\n  (0, 1)\\t0.7071...\n",
       "3       (0, 2)\\t0.7071067811865475\\n  (0, 1)\\t0.7071...\n",
       "4       (0, 2)\\t0.7071067811865475\\n  (0, 1)\\t0.7071...\n",
       "5       (0, 2)\\t0.7071067811865475\\n  (0, 1)\\t0.7071...\n",
       "6       (0, 2)\\t0.7071067811865475\\n  (0, 1)\\t0.7071...\n",
       "7       (0, 2)\\t0.7071067811865475\\n  (0, 1)\\t0.7071...\n",
       "8       (0, 2)\\t0.7071067811865475\\n  (0, 1)\\t0.7071...\n",
       "9       (0, 2)\\t0.7071067811865475\\n  (0, 1)\\t0.7071...\n",
       "10      (0, 2)\\t0.7071067811865475\\n  (0, 1)\\t0.7071...\n",
       "11      (0, 2)\\t0.7071067811865475\\n  (0, 1)\\t0.7071...\n",
       "12      (0, 2)\\t0.7071067811865475\\n  (0, 1)\\t0.7071...\n",
       "13      (0, 2)\\t0.7071067811865475\\n  (0, 1)\\t0.7071...\n",
       "14      (0, 2)\\t0.7071067811865475\\n  (0, 1)\\t0.7071...\n",
       "15      (0, 2)\\t0.7071067811865475\\n  (0, 1)\\t0.7071...\n",
       "16      (0, 2)\\t0.7071067811865475\\n  (0, 1)\\t0.7071...\n",
       "17      (0, 2)\\t0.7071067811865475\\n  (0, 1)\\t0.7071...\n",
       "18      (0, 2)\\t0.7071067811865475\\n  (0, 1)\\t0.7071...\n",
       "19      (0, 2)\\t0.7071067811865475\\n  (0, 1)\\t0.7071...\n",
       "20      (0, 2)\\t0.7071067811865475\\n  (0, 1)\\t0.7071...\n",
       "21      (0, 2)\\t0.7071067811865475\\n  (0, 1)\\t0.7071...\n",
       "22      (0, 2)\\t0.7071067811865475\\n  (0, 1)\\t0.7071...\n",
       "23      (0, 2)\\t0.7071067811865475\\n  (0, 1)\\t0.7071...\n",
       "24      (0, 2)\\t0.7071067811865475\\n  (0, 1)\\t0.7071...\n",
       "25      (0, 2)\\t0.7071067811865475\\n  (0, 1)\\t0.7071...\n",
       "26      (0, 2)\\t0.7071067811865475\\n  (0, 1)\\t0.7071...\n",
       "27      (0, 2)\\t0.7071067811865475\\n  (0, 1)\\t0.7071...\n",
       "28      (0, 2)\\t0.7071067811865475\\n  (0, 1)\\t0.7071...\n",
       "29      (0, 2)\\t0.7071067811865475\\n  (0, 1)\\t0.7071...\n",
       "30      (0, 2)\\t0.7071067811865475\\n  (0, 1)\\t0.7071...\n",
       "31      (0, 2)\\t0.7071067811865475\\n  (0, 1)\\t0.7071...\n",
       "32      (0, 2)\\t0.7071067811865475\\n  (0, 1)\\t0.7071...\n",
       "33      (0, 2)\\t0.7071067811865475\\n  (0, 1)\\t0.7071...\n",
       "34      (0, 2)\\t0.7071067811865475\\n  (0, 1)\\t0.7071...\n",
       "35      (0, 2)\\t0.7071067811865475\\n  (0, 1)\\t0.7071...\n",
       "36      (0, 2)\\t0.7071067811865475\\n  (0, 1)\\t0.7071...\n",
       "37      (0, 2)\\t0.7071067811865475\\n  (0, 1)\\t0.7071...\n",
       "38      (0, 2)\\t0.7071067811865475\\n  (0, 1)\\t0.7071...\n",
       "39      (0, 2)\\t0.7071067811865475\\n  (0, 1)\\t0.7071...\n",
       "Name: prod_new_tf, dtype: object"
      ]
     },
     "execution_count": 36,
     "metadata": {},
     "output_type": "execute_result"
    }
   ],
   "source": [
    "oneplus_small['prod_new_tf']"
   ]
  },
  {
   "cell_type": "code",
   "execution_count": 52,
   "id": "6acbc0eb",
   "metadata": {},
   "outputs": [
    {
     "data": {
      "text/plain": [
       "[0.8717578384453577,\n",
       " 0.0,\n",
       " 0.0,\n",
       " 0.0,\n",
       " 0.34643778020668986,\n",
       " 0.34643778020668986,\n",
       " 0.0]"
      ]
     },
     "execution_count": 52,
     "metadata": {},
     "output_type": "execute_result"
    }
   ],
   "source": [
    "np.max(oneplus_small.tfidf.values)"
   ]
  },
  {
   "cell_type": "code",
   "execution_count": 53,
   "id": "205b66a4",
   "metadata": {},
   "outputs": [
    {
     "data": {
      "text/plain": [
       "[1.0, 0.0, 0.0, 0.0, 0.0, 0.0, 0.0, 0.0, 0.0, 0.0, 0.0, 0.0]"
      ]
     },
     "execution_count": 53,
     "metadata": {},
     "output_type": "execute_result"
    }
   ],
   "source": [
    "np.max(oneplus_small.cust_tfidf.values)"
   ]
  },
  {
   "cell_type": "code",
   "execution_count": 59,
   "id": "4c756a45",
   "metadata": {},
   "outputs": [],
   "source": [
    "shape=(np.max(oneplus_small.tfidf.values), np.max(oneplus_small.cust_tfidf.values))"
   ]
  },
  {
   "cell_type": "code",
   "execution_count": 60,
   "id": "3d85237c",
   "metadata": {},
   "outputs": [
    {
     "data": {
      "text/plain": [
       "([0.8717578384453577,\n",
       "  0.0,\n",
       "  0.0,\n",
       "  0.0,\n",
       "  0.34643778020668986,\n",
       "  0.34643778020668986,\n",
       "  0.0],\n",
       " [1.0, 0.0, 0.0, 0.0, 0.0, 0.0, 0.0, 0.0, 0.0, 0.0, 0.0, 0.0])"
      ]
     },
     "execution_count": 60,
     "metadata": {},
     "output_type": "execute_result"
    }
   ],
   "source": [
    "shape"
   ]
  },
  {
   "cell_type": "code",
   "execution_count": 61,
   "id": "eb915d06",
   "metadata": {},
   "outputs": [
    {
     "ename": "TypeError",
     "evalue": "'list' object cannot be interpreted as an integer",
     "output_type": "error",
     "traceback": [
      "\u001b[1;31m---------------------------------------------------------------------------\u001b[0m",
      "\u001b[1;31mTypeError\u001b[0m                                 Traceback (most recent call last)",
      "\u001b[1;32m<ipython-input-61-b824d8198ff7>\u001b[0m in \u001b[0;36m<module>\u001b[1;34m\u001b[0m\n\u001b[1;32m----> 1\u001b[1;33m \u001b[0mratings_mat\u001b[0m \u001b[1;33m=\u001b[0m \u001b[0mnp\u001b[0m\u001b[1;33m.\u001b[0m\u001b[0mndarray\u001b[0m\u001b[1;33m(\u001b[0m\u001b[0mshape\u001b[0m\u001b[1;33m,\u001b[0m\u001b[0mdtype\u001b[0m\u001b[1;33m=\u001b[0m\u001b[0mnp\u001b[0m\u001b[1;33m.\u001b[0m\u001b[0muint8\u001b[0m\u001b[1;33m)\u001b[0m\u001b[1;33m\u001b[0m\u001b[1;33m\u001b[0m\u001b[0m\n\u001b[0m",
      "\u001b[1;31mTypeError\u001b[0m: 'list' object cannot be interpreted as an integer"
     ]
    }
   ],
   "source": [
    "ratings_mat = np.ndarray(shape,dtype=np.uint8)"
   ]
  },
  {
   "cell_type": "code",
   "execution_count": 28,
   "id": "b24ce79c",
   "metadata": {},
   "outputs": [
    {
     "ename": "TypeError",
     "evalue": "'list' object cannot be interpreted as an integer",
     "output_type": "error",
     "traceback": [
      "\u001b[1;31m---------------------------------------------------------------------------\u001b[0m",
      "\u001b[1;31mTypeError\u001b[0m                                 Traceback (most recent call last)",
      "\u001b[1;32m<ipython-input-28-f94a89edf9de>\u001b[0m in \u001b[0;36m<module>\u001b[1;34m\u001b[0m\n\u001b[1;32m----> 1\u001b[1;33m ratings_mat = np.ndarray(\n\u001b[0m\u001b[0;32m      2\u001b[0m     \u001b[0mshape\u001b[0m\u001b[1;33m=\u001b[0m\u001b[1;33m(\u001b[0m\u001b[0mnp\u001b[0m\u001b[1;33m.\u001b[0m\u001b[0mmax\u001b[0m\u001b[1;33m(\u001b[0m\u001b[0moneplus_small\u001b[0m\u001b[1;33m.\u001b[0m\u001b[0mtfidf\u001b[0m\u001b[1;33m.\u001b[0m\u001b[0mvalues\u001b[0m\u001b[1;33m)\u001b[0m\u001b[1;33m,\u001b[0m \u001b[0mnp\u001b[0m\u001b[1;33m.\u001b[0m\u001b[0mmax\u001b[0m\u001b[1;33m(\u001b[0m\u001b[0moneplus_small\u001b[0m\u001b[1;33m.\u001b[0m\u001b[0mcust_tfidf\u001b[0m\u001b[1;33m.\u001b[0m\u001b[0mvalues\u001b[0m\u001b[1;33m)\u001b[0m\u001b[1;33m)\u001b[0m\u001b[1;33m,\u001b[0m\u001b[1;33m\u001b[0m\u001b[1;33m\u001b[0m\u001b[0m\n\u001b[0;32m      3\u001b[0m     dtype=np.uint8)\n",
      "\u001b[1;31mTypeError\u001b[0m: 'list' object cannot be interpreted as an integer"
     ]
    }
   ],
   "source": [
    "ratings_mat = np.ndarray(\n",
    "    shape=(np.max(oneplus_small.tfidf.values), np.max(oneplus_small.cust_tfidf.values)),\n",
    "    dtype=np.uint8)"
   ]
  },
  {
   "cell_type": "code",
   "execution_count": 22,
   "id": "2c9e52c6",
   "metadata": {},
   "outputs": [
    {
     "ename": "TypeError",
     "evalue": "'list' object cannot be interpreted as an integer",
     "output_type": "error",
     "traceback": [
      "\u001b[1;31m---------------------------------------------------------------------------\u001b[0m",
      "\u001b[1;31mTypeError\u001b[0m                                 Traceback (most recent call last)",
      "\u001b[1;32m<ipython-input-22-85d28a6ab5fd>\u001b[0m in \u001b[0;36m<module>\u001b[1;34m\u001b[0m\n\u001b[0;32m      1\u001b[0m \u001b[1;31m# Creating the rating matrix (rows as phones, columns as users)\u001b[0m\u001b[1;33m\u001b[0m\u001b[1;33m\u001b[0m\u001b[1;33m\u001b[0m\u001b[0m\n\u001b[0;32m      2\u001b[0m \u001b[1;33m\u001b[0m\u001b[0m\n\u001b[1;32m----> 3\u001b[1;33m ratings_mat = np.ndarray(\n\u001b[0m\u001b[0;32m      4\u001b[0m     \u001b[0mshape\u001b[0m\u001b[1;33m=\u001b[0m\u001b[1;33m(\u001b[0m\u001b[0mnp\u001b[0m\u001b[1;33m.\u001b[0m\u001b[0mmax\u001b[0m\u001b[1;33m(\u001b[0m\u001b[0moneplus_small\u001b[0m\u001b[1;33m.\u001b[0m\u001b[0mtfidf\u001b[0m\u001b[1;33m.\u001b[0m\u001b[0mvalues\u001b[0m\u001b[1;33m)\u001b[0m\u001b[1;33m,\u001b[0m \u001b[0mnp\u001b[0m\u001b[1;33m.\u001b[0m\u001b[0mmax\u001b[0m\u001b[1;33m(\u001b[0m\u001b[0moneplus_small\u001b[0m\u001b[1;33m.\u001b[0m\u001b[0mcust_tfidf\u001b[0m\u001b[1;33m.\u001b[0m\u001b[0mvalues\u001b[0m\u001b[1;33m)\u001b[0m\u001b[1;33m)\u001b[0m\u001b[1;33m,\u001b[0m\u001b[1;33m\u001b[0m\u001b[1;33m\u001b[0m\u001b[0m\n\u001b[0;32m      5\u001b[0m     dtype=np.uint8)\n",
      "\u001b[1;31mTypeError\u001b[0m: 'list' object cannot be interpreted as an integer"
     ]
    }
   ],
   "source": [
    "# Creating the rating matrix (rows as phones, columns as users)\n",
    "\n",
    "ratings_mat = np.ndarray(\n",
    "    shape=(np.max(oneplus_small.tfidf.values), np.max(oneplus_small.cust_tfidf.values)),\n",
    "    dtype=np.uint8)\n",
    "ratings_mat[oneplus_small.tfidf.values-1, oneplus_small.cust_tfidf.values-1] = oneplus_small.Rating.values\n",
    "\n",
    "#Normalizing the matrix(subtract mean off)\n",
    "normalised_mat = ratings_mat - np.asarray([(np.mean(ratings_mat, 1))]).T\n",
    "\n",
    "#Computing the Singular Value Decomposition (SVD)\n",
    "A = normalised_mat.T / np.sqrt(ratings_mat.shape[0] - 1)\n",
    "U, S, V = np.linalg.svd(A)\n"
   ]
  },
  {
   "cell_type": "code",
   "execution_count": 23,
   "id": "bf424c4a",
   "metadata": {},
   "outputs": [
    {
     "ename": "NameError",
     "evalue": "name 'ratings_mat' is not defined",
     "output_type": "error",
     "traceback": [
      "\u001b[1;31m---------------------------------------------------------------------------\u001b[0m",
      "\u001b[1;31mNameError\u001b[0m                                 Traceback (most recent call last)",
      "\u001b[1;32m<ipython-input-23-b8e0338952de>\u001b[0m in \u001b[0;36m<module>\u001b[1;34m\u001b[0m\n\u001b[1;32m----> 1\u001b[1;33m \u001b[0mratings_mat\u001b[0m\u001b[1;33m\u001b[0m\u001b[1;33m\u001b[0m\u001b[0m\n\u001b[0m",
      "\u001b[1;31mNameError\u001b[0m: name 'ratings_mat' is not defined"
     ]
    }
   ],
   "source": [
    "ratings_mat"
   ]
  },
  {
   "cell_type": "code",
   "execution_count": null,
   "id": "2a4b9532",
   "metadata": {},
   "outputs": [],
   "source": [
    "#Function to calculate the cosine similarity (sorting by most similar and returning the top N)\n",
    "def top_cosine_similarity(data, movie_id, top_n=10):\n",
    "    index = movie_id - 1 # Movie id starts from 1 in the dataset\n",
    "    movie_row = data[index, :]\n",
    "    magnitude = np.sqrt(np.einsum('ij, ij -> i', data, data))\n",
    "    similarity = np.dot(movie_row, data.T) / (magnitude[index] * magnitude)\n",
    "    sort_indexes = np.argsort(-similarity)\n",
    "    return sort_indexes[:top_n]\n",
    "\n",
    "# Function to print top N similar movies\n",
    "def print_similar_movies(movie_data, movie_id, top_indexes):\n",
    "    print('Recommendations for {0}: \\n'.format(\n",
    "    movie_data[movie_data.movie_id == movie_id].title.values[0]))\n",
    "    for id in top_indexes + 1:\n",
    "        print(movie_data[movie_data.movie_id == id].title.values[0])\n",
    "\n",
    "#k-principal components to represent movies, movie_id to find recommendations, top_n print n results        \n",
    "k = 50\n",
    "movie_id = 10 # (getting an id from movies.dat)\n",
    "top_n = 10\n",
    "sliced = V.T[:, :k] # representative data\n",
    "indexes = top_cosine_similarity(sliced, movie_id, top_n)\n",
    "\n",
    "#Printing the top N similar movies\n",
    "print_similar_movies(movie_data, movie_id, indexes)"
   ]
  },
  {
   "cell_type": "code",
   "execution_count": 18,
   "id": "288c9fa6",
   "metadata": {},
   "outputs": [],
   "source": [
    "from surprise import KNNWithMeans\n",
    "from surprise import Dataset\n",
    "from surprise import Reader\n",
    "from surprise import accuracy\n",
    "from surprise.model_selection import train_test_split\n"
   ]
  },
  {
   "cell_type": "code",
   "execution_count": 29,
   "id": "bd2e818e",
   "metadata": {},
   "outputs": [
    {
     "name": "stderr",
     "output_type": "stream",
     "text": [
      "<ipython-input-29-ae70cf906e7a>:4: SettingWithCopyWarning: \n",
      "A value is trying to be set on a copy of a slice from a DataFrame.\n",
      "Try using .loc[row_indexer,col_indexer] = value instead\n",
      "\n",
      "See the caveats in the documentation: https://pandas.pydata.org/pandas-docs/stable/user_guide/indexing.html#returning-a-view-versus-a-copy\n",
      "  oneplus_small['Cust-vect'] = vectorizer.fit_transform(oneplus_small['Customer'])\n"
     ]
    },
    {
     "data": {
      "text/plain": [
       "array(['ajay', 'bumrah', 'gokul', 'himayat', 'kohli', 'pandurang',\n",
       "       'pooja', 'priya', 'ramesh', 'ranjani', 'suresh', 'twinkle'],\n",
       "      dtype=object)"
      ]
     },
     "execution_count": 29,
     "metadata": {},
     "output_type": "execute_result"
    }
   ],
   "source": [
    "from sklearn.feature_extraction.text import CountVectorizer\n",
    "\n",
    "vectorizer = CountVectorizer()\n",
    "oneplus_small['Cust-vect'] = vectorizer.fit_transform(oneplus_small['Customer'])\n",
    "vectorizer.get_feature_names_out()"
   ]
  },
  {
   "cell_type": "code",
   "execution_count": 32,
   "id": "bc824c70",
   "metadata": {},
   "outputs": [
    {
     "ename": "AttributeError",
     "evalue": "'Series' object has no attribute 'todense'",
     "output_type": "error",
     "traceback": [
      "\u001b[1;31m---------------------------------------------------------------------------\u001b[0m",
      "\u001b[1;31mAttributeError\u001b[0m                            Traceback (most recent call last)",
      "\u001b[1;32m<ipython-input-32-126ce58ca473>\u001b[0m in \u001b[0;36m<module>\u001b[1;34m\u001b[0m\n\u001b[1;32m----> 1\u001b[1;33m \u001b[0moneplus_small\u001b[0m\u001b[1;33m[\u001b[0m\u001b[1;34m'C1'\u001b[0m\u001b[1;33m]\u001b[0m \u001b[1;33m=\u001b[0m \u001b[0moneplus_small\u001b[0m\u001b[1;33m[\u001b[0m\u001b[1;34m'Cust-vect'\u001b[0m\u001b[1;33m]\u001b[0m\u001b[1;33m.\u001b[0m\u001b[0mtodense\u001b[0m\u001b[1;33m(\u001b[0m\u001b[1;33m)\u001b[0m\u001b[1;33m\u001b[0m\u001b[1;33m\u001b[0m\u001b[0m\n\u001b[0m",
      "\u001b[1;32m~\\anaconda3\\lib\\site-packages\\pandas\\core\\generic.py\u001b[0m in \u001b[0;36m__getattr__\u001b[1;34m(self, name)\u001b[0m\n\u001b[0;32m   5463\u001b[0m             \u001b[1;32mif\u001b[0m \u001b[0mself\u001b[0m\u001b[1;33m.\u001b[0m\u001b[0m_info_axis\u001b[0m\u001b[1;33m.\u001b[0m\u001b[0m_can_hold_identifiers_and_holds_name\u001b[0m\u001b[1;33m(\u001b[0m\u001b[0mname\u001b[0m\u001b[1;33m)\u001b[0m\u001b[1;33m:\u001b[0m\u001b[1;33m\u001b[0m\u001b[1;33m\u001b[0m\u001b[0m\n\u001b[0;32m   5464\u001b[0m                 \u001b[1;32mreturn\u001b[0m \u001b[0mself\u001b[0m\u001b[1;33m[\u001b[0m\u001b[0mname\u001b[0m\u001b[1;33m]\u001b[0m\u001b[1;33m\u001b[0m\u001b[1;33m\u001b[0m\u001b[0m\n\u001b[1;32m-> 5465\u001b[1;33m             \u001b[1;32mreturn\u001b[0m \u001b[0mobject\u001b[0m\u001b[1;33m.\u001b[0m\u001b[0m__getattribute__\u001b[0m\u001b[1;33m(\u001b[0m\u001b[0mself\u001b[0m\u001b[1;33m,\u001b[0m \u001b[0mname\u001b[0m\u001b[1;33m)\u001b[0m\u001b[1;33m\u001b[0m\u001b[1;33m\u001b[0m\u001b[0m\n\u001b[0m\u001b[0;32m   5466\u001b[0m \u001b[1;33m\u001b[0m\u001b[0m\n\u001b[0;32m   5467\u001b[0m     \u001b[1;32mdef\u001b[0m \u001b[0m__setattr__\u001b[0m\u001b[1;33m(\u001b[0m\u001b[0mself\u001b[0m\u001b[1;33m,\u001b[0m \u001b[0mname\u001b[0m\u001b[1;33m:\u001b[0m \u001b[0mstr\u001b[0m\u001b[1;33m,\u001b[0m \u001b[0mvalue\u001b[0m\u001b[1;33m)\u001b[0m \u001b[1;33m->\u001b[0m \u001b[1;32mNone\u001b[0m\u001b[1;33m:\u001b[0m\u001b[1;33m\u001b[0m\u001b[1;33m\u001b[0m\u001b[0m\n",
      "\u001b[1;31mAttributeError\u001b[0m: 'Series' object has no attribute 'todense'"
     ]
    }
   ],
   "source": [
    "oneplus_small['C1'] = oneplus_small['Cust-vect'].todense()"
   ]
  },
  {
   "cell_type": "code",
   "execution_count": 25,
   "id": "2a5e2006",
   "metadata": {},
   "outputs": [],
   "source": [
    "data = Dataset.load_from_df(oneplus_small[['Customer', 'Product', 'rating_scale']], reader=Reader)"
   ]
  },
  {
   "cell_type": "code",
   "execution_count": 30,
   "id": "da37b96e",
   "metadata": {},
   "outputs": [
    {
     "ename": "AttributeError",
     "evalue": "'DatasetAutoFolds' object has no attribute 'head'",
     "output_type": "error",
     "traceback": [
      "\u001b[1;31m---------------------------------------------------------------------------\u001b[0m",
      "\u001b[1;31mAttributeError\u001b[0m                            Traceback (most recent call last)",
      "\u001b[1;32m<ipython-input-30-304fa4ce4ebd>\u001b[0m in \u001b[0;36m<module>\u001b[1;34m\u001b[0m\n\u001b[1;32m----> 1\u001b[1;33m \u001b[0mdata\u001b[0m\u001b[1;33m.\u001b[0m\u001b[0mhead\u001b[0m\u001b[1;33m(\u001b[0m\u001b[1;33m)\u001b[0m\u001b[1;33m\u001b[0m\u001b[1;33m\u001b[0m\u001b[0m\n\u001b[0m",
      "\u001b[1;31mAttributeError\u001b[0m: 'DatasetAutoFolds' object has no attribute 'head'"
     ]
    }
   ],
   "source": []
  },
  {
   "cell_type": "code",
   "execution_count": 26,
   "id": "60dcd5af",
   "metadata": {},
   "outputs": [
    {
     "ename": "AttributeError",
     "evalue": "type object 'Reader' has no attribute 'rating_scale'",
     "output_type": "error",
     "traceback": [
      "\u001b[1;31m---------------------------------------------------------------------------\u001b[0m",
      "\u001b[1;31mAttributeError\u001b[0m                            Traceback (most recent call last)",
      "\u001b[1;32m<ipython-input-26-304b88f8d67b>\u001b[0m in \u001b[0;36m<module>\u001b[1;34m\u001b[0m\n\u001b[1;32m----> 1\u001b[1;33m \u001b[0mtrain_data\u001b[0m\u001b[1;33m,\u001b[0m \u001b[0mtest_data\u001b[0m \u001b[1;33m=\u001b[0m \u001b[0mtrain_test_split\u001b[0m\u001b[1;33m(\u001b[0m\u001b[0mdata\u001b[0m\u001b[1;33m,\u001b[0m \u001b[0mtest_size\u001b[0m \u001b[1;33m=\u001b[0m \u001b[1;36m0.20\u001b[0m\u001b[1;33m,\u001b[0m \u001b[0mrandom_state\u001b[0m\u001b[1;33m=\u001b[0m\u001b[1;36m612\u001b[0m\u001b[1;33m)\u001b[0m\u001b[1;33m\u001b[0m\u001b[1;33m\u001b[0m\u001b[0m\n\u001b[0m",
      "\u001b[1;32m~\\anaconda3\\lib\\site-packages\\surprise\\model_selection\\split.py\u001b[0m in \u001b[0;36mtrain_test_split\u001b[1;34m(data, test_size, train_size, random_state, shuffle)\u001b[0m\n\u001b[0;32m    332\u001b[0m     ss = ShuffleSplit(n_splits=1, test_size=test_size, train_size=train_size,\n\u001b[0;32m    333\u001b[0m                       random_state=random_state, shuffle=shuffle)\n\u001b[1;32m--> 334\u001b[1;33m     \u001b[1;32mreturn\u001b[0m \u001b[0mnext\u001b[0m\u001b[1;33m(\u001b[0m\u001b[0mss\u001b[0m\u001b[1;33m.\u001b[0m\u001b[0msplit\u001b[0m\u001b[1;33m(\u001b[0m\u001b[0mdata\u001b[0m\u001b[1;33m)\u001b[0m\u001b[1;33m)\u001b[0m\u001b[1;33m\u001b[0m\u001b[1;33m\u001b[0m\u001b[0m\n\u001b[0m\u001b[0;32m    335\u001b[0m \u001b[1;33m\u001b[0m\u001b[0m\n\u001b[0;32m    336\u001b[0m \u001b[1;33m\u001b[0m\u001b[0m\n",
      "\u001b[1;32m~\\anaconda3\\lib\\site-packages\\surprise\\model_selection\\split.py\u001b[0m in \u001b[0;36msplit\u001b[1;34m(self, data)\u001b[0m\n\u001b[0;32m    289\u001b[0m                            permutation[test_size:(test_size + train_size)]]\n\u001b[0;32m    290\u001b[0m \u001b[1;33m\u001b[0m\u001b[0m\n\u001b[1;32m--> 291\u001b[1;33m             \u001b[0mtrainset\u001b[0m \u001b[1;33m=\u001b[0m \u001b[0mdata\u001b[0m\u001b[1;33m.\u001b[0m\u001b[0mconstruct_trainset\u001b[0m\u001b[1;33m(\u001b[0m\u001b[0mraw_trainset\u001b[0m\u001b[1;33m)\u001b[0m\u001b[1;33m\u001b[0m\u001b[1;33m\u001b[0m\u001b[0m\n\u001b[0m\u001b[0;32m    292\u001b[0m             \u001b[0mtestset\u001b[0m \u001b[1;33m=\u001b[0m \u001b[0mdata\u001b[0m\u001b[1;33m.\u001b[0m\u001b[0mconstruct_testset\u001b[0m\u001b[1;33m(\u001b[0m\u001b[0mraw_testset\u001b[0m\u001b[1;33m)\u001b[0m\u001b[1;33m\u001b[0m\u001b[1;33m\u001b[0m\u001b[0m\n\u001b[0;32m    293\u001b[0m \u001b[1;33m\u001b[0m\u001b[0m\n",
      "\u001b[1;32m~\\anaconda3\\lib\\site-packages\\surprise\\dataset.py\u001b[0m in \u001b[0;36mconstruct_trainset\u001b[1;34m(self, raw_trainset)\u001b[0m\n\u001b[0;32m    211\u001b[0m                             \u001b[0mn_items\u001b[0m\u001b[1;33m,\u001b[0m\u001b[1;33m\u001b[0m\u001b[1;33m\u001b[0m\u001b[0m\n\u001b[0;32m    212\u001b[0m                             \u001b[0mn_ratings\u001b[0m\u001b[1;33m,\u001b[0m\u001b[1;33m\u001b[0m\u001b[1;33m\u001b[0m\u001b[0m\n\u001b[1;32m--> 213\u001b[1;33m                             \u001b[0mself\u001b[0m\u001b[1;33m.\u001b[0m\u001b[0mreader\u001b[0m\u001b[1;33m.\u001b[0m\u001b[0mrating_scale\u001b[0m\u001b[1;33m,\u001b[0m\u001b[1;33m\u001b[0m\u001b[1;33m\u001b[0m\u001b[0m\n\u001b[0m\u001b[0;32m    214\u001b[0m                             \u001b[0mraw2inner_id_users\u001b[0m\u001b[1;33m,\u001b[0m\u001b[1;33m\u001b[0m\u001b[1;33m\u001b[0m\u001b[0m\n\u001b[0;32m    215\u001b[0m                             raw2inner_id_items)\n",
      "\u001b[1;31mAttributeError\u001b[0m: type object 'Reader' has no attribute 'rating_scale'"
     ]
    }
   ],
   "source": [
    "train_data, test_data = train_test_split(data, test_size = 0.20, random_state=612)"
   ]
  }
 ],
 "metadata": {
  "kernelspec": {
   "display_name": "Python 3",
   "language": "python",
   "name": "python3"
  },
  "language_info": {
   "codemirror_mode": {
    "name": "ipython",
    "version": 3
   },
   "file_extension": ".py",
   "mimetype": "text/x-python",
   "name": "python",
   "nbconvert_exporter": "python",
   "pygments_lexer": "ipython3",
   "version": "3.8.8"
  }
 },
 "nbformat": 4,
 "nbformat_minor": 5
}
